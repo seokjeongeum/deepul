{
 "cells": [
  {
   "cell_type": "markdown",
   "metadata": {
    "id": "view-in-github"
   },
   "source": [
    "<a href=\"https://colab.research.google.com/github/rll/deepul/blob/master/homeworks/hw2/hw2.ipynb\" target=\"_parent\"><img src=\"https://colab.research.google.com/assets/colab-badge.svg\" alt=\"Open In Colab\"/></a>"
   ]
  },
  {
   "cell_type": "markdown",
   "metadata": {
    "id": "dEcSNKhrotPo"
   },
   "source": [
    "# Getting Started\n",
    "\n",
    "## Overview\n",
    "This semester, all homeworks will be conducted through Google Colab notebooks. All code for the homework assignment will be written and run in this notebook. Running in Colab will automatically provide a GPU, but you may also run this notebook locally by following [these instructions](https://research.google.com/colaboratory/local-runtimes.html) if you wish to use your own GPU.\n",
    "\n",
    "You will save images in the notebooks to use and fill out a given LaTeX template which will be submitted to Gradescope, along with your notebook code.\n",
    "\n",
    "## Using Colab\n",
    "On the left-hand side, you can click the different icons to see a Table of Contents of the assignment, as well as local files accessible through the notebook.\n",
    "\n",
    "Make sure to go to **Runtime -> Change runtime type** and select **GPU** as the hardware accelerator. This allows you to use a GPU. Run the cells below to get started on the assignment. Note that a session is open for a maximum of 12 hours, and using too much GPU compute may result in restricted access for a short period of time. Please start the homework early so you have ample time to work.\n",
    "\n",
    "**If you loaded this notebook from clicking \"Open in Colab\" from github, you will need to save it to your own Google Drive to keep your work.**\n",
    "\n",
    "## General Tips\n",
    "In each homework problem, you will implement various autoencoder models and run them on two datasets (dataset 1 and dataset 2). The expected outputs for dataset 1 are already provided to help as a sanity check.\n",
    "\n",
    "Feel free to print whatever output (e.g. debugging code, training code, etc) you want, as the graded submission will be the submitted pdf with images.\n",
    "\n",
    "After you complete the assignment, download all of the image outputted in the results/ folder and upload them to the figure folder in the given latex template.\n",
    "\n",
    "Run the cells below to download and load up the starter code. It may take longer to run since we are using larger datasets."
   ]
  },
  {
   "cell_type": "code",
   "execution_count": 1,
   "metadata": {
    "colab": {
     "base_uri": "https://localhost:8080/"
    },
    "id": "ER_o_stMdlIy",
    "outputId": "dc12a173-5428-4d55-e0ce-ac3411b21cee"
   },
   "outputs": [
    {
     "name": "stderr",
     "output_type": "stream",
     "text": [
      "-d was unexpected at this time.\n",
      "Cloning into 'deepul'...\n",
      "  % Total    % Received % Xferd  Average Speed   Time    Time     Time  Current\n",
      "                                 Dload  Upload   Total   Spent    Left  Speed\n",
      "\n",
      "  0     0    0     0    0     0      0      0 --:--:-- --:--:-- --:--:--     0\n",
      "  0     0    0     0    0     0      0      0 --:--:--  0:00:01 --:--:--     0\n",
      "  0  231M    0 1130k    0     0   616k      0  0:06:23  0:00:01  0:06:22  617k\n",
      "  1  231M    1 3242k    0     0  1145k      0  0:03:26  0:00:02  0:03:24 1146k\n",
      "  2  231M    2 5338k    0     0  1393k      0  0:02:49  0:00:03  0:02:46 1393k\n",
      "  3  231M    3 7402k    0     0  1531k      0  0:02:34  0:00:04  0:02:30 1531k\n",
      "  4  231M    4 9530k    0     0  1634k      0  0:02:24  0:00:05  0:02:19 2084k\n",
      "  4  231M    4 11.3M    0     0  1701k      0  0:02:18  0:00:06  0:02:12 2099k\n",
      "  5  231M    5 13.3M    0     0  1749k      0  0:02:15  0:00:07  0:02:08 2090k\n",
      "  6  231M    6 15.4M    0     0  1790k      0  0:02:12  0:00:08  0:02:04 2095k\n",
      "  7  231M    7 17.4M    0     0  1822k      0  0:02:09  0:00:09  0:02:00 2104k\n",
      "  8  231M    8 19.1M    0     0  1805k      0  0:02:11  0:00:10  0:02:01 2003k\n",
      "  9  231M    9 21.1M    0     0  1830k      0  0:02:09  0:00:11  0:01:58 2006k\n",
      " 10  231M   10 23.2M    0     0  1852k      0  0:02:07  0:00:12  0:01:55 2015k\n",
      " 10  231M   10 25.2M    0     0  1869k      0  0:02:06  0:00:13  0:01:53 2009k\n",
      " 11  231M   11 27.3M    0     0  1885k      0  0:02:05  0:00:14  0:01:51 2009k\n",
      " 12  231M   12 29.3M    0     0  1898k      0  0:02:04  0:00:15  0:01:49 2101k\n",
      " 13  231M   13 31.4M    0     0  1911k      0  0:02:03  0:00:16  0:01:47 2101k\n",
      " 14  231M   14 33.4M    0     0  1920k      0  0:02:03  0:00:17  0:01:46 2096k\n",
      " 15  231M   15 35.4M    0     0  1930k      0  0:02:02  0:00:18  0:01:44 2097k\n",
      " 16  231M   16 37.3M    0     0  1928k      0  0:02:02  0:00:19  0:01:43 2054k\n",
      " 17  231M   17 39.4M    0     0  1936k      0  0:02:02  0:00:20  0:01:42 2056k\n",
      " 17  231M   17 41.4M    0     0  1943k      0  0:02:01  0:00:21  0:01:40 2052k\n",
      " 18  231M   18 43.2M    0     0  1940k      0  0:02:01  0:00:22  0:01:39 2009k\n",
      " 19  231M   19 45.3M    0     0  1946k      0  0:02:01  0:00:23  0:01:38 2009k\n",
      " 20  231M   20 47.3M    0     0  1952k      0  0:02:01  0:00:24  0:01:37 2047k\n",
      " 21  231M   21 49.4M    0     0  1958k      0  0:02:00  0:00:25  0:01:35 2048k\n",
      " 22  231M   22 51.4M    0     0  1963k      0  0:02:00  0:00:26  0:01:34 2049k\n",
      " 23  231M   23 53.4M    0     0  1968k      0  0:02:00  0:00:27  0:01:33 2096k\n",
      " 24  231M   24 55.4M    0     0  1969k      0  0:02:00  0:00:28  0:01:32 2075k\n",
      " 24  231M   24 57.2M    0     0  1964k      0  0:02:00  0:00:29  0:01:31 2026k\n",
      " 25  231M   25 59.2M    0     0  1968k      0  0:02:00  0:00:30  0:01:30 2022k\n",
      " 26  231M   26 61.2M    0     0  1971k      0  0:01:59  0:00:31  0:01:28 2015k\n",
      " 27  231M   27 63.3M    0     0  1976k      0  0:01:59  0:00:32  0:01:27 2019k\n",
      " 28  231M   28 65.4M    0     0  1979k      0  0:01:59  0:00:33  0:01:26 2038k\n",
      " 29  231M   29 67.4M    0     0  1982k      0  0:01:59  0:00:34  0:01:25 2092k\n",
      " 30  231M   30 69.5M    0     0  1986k      0  0:01:59  0:00:35  0:01:24 2095k\n",
      " 30  231M   30 71.5M    0     0  1988k      0  0:01:58  0:00:36  0:01:22 2099k\n",
      " 31  231M   31 73.4M    0     0  1986k      0  0:01:59  0:00:37  0:01:22 2057k\n",
      " 32  231M   32 75.4M    0     0  1989k      0  0:01:58  0:00:38  0:01:20 2057k\n",
      " 33  231M   33 77.4M    0     0  1992k      0  0:01:58  0:00:39  0:01:19 2058k\n",
      " 34  231M   34 79.5M    0     0  1994k      0  0:01:58  0:00:40  0:01:18 2054k\n",
      " 35  231M   35 81.5M    0     0  1997k      0  0:01:58  0:00:41  0:01:17 2058k\n",
      " 36  231M   36 83.4M    0     0  1994k      0  0:01:58  0:00:42  0:01:16 2051k\n",
      " 36  231M   36 85.4M    0     0  1996k      0  0:01:58  0:00:43  0:01:15 2047k\n",
      " 37  231M   37 87.4M    0     0  1998k      0  0:01:58  0:00:44  0:01:14 2047k\n",
      " 38  231M   38 89.5M    0     0  2000k      0  0:01:58  0:00:45  0:01:13 2048k\n",
      " 39  231M   39 91.5M    0     0  2002k      0  0:01:58  0:00:46  0:01:12 2046k\n",
      " 40  231M   40 93.6M    0     0  2004k      0  0:01:58  0:00:47  0:01:11 2089k\n",
      " 41  231M   41 95.6M    0     0  2006k      0  0:01:57  0:00:48  0:01:09 2093k\n",
      " 42  231M   42 97.6M    0     0  2007k      0  0:01:57  0:00:49  0:01:08 2087k\n",
      " 43  231M   43 99.7M    0     0  2009k      0  0:01:57  0:00:50  0:01:07 2091k\n",
      " 44  231M   44  101M    0     0  2008k      0  0:01:57  0:00:51  0:01:06 2065k\n",
      " 44  231M   44  103M    0     0  2008k      0  0:01:57  0:00:52  0:01:05 2048k\n",
      " 45  231M   45  105M    0     0  2009k      0  0:01:57  0:00:53  0:01:04 2047k\n",
      " 46  231M   46  107M    0     0  2011k      0  0:01:57  0:00:54  0:01:03 2054k\n",
      " 47  231M   47  109M    0     0  2008k      0  0:01:57  0:00:55  0:01:02 2000k\n",
      " 48  231M   48  111M    0     0  2010k      0  0:01:57  0:00:56  0:01:01 2030k\n",
      " 49  231M   49  113M    0     0  2011k      0  0:01:57  0:00:57  0:01:00 2048k\n",
      " 50  231M   50  115M    0     0  2010k      0  0:01:57  0:00:58  0:00:59 2019k\n",
      " 50  231M   50  117M    0     0  2012k      0  0:01:57  0:00:59  0:00:58 2022k\n",
      " 51  231M   51  119M    0     0  2013k      0  0:01:57  0:01:00  0:00:57 2070k\n",
      " 52  231M   52  121M    0     0  2011k      0  0:01:57  0:01:01  0:00:56 2019k\n",
      " 53  231M   53  123M    0     0  2012k      0  0:01:57  0:01:02  0:00:55 2025k\n",
      " 54  231M   54  125M    0     0  2010k      0  0:01:57  0:01:03  0:00:54 2003k\n",
      " 55  231M   55  127M    0     0  2008k      0  0:01:57  0:01:04  0:00:53 1958k\n",
      " 55  231M   55  129M    0     0  2009k      0  0:01:57  0:01:05  0:00:52 1960k\n",
      " 56  231M   56  131M    0     0  2011k      0  0:01:57  0:01:06  0:00:51 2016k\n",
      " 57  231M   57  133M    0     0  2012k      0  0:01:57  0:01:07  0:00:50 2006k\n",
      " 58  231M   58  135M    0     0  2013k      0  0:01:57  0:01:08  0:00:49 2060k\n",
      " 59  231M   59  137M    0     0  2015k      0  0:01:57  0:01:09  0:00:48 2102k\n",
      " 60  231M   60  139M    0     0  2016k      0  0:01:57  0:01:10  0:00:47 2100k\n",
      " 61  231M   61  141M    0     0  2013k      0  0:01:57  0:01:11  0:00:46 2042k\n",
      " 61  231M   61  143M    0     0  2013k      0  0:01:57  0:01:12  0:00:45 2021k\n",
      " 62  231M   62  145M    0     0  2013k      0  0:01:57  0:01:13  0:00:44 2011k\n",
      " 63  231M   63  147M    0     0  2013k      0  0:01:57  0:01:14  0:00:43 1998k\n",
      " 64  231M   64  149M    0     0  2015k      0  0:01:57  0:01:15  0:00:42 1999k\n",
      " 65  231M   65  151M    0     0  2015k      0  0:01:57  0:01:16  0:00:41 2048k\n",
      " 66  231M   66  153M    0     0  2017k      0  0:01:57  0:01:17  0:00:40 2077k\n",
      " 67  231M   67  155M    0     0  2018k      0  0:01:57  0:01:18  0:00:39 2084k\n",
      " 68  231M   68  157M    0     0  2016k      0  0:01:57  0:01:19  0:00:38 2051k\n",
      " 68  231M   68  158M    0     0  2014k      0  0:01:57  0:01:20  0:00:37 2000k\n",
      " 69  231M   69  160M    0     0  2014k      0  0:01:57  0:01:21  0:00:36 1985k\n",
      " 70  231M   70  162M    0     0  2013k      0  0:01:57  0:01:22  0:00:35 1948k\n",
      " 71  231M   71  164M    0     0  2013k      0  0:01:57  0:01:23  0:00:34 1945k\n",
      " 72  231M   72  166M    0     0  2014k      0  0:01:57  0:01:24  0:00:33 1991k\n",
      " 73  231M   73  168M    0     0  2012k      0  0:01:57  0:01:25  0:00:32 1978k\n",
      " 73  231M   73  170M    0     0  2013k      0  0:01:57  0:01:26  0:00:31 2009k\n",
      " 74  231M   74  172M    0     0  2014k      0  0:01:57  0:01:27  0:00:30 2042k\n",
      " 75  231M   75  174M    0     0  2015k      0  0:01:57  0:01:28  0:00:29 2044k\n",
      " 76  231M   76  176M    0     0  2013k      0  0:01:57  0:01:29  0:00:28 1993k\n",
      " 77  231M   77  178M    0     0  2014k      0  0:01:57  0:01:30  0:00:27 2060k\n",
      " 78  231M   78  180M    0     0  2015k      0  0:01:57  0:01:31  0:00:26 2048k\n",
      " 79  231M   79  182M    0     0  2016k      0  0:01:57  0:01:32  0:00:25 2046k\n",
      " 80  231M   80  184M    0     0  2017k      0  0:01:57  0:01:33  0:00:24 2048k\n",
      " 80  231M   80  186M    0     0  2016k      0  0:01:57  0:01:34  0:00:23 2063k\n",
      " 81  231M   81  188M    0     0  2013k      0  0:01:57  0:01:35  0:00:22 2000k\n",
      " 82  231M   82  190M    0     0  2014k      0  0:01:57  0:01:36  0:00:21 2000k\n",
      " 83  231M   83  192M    0     0  2015k      0  0:01:57  0:01:37  0:00:20 2003k\n",
      " 84  231M   84  194M    0     0  2016k      0  0:01:57  0:01:38  0:00:19 2002k\n",
      " 84  231M   84  196M    0     0  1996k      0  0:01:58  0:01:40  0:00:18 1681k\n",
      " 84  231M   84  196M    0     0  1990k      0  0:01:58  0:01:40  0:00:18 1550k\n",
      " 85  231M   85  197M    0     0  1988k      0  0:01:58  0:01:41  0:00:17 1481k\n",
      " 86  231M   86  199M    0     0  1989k      0  0:01:58  0:01:42  0:00:16 1475k\n",
      " 87  231M   87  201M    0     0  1990k      0  0:01:58  0:01:43  0:00:15 1474k\n",
      " 88  231M   88  203M    0     0  1991k      0  0:01:58  0:01:44  0:00:14 1860k\n",
      " 89  231M   89  205M    0     0  1992k      0  0:01:58  0:01:45  0:00:13 2037k\n",
      " 90  231M   90  207M    0     0  1992k      0  0:01:58  0:01:46  0:00:12 2071k\n",
      " 90  231M   90  209M    0     0  1992k      0  0:01:58  0:01:47  0:00:11 2054k\n",
      " 91  231M   91  211M    0     0  1993k      0  0:01:58  0:01:48  0:00:10 2052k\n",
      " 92  231M   92  213M    0     0  1992k      0  0:01:58  0:01:49  0:00:09 2009k\n",
      " 93  231M   93  215M    0     0  1992k      0  0:01:58  0:01:50  0:00:08 2002k\n",
      " 94  231M   94  217M    0     0  1993k      0  0:01:58  0:01:51  0:00:07 2024k\n",
      " 95  231M   95  219M    0     0  1991k      0  0:01:58  0:01:52  0:00:06 1974k\n",
      " 95  231M   95  221M    0     0  1993k      0  0:01:58  0:01:53  0:00:05 1988k\n",
      " 96  231M   96  223M    0     0  1993k      0  0:01:58  0:01:54  0:00:04 2022k\n",
      " 97  231M   97  225M    0     0  1989k      0  0:01:58  0:01:55  0:00:03 1905k\n",
      " 98  231M   98  227M    0     0  1990k      0  0:01:58  0:01:56  0:00:02 1916k\n",
      " 99  231M   99  229M    0     0  1991k      0  0:01:58  0:01:57  0:00:01 1987k\n",
      "100  231M  100  231M    0     0  1992k      0  0:01:58  0:01:58 --:--:-- 1975k\n"
     ]
    },
    {
     "name": "stdout",
     "output_type": "stream",
     "text": [
      "Processing c:\\users\\seokj\\pycharmprojects\\deepul\\homeworks\\hw2\\deepul\n",
      "  Preparing metadata (setup.py): started\n",
      "  Preparing metadata (setup.py): finished with status 'done'\n",
      "Building wheels for collected packages: deepul\n",
      "  Building wheel for deepul (setup.py): started\n",
      "  Building wheel for deepul (setup.py): finished with status 'done'\n",
      "  Created wheel for deepul: filename=deepul-0.1.0-py3-none-any.whl size=22932 sha256=f21f7688514c851e6137be842853201abe0f384c54cb164832f602e11b79ca48\n",
      "  Stored in directory: C:\\Users\\seokj\\AppData\\Local\\Temp\\pip-ephem-wheel-cache-782kplnr\\wheels\\8a\\d1\\74\\1b8d1314fa5a26e680dca5de709aed4e7729ecf9e82fe33819\n",
      "Successfully built deepul\n",
      "Installing collected packages: deepul\n",
      "  Attempting uninstall: deepul\n",
      "    Found existing installation: deepul 0.1.0\n",
      "    Uninstalling deepul-0.1.0:\n",
      "      Successfully uninstalled deepul-0.1.0\n",
      "Successfully installed deepul-0.1.0\n"
     ]
    }
   ],
   "source": [
    "!if [ -d deepul ]; then rm -Rf deepul; fi\n",
    "!git clone https://github.com/rll/deepul.git\n",
    "!curl \"https://drive.usercontent.google.com/download?id=1lWjGICwgzgcBDejo9S5g69hLAf0O3lGF&confirm=xxx\" -o hw2_data.zip\n",
    "!unzip -qq hw2_data.zip -d deepul/homeworks/hw2/data\n",
    "%pip install ./deepul\n",
    "from deepul.hw2_helper import *"
   ]
  },
  {
   "cell_type": "markdown",
   "metadata": {
    "id": "IMx4IKP7dtNT"
   },
   "source": [
    "# Question 1: VAEs on 2D Data [20pts]\n",
    "In this question, you will train a simple VAE on 2D data, and look at situations in which latents are being used or not being used (i.e. when posterior collapse occurs)"
   ]
  },
  {
   "cell_type": "markdown",
   "metadata": {
    "id": "2RTrhLn0Ofyd"
   },
   "source": [
    "## Part (a) Data from a Full Covariance Gaussian [10 pts]\n",
    "In this part, we train a VAE on data generated from a Gaussian with a full covariance matrix. Execute the cell below to visualize the datasets."
   ]
  },
  {
   "cell_type": "code",
   "execution_count": 2,
   "metadata": {
    "colab": {
     "base_uri": "https://localhost:8080/",
     "height": 922
    },
    "id": "IKdPunNzdvam",
    "outputId": "28777a58-2d2b-41ed-9b95-96ce4afda8ab"
   },
   "outputs": [
    {
     "name": "stdout",
     "output_type": "stream",
     "text": [
      "Dataset 1\n"
     ]
    },
    {
     "data": {
      "image/png": "[encoded data removed]",
      "text/plain": [
       "<Figure size 640x480 with 2 Axes>"
      ]
     },
     "metadata": {},
     "output_type": "display_data"
    },
    {
     "name": "stdout",
     "output_type": "stream",
     "text": [
      "Dataset 2\n"
     ]
    },
    {
     "data": {
      "image/png": "[encoded data removed]",
      "text/plain": [
       "<Figure size 640x480 with 2 Axes>"
      ]
     },
     "metadata": {},
     "output_type": "display_data"
    }
   ],
   "source": [
    "visualize_q1_data('a', 1)\n",
    "visualize_q1_data('a', 2)"
   ]
  },
  {
   "cell_type": "markdown",
   "metadata": {
    "id": "O5X3VHQ2rvCn"
   },
   "source": [
    "Consruct and train a VAE with the following characteristics\n",
    "*   2D latent variables $z$ with a standard normal prior, $p(z) = N(0, I)$\n",
    "*   An approximate posterior $q_\\theta(z|x) = N(z; \\mu_\\theta(x), \\Sigma_\\theta(x))$, where $\\mu_\\theta(x)$ is the mean vector, and $\\Sigma_\\theta(x)$ is a diagonal covariance matrix\n",
    "*   A decoder $p(x|z) = N(x; \\mu_\\phi(z), \\Sigma_\\phi(z))$, where $\\mu_\\phi(z)$ is the mean vector, and $\\Sigma_\\phi(z)$ is a diagonal covariance matrix\n",
    "\n",
    "**You will provide the following deliverables**\n",
    "\n",
    "\n",
    "1.   Over the course of training, record the average full negative ELBO, reconstruction loss $E_xE_{z\\sim q(z|x)}[-p(x|z)]$, and KL term $E_x[D_{KL}(q(z|x)||p(z))]$ of the training data (per minibatch) and test data (for your entire test set). Code is provided that automatically plots the training curves.\n",
    "2.   Report the final test set performance of your final model\n",
    "3. Samples of your trained VAE with ($z\\sim p(z), x\\sim N(x;\\mu_\\phi(z),\\Sigma_\\phi(z))$) and without ($z\\sim p(z), x = \\mu_\\phi(z)$) decoder noise\n",
    "\n",
    "\n"
   ]
  },
  {
   "cell_type": "markdown",
   "metadata": {
    "id": "D3qice-vN65o"
   },
   "source": [
    "### Solution\n",
    "Fill out the function below and return the neccessary arguments. Feel free to create more cells if need be"
   ]
  },
  {
   "cell_type": "code",
   "execution_count": 3,
   "metadata": {
    "id": "MOYOUBMRrwTz"
   },
   "outputs": [],
   "source": [
    "def q1(train_data, test_data, part, dset_id):\n",
    "    \"\"\"\n",
    "    train_data: An (n_train, 2) numpy array of floats\n",
    "    test_data: An (n_test, 2) numpy array of floats\n",
    "\n",
    "    (You probably won't need to use the two inputs below, but they are there\n",
    "     if you want to use them)\n",
    "    part: An identifying string ('a' or 'b') of which part is being run. Most likely\n",
    "          used to set different hyperparameters for different datasets\n",
    "    dset_id: An identifying number of which dataset is given (1 or 2). Most likely\n",
    "               used to set different hyperparameters for different datasets\n",
    "\n",
    "    Returns\n",
    "    - a (# of training iterations, 3) numpy array of full negative ELBO, reconstruction loss E[-p(x|z)],\n",
    "      and KL term E[KL(q(z|x) | p(z))] evaluated every minibatch\n",
    "    - a (# of epochs + 1, 3) numpy array of full negative ELBO, reconstruciton loss E[-p(x|z)],\n",
    "      and KL term E[KL(q(z|x) | p(z))] evaluated once at initialization and after each epoch\n",
    "    - a numpy array of size (1000, 2) of 1000 samples WITH decoder noise, i.e. sample z ~ p(z), x ~ p(x|z)\n",
    "    - a numpy array of size (1000, 2) of 1000 samples WITHOUT decoder noise, i.e. sample z ~ p(z), x = mu(z)\n",
    "    \"\"\"\n",
    "\n",
    "    \"\"\" YOUR CODE HERE \"\"\""
   ]
  },
  {
   "cell_type": "markdown",
   "metadata": {
    "id": "x_vb7Fn8ODiW"
   },
   "source": [
    "### Results\n",
    "Once you've finished `q1_a`, execute the cells below to visualize and save your results."
   ]
  },
  {
   "cell_type": "code",
   "execution_count": 4,
   "metadata": {
    "colab": {
     "base_uri": "https://localhost:8080/",
     "height": 1000
    },
    "id": "O5oK-YZFOQEq",
    "outputId": "61999a87-5c2b-42d2-f84c-e0636421612a"
   },
   "outputs": [
    {
     "ename": "TypeError",
     "evalue": "cannot unpack non-iterable NoneType object",
     "output_type": "error",
     "traceback": [
      "\u001b[1;31m---------------------------------------------------------------------------\u001b[0m",
      "\u001b[1;31mTypeError\u001b[0m                                 Traceback (most recent call last)",
      "Cell \u001b[1;32mIn[4], line 1\u001b[0m\n\u001b[1;32m----> 1\u001b[0m \u001b[43mq1_save_results\u001b[49m\u001b[43m(\u001b[49m\u001b[38;5;124;43m'\u001b[39;49m\u001b[38;5;124;43ma\u001b[39;49m\u001b[38;5;124;43m'\u001b[39;49m\u001b[43m,\u001b[49m\u001b[43m \u001b[49m\u001b[38;5;241;43m1\u001b[39;49m\u001b[43m,\u001b[49m\u001b[43m \u001b[49m\u001b[43mq1\u001b[49m\u001b[43m)\u001b[49m\n",
      "File \u001b[1;32mc:\\Users\\seokj\\PycharmProjects\\deepul\\.venv\\lib\\site-packages\\deepul\\hw2_helper.py:79\u001b[0m, in \u001b[0;36mq1_save_results\u001b[1;34m(part, dset_id, fn)\u001b[0m\n\u001b[0;32m     77\u001b[0m \u001b[38;5;28;01mdef\u001b[39;00m \u001b[38;5;21mq1_save_results\u001b[39m(part, dset_id, fn):\n\u001b[0;32m     78\u001b[0m     train_data, test_data \u001b[38;5;241m=\u001b[39m q1_sample_data(part, dset_id)\n\u001b[1;32m---> 79\u001b[0m     train_losses, test_losses, samples_noise, samples_nonoise \u001b[38;5;241m=\u001b[39m fn(train_data, test_data, part, dset_id)\n\u001b[0;32m     80\u001b[0m     \u001b[38;5;28mprint\u001b[39m(\u001b[38;5;124mf\u001b[39m\u001b[38;5;124m'\u001b[39m\u001b[38;5;124mFinal -ELBO: \u001b[39m\u001b[38;5;132;01m{\u001b[39;00mtest_losses[\u001b[38;5;241m-\u001b[39m\u001b[38;5;241m1\u001b[39m,\u001b[38;5;250m \u001b[39m\u001b[38;5;241m0\u001b[39m]\u001b[38;5;132;01m:\u001b[39;00m\u001b[38;5;124m.4f\u001b[39m\u001b[38;5;132;01m}\u001b[39;00m\u001b[38;5;124m, Recon Loss: \u001b[39m\u001b[38;5;132;01m{\u001b[39;00mtest_losses[\u001b[38;5;241m-\u001b[39m\u001b[38;5;241m1\u001b[39m,\u001b[38;5;250m \u001b[39m\u001b[38;5;241m1\u001b[39m]\u001b[38;5;132;01m:\u001b[39;00m\u001b[38;5;124m.4f\u001b[39m\u001b[38;5;132;01m}\u001b[39;00m\u001b[38;5;124m, \u001b[39m\u001b[38;5;124m'\u001b[39m\n\u001b[0;32m     81\u001b[0m           \u001b[38;5;124mf\u001b[39m\u001b[38;5;124m'\u001b[39m\u001b[38;5;124mKL Loss: \u001b[39m\u001b[38;5;132;01m{\u001b[39;00mtest_losses[\u001b[38;5;241m-\u001b[39m\u001b[38;5;241m1\u001b[39m,\u001b[38;5;250m \u001b[39m\u001b[38;5;241m2\u001b[39m]\u001b[38;5;132;01m:\u001b[39;00m\u001b[38;5;124m.4f\u001b[39m\u001b[38;5;132;01m}\u001b[39;00m\u001b[38;5;124m'\u001b[39m)\n\u001b[0;32m     83\u001b[0m     plot_vae_training_plot(train_losses, test_losses, \u001b[38;5;124mf\u001b[39m\u001b[38;5;124m'\u001b[39m\u001b[38;5;124mQ1(\u001b[39m\u001b[38;5;132;01m{\u001b[39;00mpart\u001b[38;5;132;01m}\u001b[39;00m\u001b[38;5;124m) Dataset \u001b[39m\u001b[38;5;132;01m{\u001b[39;00mdset_id\u001b[38;5;132;01m}\u001b[39;00m\u001b[38;5;124m Train Plot\u001b[39m\u001b[38;5;124m'\u001b[39m,\n\u001b[0;32m     84\u001b[0m                            \u001b[38;5;124mf\u001b[39m\u001b[38;5;124m'\u001b[39m\u001b[38;5;124mresults/q1_\u001b[39m\u001b[38;5;132;01m{\u001b[39;00mpart\u001b[38;5;132;01m}\u001b[39;00m\u001b[38;5;124m_dset\u001b[39m\u001b[38;5;132;01m{\u001b[39;00mdset_id\u001b[38;5;132;01m}\u001b[39;00m\u001b[38;5;124m_train_plot.png\u001b[39m\u001b[38;5;124m'\u001b[39m)\n",
      "\u001b[1;31mTypeError\u001b[0m: cannot unpack non-iterable NoneType object"
     ]
    }
   ],
   "source": [
    "q1_save_results('a', 1, q1)"
   ]
  },
  {
   "cell_type": "code",
   "execution_count": null,
   "metadata": {
    "colab": {
     "base_uri": "https://localhost:8080/",
     "height": 1000
    },
    "id": "fCdsKGqVi79i",
    "outputId": "7de3427e-f7a8-495f-c65e-b192924bf721"
   },
   "outputs": [],
   "source": [
    "q1_save_results('a', 2, q1)"
   ]
  },
  {
   "cell_type": "markdown",
   "metadata": {
    "id": "5sEbxPOzQuWB"
   },
   "source": [
    "## Part (b) Data from a Diagonal Gaussian [10pts]\n",
    "In this part, we use your code from the previous part to train a VAE on data generated from a diagonal gaussian. Execute the cell below to visualize the datasets (note that they may look the same, but notice the axes)"
   ]
  },
  {
   "cell_type": "code",
   "execution_count": null,
   "metadata": {
    "colab": {
     "base_uri": "https://localhost:8080/",
     "height": 922
    },
    "id": "IQzLsgCYRDXz",
    "outputId": "63667912-9b8b-49eb-eee5-00fa766ac0f5"
   },
   "outputs": [],
   "source": [
    "visualize_q1_data('b', 1)\n",
    "visualize_q1_data('b', 2)"
   ]
  },
  {
   "cell_type": "markdown",
   "metadata": {
    "id": "2t3dPbPsQ-ZI"
   },
   "source": [
    "### Results\n",
    "Execute the cells below to visualize and save your results."
   ]
  },
  {
   "cell_type": "code",
   "execution_count": null,
   "metadata": {
    "colab": {
     "base_uri": "https://localhost:8080/",
     "height": 1000
    },
    "id": "6aF_dZ-kRL8J",
    "outputId": "dfdd8b26-cb53-485a-e0cd-c6ad5956bc11"
   },
   "outputs": [],
   "source": [
    "q1_save_results('b', 1, q1)"
   ]
  },
  {
   "cell_type": "code",
   "execution_count": null,
   "metadata": {
    "colab": {
     "base_uri": "https://localhost:8080/",
     "height": 1000
    },
    "id": "u1DMln9M1mPW",
    "outputId": "412aa03d-2c61-45ac-fc00-a7254a745da6"
   },
   "outputs": [],
   "source": [
    "q1_save_results('b', 2, q1)"
   ]
  },
  {
   "cell_type": "markdown",
   "metadata": {
    "id": "mg22J90qROiO"
   },
   "source": [
    "### Reflection\n",
    "Compare the sampled xs with and without latents in parts (a) and (b). For which datasets are the latents being used? Why is this happening (i.e. why are the latents being ignored in some cases)? **Write your answer (1-2 sentences) in the given latex template**"
   ]
  },
  {
   "cell_type": "markdown",
   "metadata": {
    "id": "xAAixSJ1dv7u"
   },
   "source": [
    "# Question 2: VAEs on Images [40pts]\n",
    "In this question, you will train different VAE models on image datasets. Execute the cell below to visualize the two datasets (colored shapes, and [SVHN](http://ufldl.stanford.edu/housenumbers/))."
   ]
  },
  {
   "cell_type": "code",
   "execution_count": null,
   "metadata": {
    "colab": {
     "base_uri": "https://localhost:8080/",
     "height": 839
    },
    "id": "gj2CDM5bXBTG",
    "outputId": "a75eeb17-b26a-434d-be97-fa4aeac3a38b"
   },
   "outputs": [],
   "source": [
    "visualize_svhn()\n",
    "visualize_cifar10()"
   ]
  },
  {
   "cell_type": "markdown",
   "metadata": {
    "id": "8aX115gIuMwB"
   },
   "source": [
    "## Part (a) VAE [20pts]\n",
    "In this part, implement a standard VAE with the following characteristics:\n",
    "\n",
    "*   16-dim latent variables $z$ with standard normal prior $p(z) = N(0,I)$\n",
    "*   An approximate posterior $q_\\theta(z|x) = N(z; \\mu_\\theta(x), \\Sigma_\\theta(x))$, where $\\mu_\\theta(x)$ is the mean vector, and $\\Sigma_\\theta(x)$ is a diagonal covariance matrix\n",
    "*   A decoder $p(x|z) = N(x; \\mu_\\phi(z), I)$, where $\\mu_\\phi(z)$ is the mean vector. (We are not learning the covariance of the decoder)\n",
    "\n",
    "You can play around with different architectures and try for better results, but the following encoder / decoder architecture below suffices (Note that image input is always $32\\times 32$.\n",
    "```\n",
    "conv2d(in_channels, out_channels, kernel_size, stride, padding)\n",
    "transpose_conv2d(in_channels, out_channels, kernel_size, stride, padding)\n",
    "linear(in_dim, out_dim)\n",
    "\n",
    "Encoder\n",
    "    conv2d(3, 32, 3, 1, 1)\n",
    "    relu()\n",
    "    conv2d(32, 64, 3, 2, 1) # 16 x 16\n",
    "    relu()\n",
    "    conv2d(64, 128, 3, 2, 1) # 8 x 8\n",
    "    relu()\n",
    "    conv2d(128, 256, 3, 2, 1) # 4 x 4\n",
    "    relu()\n",
    "    flatten() # 16\n",
    "    linear(4 * 4 * 256, 2 * latent_dim)\n",
    "\n",
    "Decoder\n",
    "    linear(latent_dim, 4 * 4 * 128)\n",
    "    relu()\n",
    "    reshape(4, 4, 128)\n",
    "    transpose_conv2d(128, 128, 4, 2, 1) # 8 x 8\n",
    "    relu()\n",
    "    transpose_conv2d(128, 64, 4, 2, 1) # 16 x 16\n",
    "    relu()\n",
    "    transpose_conv2d(64, 32, 4, 2, 1) # 32 x 32\n",
    "    relu()\n",
    "    conv2d(32, 3, 3, 1, 1)\n",
    "```\n",
    "\n",
    "You may find the following training tips helpful\n",
    "*   When computing reconstruction loss and KL loss, average over the batch dimension and **sum** over the feature dimension\n",
    "*   When computing reconstruction loss, it suffices to just compute MSE between the reconstructed $x$ and true $x$\n",
    "*   Use batch size 128, learning rate $10^{-3}$, and an Adam optimizer\n",
    "\n",
    "\n",
    "\n",
    "\n",
    "**You will provide the following deliverables**\n",
    "\n",
    "\n",
    "1.   Over the course of training, record the average full negative ELBO, reconstruction loss, and KL term of the training data (per minibatch) and test data (for your entire test set). Code is provided that automatically plots the training curves.\n",
    "2.   Report the final test set performance of your final model\n",
    "3. 100 samples from your trained VAE\n",
    "4. 50 real-image / reconstruction pairs (for some $x$, encode and then decode)\n",
    "5. 10 interpolations of 10 images from your trained VAE (100 images total)\n",
    "\n"
   ]
  },
  {
   "cell_type": "markdown",
   "metadata": {
    "id": "7_pYz61AfW4U"
   },
   "source": [
    "### Solution\n",
    "Fill out the function below and return the neccessary arguments. Feel free to create more cells if need be"
   ]
  },
  {
   "cell_type": "code",
   "execution_count": null,
   "metadata": {
    "id": "LIW7tqSMdwg1"
   },
   "outputs": [],
   "source": [
    "def q2_a(train_data, test_data, dset_id):\n",
    "    \"\"\"\n",
    "    train_data: An (n_train, 32, 32, 3) uint8 numpy array of color images with values in {0, ..., 255}\n",
    "    test_data: An (n_test, 32, 32, 3) uint8 numpy array of color images with values in {0, ..., 255}\n",
    "    dset_id: An identifying number of which dataset is given (1 or 2). Most likely\n",
    "               used to set different hyperparameters for different datasets\n",
    "\n",
    "    Returns\n",
    "    - a (# of training iterations, 3) numpy array of full negative ELBO, reconstruction loss E[-p(x|z)],\n",
    "      and KL term E[KL(q(z|x) | p(z))] evaluated every minibatch\n",
    "    - a (# of epochs + 1, 3) numpy array of full negative ELBO, reconstruciton loss E[-p(x|z)],\n",
    "      and KL term E[KL(q(z|x) | p(z))] evaluated once at initialization and after each epoch\n",
    "    - a (100, 32, 32, 3) numpy array of 100 samples from your VAE with values in {0, ..., 255}\n",
    "    - a (100, 32, 32, 3) numpy array of 50 real image / reconstruction pairs\n",
    "      FROM THE TEST SET with values in {0, ..., 255}\n",
    "    - a (100, 32, 32, 3) numpy array of 10 interpolations of length 10 between\n",
    "      pairs of test images. The output should be those 100 images flattened into\n",
    "      the specified shape with values in {0, ..., 255}\n",
    "    \"\"\"\n",
    "\n",
    "    \"\"\" YOUR CODE HERE \"\"\""
   ]
  },
  {
   "cell_type": "markdown",
   "metadata": {
    "id": "7QJvrGXyfnj0"
   },
   "source": [
    "### Results\n",
    "Once you've finished `q2_a`, execute the cells below to visualize and save your results."
   ]
  },
  {
   "cell_type": "code",
   "execution_count": null,
   "metadata": {
    "colab": {
     "base_uri": "https://localhost:8080/",
     "height": 1000
    },
    "id": "wL7s92ynfqil",
    "outputId": "6d28b6b9-7e52-464b-a780-280eb59a9f59"
   },
   "outputs": [],
   "source": [
    "q2_save_results('a', 1, q2_a)"
   ]
  },
  {
   "cell_type": "code",
   "execution_count": null,
   "metadata": {
    "colab": {
     "base_uri": "https://localhost:8080/",
     "height": 321
    },
    "id": "DCre0Qso1jcV",
    "outputId": "4d13f1e1-d466-46c4-f095-98f91751cfb9"
   },
   "outputs": [],
   "source": [
    "q2_save_results('a', 2, q2_a)"
   ]
  },
  {
   "cell_type": "markdown",
   "metadata": {
    "id": "822YbCb2fsz8"
   },
   "source": [
    "## Part (b) Hierarchical VAE [20pts]\n",
    "\n",
    "In this part, we will explore a simplified version of the hierarchical VAE described in [NVAE](https://arxiv.org/pdf/2007.03898.pdf). We will not implement the full NVAE, but rather use some ideas from the paper to explore how to learn a prior distribution p(z).\n",
    "\n",
    "Implement a hierarchical VAE that follows the following structure.\n",
    "* $z1$ is a 2x2x12 latent vector where p(z1) is the unit Gaussian.\n",
    "    * Learn the approximate posterior $q_\\theta(z|x) = N(z; \\mu_\\theta(x), \\Sigma_\\theta(x))$, where $\\mu_\\theta(x)$ is the mean vector, and $\\Sigma_\\theta(x)$ is a diagonal covariance matrix. I.e., same as a normal VAE, but use a matrix latent rather than a vector. Each dimension is independent.\n",
    "* $z2$ is a 2x2x12 latent vector.\n",
    "    * $p_\\theta(z2|z1)$ is learned, and implemented as a neural network that parameterizes mean (and log std, optionally).\n",
    "    * $q_\\theta(z2|z1,x)$ is also learned. Implement this as a Residual Normal [see NVAE] over the prior $p_\\theta(z2|z1)$.\n",
    "* The decoder should be a function of $z2$ only.\n",
    "\n",
    "Some helpful hints:\n",
    "* Two KL losses should be calculated. The first should match $q_\\theta(z|x)$ to the unit Gaussian. The second should match $q_\\theta(z2|z1,x)$ and $p_\\theta(z2|z1)$, and be taken with respect to $q$.\n",
    "* When calculating the second KL term, utilize the analytic form for the residual normal. When $q_\\theta(z2|z1,x) = N(z2; \\mu_\\theta(z1) + \\Delta \\mu_\\theta(z1,x), \\Sigma_\\theta(z1)) * \\Delta \\Sigma_\\theta(z1,x))$, use the following form: `kl_z2 = -z2_residual_logstd - 0.5 + (torch.exp(2 * z2_residual_logstd) + z2_residual_mu ** 2) * 0.5`\n",
    "* When calculating KL, remember to sum over the dimensions of the latent variable before taking the mean over batch.\n",
    "* For the prior $p_\\theta(z2|z1)$, fix standard deviation to be 1. Learn only the mean. This will help with stability in training.\n",
    "\n",
    "The following network structures may be useful:\n",
    "```\n",
    "conv2d(in_channels, out_channels, kernel_size, stride, padding)\n",
    "transpose_conv2d(in_channels, out_channels, kernel_size, stride, padding)\n",
    "linear(in_dim, out_dim)\n",
    "\n",
    "Encoder\n",
    "        nn.Conv2d(3 + 12, 32, 3, padding=1), # [32, 32, 32]\n",
    "        LayerNorm(32),\n",
    "        nn.ReLU(),\n",
    "        nn.Conv2d(32, 64, 3, stride=2, padding=1), # [64, 16, 16]\n",
    "        LayerNorm(64),\n",
    "        nn.ReLU(),\n",
    "        nn.Conv2d(64, 64, 3, stride=2, padding=1), # [64, 8, 8]\n",
    "        LayerNorm(64),\n",
    "        nn.ReLU(),\n",
    "        nn.Conv2d(64, 64, 3, stride=2, padding=1), # [64, 4, 4]\n",
    "        LayerNorm(64),\n",
    "        nn.ReLU(),\n",
    "        nn.Conv2d(64, 64, 3, stride=2, padding=1), # [64, 2, 2]\n",
    "        LayerNorm(64),\n",
    "        nn.ReLU(),\n",
    "        nn.Conv2d(64, 12*2, 3, padding=1), # [12*2, 2, 2]\n",
    "We assume encoder networks are of the form p(z'|z,x).\n",
    "When learning q(z1), an x of all zeros can be used as input.\n",
    "Upscale z with nearest-neighbor projection before concatenating with x.\n",
    "\n",
    "\n",
    "Decoder\n",
    "        nn.ConvTranspose2d(12, 64, 3, padding=1), # [64, 2, 2]\n",
    "        nn.ReLU(),\n",
    "        nn.ConvTranspose2d(64, 64, 4, stride=2, padding=1), # [64, 4, 4]\n",
    "        nn.ReLU(),\n",
    "        nn.ConvTranspose2d(64, 64, 4, stride=2, padding=1), # [64, 8, 8]\n",
    "        nn.ReLU(),\n",
    "        nn.ConvTranspose2d(64, 64, 4, stride=2, padding=1), # [64, 16, 16]\n",
    "        nn.ReLU(),\n",
    "        nn.ConvTranspose2d(64, 32, 4, stride=2, padding=1), # [32, 32, 32]\n",
    "        nn.ReLU(),\n",
    "        nn.Conv2d(32, 3, 3, padding=1), # [3, 32, 32]\n",
    "```\n",
    "\n",
    "\n",
    "**You will provide the following deliverables**\n",
    "\n",
    "\n",
    "1.   Over the course of training, record the average full negative ELBO, reconstruction loss, and KL term of the training data (per minibatch) and test data (for your entire test set). Code is provided that automatically plots the training curves.\n",
    "2.   Report the final test set performance of your final model\n",
    "3. 100 samples from your trained VAE\n",
    "4. 50 real-image / reconstruction pairs (for some $x$, encode and then decode)\n",
    "5. 10 interpolations of 10 images from your trained VAE (100 images total)\n",
    "\n",
    "\n"
   ]
  },
  {
   "cell_type": "markdown",
   "metadata": {
    "id": "xwT1tOdm0e84"
   },
   "source": [
    "### Solution\n",
    "Fill out the function below and return the neccessary arguments. Feel free to create more cells if need be"
   ]
  },
  {
   "cell_type": "code",
   "execution_count": null,
   "metadata": {
    "id": "CpqhOqW1UDby"
   },
   "outputs": [],
   "source": [
    "def q2_b(train_data, test_data, dset_id):\n",
    "    \"\"\"\n",
    "    train_data: An (n_train, 32, 32, 3) uint8 numpy array of color images with values in {0, ..., 255}\n",
    "    test_data: An (n_test, 32, 32, 3) uint8 numpy array of color images with values in {0, ..., 255}\n",
    "    dset_id: An identifying number of which dataset is given (1 or 2). Most likely\n",
    "               used to set different hyperparameters for different datasets\n",
    "\n",
    "    Returns\n",
    "    - a (# of training iterations, 3) numpy array of full negative ELBO, reconstruction loss E[-p(x|z)],\n",
    "      and KL term E[KL(q(z|x) | p(z))] evaluated every minibatch\n",
    "    - a (# of epochs + 1, 3) numpy array of full negative ELBO, reconstruciton loss E[-p(x|z)],\n",
    "      and KL term E[KL(q(z|x) | p(z))] evaluated once at initialization and after each epoch\n",
    "    - a (100, 32, 32, 3) numpy array of 100 samples from your VAE with values in {0, ..., 255}\n",
    "    - a (100, 32, 32, 3) numpy array of 50 real image / reconstruction pairs\n",
    "      FROM THE TEST SET with values in {0, ..., 255}\n",
    "    - a (100, 32, 32, 3) numpy array of 10 interpolations of length 10 between\n",
    "      pairs of test images. The output should be those 100 images flattened into\n",
    "      the specified shape with values in {0, ..., 255}\n",
    "    \"\"\"\n",
    "\n",
    "    \"\"\" YOUR CODE HERE \"\"\""
   ]
  },
  {
   "cell_type": "markdown",
   "metadata": {
    "id": "_qvP94pm0hYb"
   },
   "source": [
    "### Results\n",
    "Once you've finished `q2_b`, execute the cells below to visualize and save your results."
   ]
  },
  {
   "cell_type": "code",
   "execution_count": null,
   "metadata": {
    "colab": {
     "base_uri": "https://localhost:8080/",
     "height": 1000
    },
    "id": "SPtDMRpf0iAG",
    "outputId": "3a31f0be-432d-41d2-d568-a45c4cb49ed6"
   },
   "outputs": [],
   "source": [
    "q2_save_results('b', 1, q2_b)"
   ]
  },
  {
   "cell_type": "code",
   "execution_count": null,
   "metadata": {
    "colab": {
     "base_uri": "https://localhost:8080/",
     "height": 1000
    },
    "id": "QOdX77hP1HMv",
    "outputId": "4e3d95f3-3497-47d1-da53-077da3ec2bed"
   },
   "outputs": [],
   "source": [
    "q2_save_results('b', 2, q2_b)"
   ]
  },
  {
   "cell_type": "markdown",
   "metadata": {
    "id": "P-EZD8GCdx0B"
   },
   "source": [
    "# Question 3: VQ-VAE [40pts]\n",
    "In this question, you with train a [VQ-VAE](https://arxiv.org/abs/1711.00937) on the colored shapes dataset and SVHN. If you are confused on how the VQ-VAE works, you may find [Lilian Weng's blogpost](https://lilianweng.github.io/lil-log/2018/08/12/from-autoencoder-to-beta-vae.html#vq-vae-and-vq-vae-2) to be useful.\n",
    "\n",
    "You may experiment with different hyperparameters and architecture designs, but the following designs for the VQ-VAE architecture may be useful.\n",
    "\n",
    "```\n",
    "conv2d(in_channels, out_channels, kernel_size, stride, padding)\n",
    "transpose_conv2d(in_channels, out_channels, kernel_size, stride, padding)\n",
    "linear(in_dim, out_dim)\n",
    "batch_norm2d(dim)\n",
    "\n",
    "residual_block(dim)\n",
    "    batch_norm2d(dim)\n",
    "    relu()\n",
    "    conv2d(dim, dim, 3, 1, 1)\n",
    "    batch_norm2d(dim)\n",
    "    relu()\n",
    "    conv2d(dim, dim, 1, 1, 0)\n",
    "\n",
    "Encoder\n",
    "    conv2d(3, 256, 4, 2, 1) 16 x 16\n",
    "    batch_norm2d(256)\n",
    "    relu()\n",
    "    conv2d(256, 256, 4, 2, 1) 8 x 8\n",
    "    residual_block(256)\n",
    "    residual_block(256)\n",
    "\n",
    "Decoder\n",
    "    residual_block(256)\n",
    "    residual_block(256)\n",
    "    batch_norm2d(256)\n",
    "    relu()\n",
    "    transpose_conv2d(256, 256, 4, 2, 1) 16 x 16\n",
    "    batch_norm2d(256)\n",
    "    relu()\n",
    "    transpose_conv2d(256, 3, 4, 2, 1) 32 x 32\n",
    "```\n",
    "\n",
    "A few other tips:\n",
    "*   Use a codebook with $K = 128$ latents each with a $D = 256$ dimensional embedding vector\n",
    "*   You should initialize each element in your $K\\times D$ codebook to be uniformly random in $[-1/K, 1/K]$\n",
    "*   Use batch size 128 with a learning rate of $10^{-3}$ and an Adam optimizer\n",
    "*   Center and scale your images to $[-1, 1]$\n",
    "*   Supposing that $z_e(x)$ is the encoder output, and $z_q(x)$ is the quantized output using the codebook, you can implement the straight-through estimator as follows (where below is fed into the decoder):\n",
    "  * `(z_q(x) - z_e(x)).detach() + z_e(x)` in Pytorch\n",
    "  * `tf.stop_gradient(z_q(x) - z_e(x)) + z_e(x)` in Tensorflow.\n",
    "\n",
    "In addition to training the VQ-VAE, you will also need to train a Transformer prior on the categorical latents in order to sample. Feel free to use your implementation for HW1! You should flatten the VQ-VAE tokens into a [H x W] sequence, and use a start token.\n",
    "\n",
    "**You will provide the following deliverables**\n",
    "\n",
    "\n",
    "1.   Over the course of training, record the average loss of the training data (per minibatch) and test data (for your entire test set) **for both your VQ-VAE and Transformer prior**. Code is provided that automatically plots the training curves.\n",
    "2. Report the final test set performances of your final models\n",
    "3. 100 samples from your trained VQ-VAE and Transformer prior\n",
    "4. 50 real-image / reconstruction pairs (for some $x$, encode and then decode)"
   ]
  },
  {
   "cell_type": "markdown",
   "metadata": {
    "id": "vHZsMrEw5wLN"
   },
   "source": [
    "## Solution\n",
    "Fill out the function below and return the neccessary arguments. Feel free to create more cells if need be"
   ]
  },
  {
   "cell_type": "code",
   "execution_count": null,
   "metadata": {
    "id": "cUQ2V2hLdyUF"
   },
   "outputs": [],
   "source": [
    "def q3(train_data, test_data, dset_id):\n",
    "    \"\"\"\n",
    "    train_data: An (n_train, 32, 32, 3) uint8 numpy array of color images with values in [0, 255]\n",
    "    test_data: An (n_test, 32, 32, 3) uint8 numpy array of color images with values in [0, 255]\n",
    "    dset_id: An identifying number of which dataset is given (1 or 2). Most likely\n",
    "               used to set different hyperparameters for different datasets\n",
    "\n",
    "    Returns\n",
    "    - a (# of training iterations,) numpy array of VQ-VAE train losess evaluated every minibatch\n",
    "    - a (# of epochs + 1,) numpy array of VQ-VAE test losses evaluated once at initialization and after each epoch\n",
    "    - a (# of training iterations,) numpy array of Transformer prior train losess evaluated every minibatch\n",
    "    - a (# of epochs + 1,) numpy array of Transformer prior test losses evaluated once at initialization and after each epoch\n",
    "    - a (100, 32, 32, 3) numpy array of 100 samples with values in {0, ... 255}\n",
    "    - a (100, 32, 32, 3) numpy array of 50 real image / reconstruction pairs\n",
    "      FROM THE TEST SET with values in [0, 255]\n",
    "    \"\"\"\n",
    "\n",
    "    \"\"\" YOUR CODE HERE \"\"\""
   ]
  },
  {
   "cell_type": "markdown",
   "metadata": {
    "id": "Nbn-r53G51X_"
   },
   "source": [
    "## Results\n",
    "Once you've finished `q3`, execute the cells below to visualize and save your results."
   ]
  },
  {
   "cell_type": "code",
   "execution_count": null,
   "metadata": {
    "colab": {
     "base_uri": "https://localhost:8080/",
     "height": 1000
    },
    "id": "ClKjwiAd535z",
    "outputId": "dc4baa34-e868-4e32-f35d-937f3aab2b9e"
   },
   "outputs": [],
   "source": [
    "q3_save_results(1, q3)"
   ]
  },
  {
   "cell_type": "code",
   "execution_count": null,
   "metadata": {
    "id": "5vDEvml-59zA"
   },
   "outputs": [],
   "source": [
    "q3_save_results(2, q3)"
   ]
  },
  {
   "cell_type": "markdown",
   "metadata": {
    "id": "pOS0PKRKdtLS"
   },
   "source": [
    "# File Saving Utility\n"
   ]
  },
  {
   "cell_type": "code",
   "execution_count": null,
   "metadata": {
    "id": "7lMqTnFfdur6"
   },
   "outputs": [],
   "source": [
    "# one way to save files\n",
    "from google.colab import files\n",
    "import os\n",
    "import os.path as osp\n",
    "for fname in os.listdir('results'):\n",
    "    files.download('results/' + fname)"
   ]
  }
 ],
 "metadata": {
  "accelerator": "GPU",
  "colab": {
   "collapsed_sections": [
    "16l6wsRW4k8d",
    "pOS0PKRKdtLS"
   ],
   "provenance": []
  },
  "kernelspec": {
   "display_name": "Python 3",
   "name": "python3"
  },
  "language_info": {
   "codemirror_mode": {
    "name": "ipython",
    "version": 3
   },
   "file_extension": ".py",
   "mimetype": "text/x-python",
   "name": "python",
   "nbconvert_exporter": "python",
   "pygments_lexer": "ipython3",
   "version": "3.9.13"
  }
 },
 "nbformat": 4,
 "nbformat_minor": 0
}
