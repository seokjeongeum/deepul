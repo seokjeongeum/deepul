{
  "cells": [
    {
      "cell_type": "markdown",
      "metadata": {
        "id": "view-in-github",
        "colab_type": "text"
      },
      "source": [
        "<a href=\"https://colab.research.google.com/github/seokjeongeum/deepul/blob/master/homeworks/hw1/hw1.ipynb\" target=\"_parent\"><img src=\"https://colab.research.google.com/assets/colab-badge.svg\" alt=\"Open In Colab\"/></a>"
      ]
    },
    {
      "cell_type": "markdown",
      "metadata": {
        "id": "Rdy1FtrRpGcC"
      },
      "source": [
        "# Getting Started\n",
        "\n",
        "## Overview\n",
        "This semester, all homeworks will be conducted through Google Colab notebooks. All code for the homework assignment will be written and run in this notebook. Running in Colab will automatically provide a GPU, but you may also run this notebook locally by following [these instructions](https://research.google.com/colaboratory/local-runtimes.html) if you wish to use your own GPU.\n",
        "\n",
        "You will save images in the notebooks to use and fill out a given LaTeX template which will be submitted to Gradescope, along with your notebook code.\n",
        "\n",
        "## Using Colab\n",
        "On the left-hand side, you can click the different icons to see a Table of Contents of the assignment, as well as local files accessible through the notebook.\n",
        "\n",
        "Make sure to go to **Runtime -> Change runtime type** and select **GPU** as the hardware accelerator. This allows you to use a GPU. Run the cells below to get started on the assignment. Note that a session is open for a maximum of 12 hours, and using too much GPU compute may result in restricted access for a short period of time. Please start the homework early so you have ample time to work.\n",
        "\n",
        "**If you load this notebook by clicking \"Open in Colab\" from github, you will need to save it to your own Google Drive to keep your work.**\n",
        "\n",
        "## General Tips\n",
        "In each homework problem, you will implement autoregressive models and run it on various datasets. Oftentime you will run it on two datasets (dataset 1 and dataset 2). In these cases, the expected outputs for dataset 1 are already provided to help as a sanity check.\n",
        "\n",
        "Feel free to print whatever output (e.g. debugging code, training code, etc) you want, as the graded submission will be the submitted pdf with images.\n",
        "\n",
        "After you complete the assignment, download all of the images outputted in the results/ folder and upload them to the figure folder in the given latex template.\n",
        "\n",
        "There is a lot of freedom in this homework to design write and design your own models. Hyperparameters are given as a guide to show what worked for us, but feel free to explore and use what you find is best!\n",
        "\n",
        "Run the cells below to download and load up the starter code."
      ]
    },
    {
      "cell_type": "code",
      "execution_count": 4,
      "metadata": {
        "colab": {
          "base_uri": "https://localhost:8080/"
        },
        "id": "wUVy2glDtoaR",
        "outputId": "c54bd03c-bf38-4753-c505-e054db97f5ee"
      },
      "outputs": [
        {
          "output_type": "stream",
          "name": "stdout",
          "text": [
            "Cloning into 'deepul'...\n",
            "remote: Enumerating objects: 254, done.\u001b[K\n",
            "remote: Counting objects: 100% (72/72), done.\u001b[K\n",
            "remote: Compressing objects: 100% (40/40), done.\u001b[K\n",
            "remote: Total 254 (delta 46), reused 32 (delta 32), pack-reused 182\u001b[K\n",
            "Receiving objects: 100% (254/254), 94.70 MiB | 35.89 MiB/s, done.\n",
            "Resolving deltas: 100% (95/95), done.\n",
            "Updating files: 100% (149/149), done.\n",
            "Processing ./deepul\n",
            "  Preparing metadata (setup.py) ... \u001b[?25l\u001b[?25hdone\n",
            "Building wheels for collected packages: deepul\n",
            "  Building wheel for deepul (setup.py) ... \u001b[?25l\u001b[?25hdone\n",
            "  Created wheel for deepul: filename=deepul-0.1.0-py3-none-any.whl size=22738 sha256=a03ec8e9f12a6df749ccba8af9455a41afab64a4244231455f3358d9e857db51\n",
            "  Stored in directory: /tmp/pip-ephem-wheel-cache-wgcgzopt/wheels/89/4d/b7/d666c1fdc2a51554c762f2cfe90dad1098871e7fea5c53eed4\n",
            "Successfully built deepul\n",
            "Installing collected packages: deepul\n",
            "Successfully installed deepul-0.1.0\n"
          ]
        }
      ],
      "source": [
        "!if [ -d deepul ]; then rm -Rf deepul; fi\n",
        "!git clone https://github.com/rll/deepul.git\n",
        "!unzip -qq deepul/homeworks/hw1/data/hw1_data.zip -d deepul/homeworks/hw1/data/\n",
        "!pip install ./deepul"
      ]
    },
    {
      "cell_type": "code",
      "execution_count": 5,
      "metadata": {
        "id": "ZHWosWrbpO5Y"
      },
      "outputs": [],
      "source": [
        "import numpy as np\n",
        "from deepul.hw1_helper import (\n",
        "    # Q1\n",
        "    visualize_q1_data,\n",
        "    q1_sample_data_1,\n",
        "    q1_sample_data_2,\n",
        "    q1_save_results,\n",
        "    # Q2\n",
        "    q2a_save_results,\n",
        "    q2b_save_results,\n",
        "    visualize_q2a_data,\n",
        "    visualize_q2b_data,\n",
        "    # Q3\n",
        "    q3ab_save_results,\n",
        "    q3c_save_results,\n",
        "    # Q4\n",
        "    q4a_save_results,\n",
        "    q4b_save_results,\n",
        "    # Q5\n",
        "    visualize_q5_data,\n",
        "    q5a_save_results,\n",
        "    # Q6\n",
        "    visualize_q6_data,\n",
        "    q6a_save_results,\n",
        ")"
      ]
    },
    {
      "cell_type": "markdown",
      "metadata": {
        "id": "7E4CMktzo100"
      },
      "source": [
        "# Question 1: 1D Data\n",
        "\n",
        "In this question, we will train simple generative models on discrete 1D data.\n",
        "\n",
        "Execute the cell below to visualize our datasets"
      ]
    },
    {
      "cell_type": "code",
      "execution_count": 6,
      "metadata": {
        "colab": {
          "base_uri": "https://localhost:8080/",
          "height": 964
        },
        "id": "ehhv2FZGo4_b",
        "outputId": "46222b11-9e2e-45b4-b94c-226a6ff6a265"
      },
      "outputs": [
        {
          "output_type": "stream",
          "name": "stdout",
          "text": [
            "Dataset 1\n"
          ]
        },
        {
          "output_type": "display_data",
          "data": {
            "text/plain": [
              "<Figure size 640x480 with 2 Axes>"
            ],
            "image/png": "[encoded data removed]"
          },
          "metadata": {}
        },
        {
          "output_type": "stream",
          "name": "stdout",
          "text": [
            "Dataset 2\n"
          ]
        },
        {
          "output_type": "display_data",
          "data": {
            "text/plain": [
              "<Figure size 640x480 with 2 Axes>"
            ],
            "image/png": "[encoded data removed]"
          },
          "metadata": {}
        }
      ],
      "source": [
        "visualize_q1_data(dset_type=1)\n",
        "visualize_q1_data(dset_type=2)"
      ]
    },
    {
      "cell_type": "markdown",
      "metadata": {
        "id": "kSGTVznZqAR3"
      },
      "source": [
        "## Part (a) Fitting a Histogram\n",
        "\n",
        "Let $\\theta = (\\theta_0, \\dots, \\theta_{d-1}) \\in \\mathbb{R}^{d}$ and define the model $p_\\theta(x) = \\frac{e^{\\theta_x}}{\\sum_{x'}e^{\\theta_{x'}}}$\n",
        "\n",
        "Fit $p_\\theta$ with maximum likelihood via stochastic gradient descent on the training set, using $\\theta$ initialized to zero. Use your favorite version of stochastic gradient descent, and optimize your hyperparameters on a validation set of your choice.\n",
        "\n",
        "**You will provide these deliverables**\n",
        "\n",
        "\n",
        "1.   Over the course of training, record the average negative log-likelihood (nats / dim) of the training data (per minibatch) and test data (for your entire test set). Code is provided that automatically plots the training curves.\n",
        "2.   Report the final test set performance of your final model\n",
        "3. Plot the model probabilities in a bar graph with $\\{0,\\dots,d-1\\}$ on the x-axis and a real number in $[0,1]$ on the y-axis.\n",
        "\n",
        "\n"
      ]
    },
    {
      "cell_type": "markdown",
      "metadata": {
        "id": "Yg0Jmo1PSaE4"
      },
      "source": [
        "Fill out the function below and return the necessary arguments. Feel free to create more cells if need be."
      ]
    },
    {
      "cell_type": "code",
      "execution_count": 62,
      "metadata": {
        "id": "BJNa6dHKpEQU"
      },
      "outputs": [],
      "source": [
        "def q1_a(train_data, test_data, d, dset_id):\n",
        "  \"\"\"\n",
        "  train_data: An (n_train,) numpy array of integers in {0, ..., d-1}\n",
        "  test_data: An (n_test,) numpy array of integers in {0, .., d-1}\n",
        "  d: The number of possible discrete values for random variable x\n",
        "  dset_id: An identifying number of which dataset is given (1 or 2). Most likely\n",
        "             used to set different hyperparameters for different datasets\n",
        "\n",
        "  Returns\n",
        "  - a (# of training iterations,) numpy array of train_losses evaluated every minibatch\n",
        "  - a (# of epochs + 1,) numpy array of test_losses evaluated once at initialization and after each epoch\n",
        "  - a numpy array of size (d,) of model probabilities\n",
        "  \"\"\"\n",
        "  import numpy as np\n",
        "  train_losses=[]\n",
        "  test_losses=[]\n",
        "  theta=np.zeros(d)\n",
        "  counts=[0]*d\n",
        "  for i in train_data:\n",
        "    counts[i]+=1\n",
        "  for _ in range(50):\n",
        "    exp_theta=np.exp(theta)\n",
        "    theta+=.05*(counts-exp_theta/np.sum(exp_theta))\n",
        "    print(theta)\n",
        "    train_log_likelihood=np.sum(theta[train_data]-np.log(np.sum(np.exp(theta))))\n",
        "    test_log_likelihood=np.sum(theta[test_data]-np.log(np.sum(np.exp(theta))))\n",
        "    train_losses.append(-train_log_likelihood)\n",
        "    test_losses.append(-test_log_likelihood)\n",
        "  distribution=np.exp(theta)/np.sum(np.exp(theta))\n",
        "  return train_losses, test_losses, distribution"
      ]
    },
    {
      "cell_type": "markdown",
      "metadata": {
        "id": "SiGBSP-ESeIj"
      },
      "source": [
        "### Results\n",
        "\n",
        "Once you've implemented `q1_a`, execute the cells below to visualize and save your results\n",
        "\n"
      ]
    },
    {
      "cell_type": "code",
      "execution_count": 63,
      "metadata": {
        "colab": {
          "base_uri": "https://localhost:8080/",
          "height": 1000
        },
        "id": "qjK_KReXsqYa",
        "outputId": "c45092e2-d5c6-4c17-bd59-d0ea3efc009c"
      },
      "outputs": [
        {
          "output_type": "stream",
          "name": "stdout",
          "text": [
            "[ 6.8975e+00  3.0975e+00  3.4475e+00  4.4475e+00  4.2975e+00  3.6475e+00\n",
            "  3.8975e+00  3.0475e+00  2.6475e+00  1.5975e+00  8.9750e-01  8.9750e-01\n",
            "  5.9750e-01  4.4750e-01  4.7500e-02  4.7500e-02 -2.5000e-03 -2.5000e-03\n",
            " -2.5000e-03 -2.5000e-03]\n",
            "[ 1.37606894e+01  6.19667652e+00  6.89633142e+00  8.89432348e+00\n",
            "  8.59476595e+00  7.29607270e+00  7.79566731e+00  6.09671668e+00\n",
            "  5.29697493e+00  3.19731626e+00  1.79740876e+00  1.79740876e+00\n",
            "  1.19743240e+00  8.97441820e-01  9.74610008e-02  9.74610008e-02\n",
            " -2.53709718e-03 -2.53709718e-03 -2.53709718e-03 -2.53709718e-03]\n",
            "[ 2.06116616e+01  9.29665108e+00  1.03462802e+01  1.33439459e+01\n",
            "  1.28944861e+01  1.09459963e+01  1.16955415e+01  9.14669366e+00\n",
            "  7.94696458e+00  4.79731499e+00  2.69740844e+00  2.69740844e+00\n",
            "  1.79743223e+00  1.34744169e+00  1.47460944e-01  1.47460944e-01\n",
            " -2.53714883e-03 -2.53714883e-03 -2.53714883e-03 -2.53714883e-03]\n",
            "[ 2.74617315e+01  1.23966505e+01  1.37962785e+01  1.77939111e+01\n",
            "  1.71944639e+01  1.45959932e+01  1.55955348e+01  1.21966931e+01\n",
            "  1.05969644e+01  6.39731498e+00  3.59740844e+00  3.59740844e+00\n",
            "  2.39743223e+00  1.79744169e+00  1.97460944e-01  1.97460944e-01\n",
            " -2.53714889e-03 -2.53714889e-03 -2.53714889e-03 -2.53714889e-03]\n",
            "[ 3.43117370e+01  1.54966505e+01  1.72462784e+01  2.22439079e+01\n",
            "  2.14944621e+01  1.82459930e+01  1.94955344e+01  1.52466931e+01\n",
            "  1.32469644e+01  7.99731498e+00  4.49740844e+00  4.49740844e+00\n",
            "  2.99743223e+00  2.24744169e+00  2.47460944e-01  2.47460944e-01\n",
            " -2.53714889e-03 -2.53714889e-03 -2.53714889e-03 -2.53714889e-03]\n",
            "[ 4.11617374e+01  1.85966505e+01  2.06962784e+01  2.66939076e+01\n",
            "  2.57944620e+01  2.18959930e+01  2.33955344e+01  1.82966931e+01\n",
            "  1.58969644e+01  9.59731498e+00  5.39740844e+00  5.39740844e+00\n",
            "  3.59743223e+00  2.69744169e+00  2.97460944e-01  2.97460944e-01\n",
            " -2.53714889e-03 -2.53714889e-03 -2.53714889e-03 -2.53714889e-03]\n",
            "[ 4.80117375e+01  2.16966505e+01  2.41462784e+01  3.11439076e+01\n",
            "  3.00944620e+01  2.55459930e+01  2.72955344e+01  2.13466931e+01\n",
            "  1.85469644e+01  1.11973150e+01  6.29740844e+00  6.29740844e+00\n",
            "  4.19743223e+00  3.14744169e+00  3.47460944e-01  3.47460944e-01\n",
            " -2.53714889e-03 -2.53714889e-03 -2.53714889e-03 -2.53714889e-03]\n",
            "[ 5.48617375e+01  2.47966505e+01  2.75962784e+01  3.55939076e+01\n",
            "  3.43944620e+01  2.91959930e+01  3.11955344e+01  2.43966931e+01\n",
            "  2.11969644e+01  1.27973150e+01  7.19740844e+00  7.19740844e+00\n",
            "  4.79743223e+00  3.59744169e+00  3.97460944e-01  3.97460944e-01\n",
            " -2.53714889e-03 -2.53714889e-03 -2.53714889e-03 -2.53714889e-03]\n",
            "[ 6.17117375e+01  2.78966505e+01  3.10462784e+01  4.00439076e+01\n",
            "  3.86944620e+01  3.28459930e+01  3.50955344e+01  2.74466931e+01\n",
            "  2.38469644e+01  1.43973150e+01  8.09740844e+00  8.09740844e+00\n",
            "  5.39743223e+00  4.04744169e+00  4.47460944e-01  4.47460944e-01\n",
            " -2.53714889e-03 -2.53714889e-03 -2.53714889e-03 -2.53714889e-03]\n",
            "[ 6.85617375e+01  3.09966505e+01  3.44962784e+01  4.44939076e+01\n",
            "  4.29944620e+01  3.64959930e+01  3.89955344e+01  3.04966931e+01\n",
            "  2.64969644e+01  1.59973150e+01  8.99740844e+00  8.99740844e+00\n",
            "  5.99743223e+00  4.49744169e+00  4.97460944e-01  4.97460944e-01\n",
            " -2.53714889e-03 -2.53714889e-03 -2.53714889e-03 -2.53714889e-03]\n",
            "[ 7.54117375e+01  3.40966505e+01  3.79462784e+01  4.89439076e+01\n",
            "  4.72944620e+01  4.01459930e+01  4.28955344e+01  3.35466931e+01\n",
            "  2.91469644e+01  1.75973150e+01  9.89740844e+00  9.89740844e+00\n",
            "  6.59743223e+00  4.94744169e+00  5.47460944e-01  5.47460944e-01\n",
            " -2.53714889e-03 -2.53714889e-03 -2.53714889e-03 -2.53714889e-03]\n",
            "[ 8.22617375e+01  3.71966505e+01  4.13962784e+01  5.33939076e+01\n",
            "  5.15944620e+01  4.37959930e+01  4.67955344e+01  3.65966931e+01\n",
            "  3.17969644e+01  1.91973150e+01  1.07974084e+01  1.07974084e+01\n",
            "  7.19743223e+00  5.39744169e+00  5.97460944e-01  5.97460944e-01\n",
            " -2.53714889e-03 -2.53714889e-03 -2.53714889e-03 -2.53714889e-03]\n",
            "[ 8.91117375e+01  4.02966505e+01  4.48462784e+01  5.78439076e+01\n",
            "  5.58944620e+01  4.74459930e+01  5.06955344e+01  3.96466931e+01\n",
            "  3.44469644e+01  2.07973150e+01  1.16974084e+01  1.16974084e+01\n",
            "  7.79743223e+00  5.84744169e+00  6.47460944e-01  6.47460944e-01\n",
            " -2.53714889e-03 -2.53714889e-03 -2.53714889e-03 -2.53714889e-03]\n",
            "[ 9.59617375e+01  4.33966505e+01  4.82962784e+01  6.22939076e+01\n",
            "  6.01944620e+01  5.10959930e+01  5.45955344e+01  4.26966931e+01\n",
            "  3.70969644e+01  2.23973150e+01  1.25974084e+01  1.25974084e+01\n",
            "  8.39743223e+00  6.29744169e+00  6.97460944e-01  6.97460944e-01\n",
            " -2.53714889e-03 -2.53714889e-03 -2.53714889e-03 -2.53714889e-03]\n",
            "[ 1.02811737e+02  4.64966505e+01  5.17462784e+01  6.67439076e+01\n",
            "  6.44944620e+01  5.47459930e+01  5.84955344e+01  4.57466931e+01\n",
            "  3.97469644e+01  2.39973150e+01  1.34974084e+01  1.34974084e+01\n",
            "  8.99743223e+00  6.74744169e+00  7.47460944e-01  7.47460944e-01\n",
            " -2.53714889e-03 -2.53714889e-03 -2.53714889e-03 -2.53714889e-03]\n",
            "[ 1.09661737e+02  4.95966505e+01  5.51962784e+01  7.11939076e+01\n",
            "  6.87944620e+01  5.83959930e+01  6.23955344e+01  4.87966931e+01\n",
            "  4.23969644e+01  2.55973150e+01  1.43974084e+01  1.43974084e+01\n",
            "  9.59743223e+00  7.19744169e+00  7.97460944e-01  7.97460944e-01\n",
            " -2.53714889e-03 -2.53714889e-03 -2.53714889e-03 -2.53714889e-03]\n",
            "[ 1.16511737e+02  5.26966505e+01  5.86462784e+01  7.56439076e+01\n",
            "  7.30944620e+01  6.20459930e+01  6.62955344e+01  5.18466931e+01\n",
            "  4.50469644e+01  2.71973150e+01  1.52974084e+01  1.52974084e+01\n",
            "  1.01974322e+01  7.64744169e+00  8.47460944e-01  8.47460944e-01\n",
            " -2.53714889e-03 -2.53714889e-03 -2.53714889e-03 -2.53714889e-03]\n",
            "[ 1.23361737e+02  5.57966505e+01  6.20962784e+01  8.00939076e+01\n",
            "  7.73944620e+01  6.56959930e+01  7.01955344e+01  5.48966931e+01\n",
            "  4.76969644e+01  2.87973150e+01  1.61974084e+01  1.61974084e+01\n",
            "  1.07974322e+01  8.09744169e+00  8.97460944e-01  8.97460944e-01\n",
            " -2.53714889e-03 -2.53714889e-03 -2.53714889e-03 -2.53714889e-03]\n",
            "[ 1.30211737e+02  5.88966505e+01  6.55462784e+01  8.45439076e+01\n",
            "  8.16944620e+01  6.93459930e+01  7.40955344e+01  5.79466931e+01\n",
            "  5.03469644e+01  3.03973150e+01  1.70974084e+01  1.70974084e+01\n",
            "  1.13974322e+01  8.54744169e+00  9.47460944e-01  9.47460944e-01\n",
            " -2.53714889e-03 -2.53714889e-03 -2.53714889e-03 -2.53714889e-03]\n",
            "[ 1.37061737e+02  6.19966505e+01  6.89962784e+01  8.89939076e+01\n",
            "  8.59944620e+01  7.29959930e+01  7.79955344e+01  6.09966931e+01\n",
            "  5.29969644e+01  3.19973150e+01  1.79974084e+01  1.79974084e+01\n",
            "  1.19974322e+01  8.99744169e+00  9.97460944e-01  9.97460944e-01\n",
            " -2.53714889e-03 -2.53714889e-03 -2.53714889e-03 -2.53714889e-03]\n",
            "[ 1.43911737e+02  6.50966505e+01  7.24462784e+01  9.34439076e+01\n",
            "  9.02944620e+01  7.66459930e+01  8.18955344e+01  6.40466931e+01\n",
            "  5.56469644e+01  3.35973150e+01  1.88974084e+01  1.88974084e+01\n",
            "  1.25974322e+01  9.44744169e+00  1.04746094e+00  1.04746094e+00\n",
            " -2.53714889e-03 -2.53714889e-03 -2.53714889e-03 -2.53714889e-03]\n",
            "[ 1.50761737e+02  6.81966505e+01  7.58962784e+01  9.78939076e+01\n",
            "  9.45944620e+01  8.02959930e+01  8.57955344e+01  6.70966931e+01\n",
            "  5.82969644e+01  3.51973150e+01  1.97974084e+01  1.97974084e+01\n",
            "  1.31974322e+01  9.89744169e+00  1.09746094e+00  1.09746094e+00\n",
            " -2.53714889e-03 -2.53714889e-03 -2.53714889e-03 -2.53714889e-03]\n",
            "[ 1.57611737e+02  7.12966505e+01  7.93462784e+01  1.02343908e+02\n",
            "  9.88944620e+01  8.39459930e+01  8.96955344e+01  7.01466931e+01\n",
            "  6.09469644e+01  3.67973150e+01  2.06974084e+01  2.06974084e+01\n",
            "  1.37974322e+01  1.03474417e+01  1.14746094e+00  1.14746094e+00\n",
            " -2.53714889e-03 -2.53714889e-03 -2.53714889e-03 -2.53714889e-03]\n",
            "[ 1.64461737e+02  7.43966505e+01  8.27962784e+01  1.06793908e+02\n",
            "  1.03194462e+02  8.75959930e+01  9.35955344e+01  7.31966931e+01\n",
            "  6.35969644e+01  3.83973150e+01  2.15974084e+01  2.15974084e+01\n",
            "  1.43974322e+01  1.07974417e+01  1.19746094e+00  1.19746094e+00\n",
            " -2.53714889e-03 -2.53714889e-03 -2.53714889e-03 -2.53714889e-03]\n",
            "[ 1.71311737e+02  7.74966505e+01  8.62462784e+01  1.11243908e+02\n",
            "  1.07494462e+02  9.12459930e+01  9.74955344e+01  7.62466931e+01\n",
            "  6.62469644e+01  3.99973150e+01  2.24974084e+01  2.24974084e+01\n",
            "  1.49974322e+01  1.12474417e+01  1.24746094e+00  1.24746094e+00\n",
            " -2.53714889e-03 -2.53714889e-03 -2.53714889e-03 -2.53714889e-03]\n",
            "[ 1.78161737e+02  8.05966505e+01  8.96962784e+01  1.15693908e+02\n",
            "  1.11794462e+02  9.48959930e+01  1.01395534e+02  7.92966931e+01\n",
            "  6.88969644e+01  4.15973150e+01  2.33974084e+01  2.33974084e+01\n",
            "  1.55974322e+01  1.16974417e+01  1.29746094e+00  1.29746094e+00\n",
            " -2.53714889e-03 -2.53714889e-03 -2.53714889e-03 -2.53714889e-03]\n",
            "[ 1.85011737e+02  8.36966505e+01  9.31462784e+01  1.20143908e+02\n",
            "  1.16094462e+02  9.85459930e+01  1.05295534e+02  8.23466931e+01\n",
            "  7.15469644e+01  4.31973150e+01  2.42974084e+01  2.42974084e+01\n",
            "  1.61974322e+01  1.21474417e+01  1.34746094e+00  1.34746094e+00\n",
            " -2.53714889e-03 -2.53714889e-03 -2.53714889e-03 -2.53714889e-03]\n",
            "[ 1.91861737e+02  8.67966505e+01  9.65962784e+01  1.24593908e+02\n",
            "  1.20394462e+02  1.02195993e+02  1.09195534e+02  8.53966931e+01\n",
            "  7.41969644e+01  4.47973150e+01  2.51974084e+01  2.51974084e+01\n",
            "  1.67974322e+01  1.25974417e+01  1.39746094e+00  1.39746094e+00\n",
            " -2.53714889e-03 -2.53714889e-03 -2.53714889e-03 -2.53714889e-03]\n",
            "[ 1.98711737e+02  8.98966505e+01  1.00046278e+02  1.29043908e+02\n",
            "  1.24694462e+02  1.05845993e+02  1.13095534e+02  8.84466931e+01\n",
            "  7.68469644e+01  4.63973150e+01  2.60974084e+01  2.60974084e+01\n",
            "  1.73974322e+01  1.30474417e+01  1.44746094e+00  1.44746094e+00\n",
            " -2.53714889e-03 -2.53714889e-03 -2.53714889e-03 -2.53714889e-03]\n",
            "[ 2.05561737e+02  9.29966505e+01  1.03496278e+02  1.33493908e+02\n",
            "  1.28994462e+02  1.09495993e+02  1.16995534e+02  9.14966931e+01\n",
            "  7.94969644e+01  4.79973150e+01  2.69974084e+01  2.69974084e+01\n",
            "  1.79974322e+01  1.34974417e+01  1.49746094e+00  1.49746094e+00\n",
            " -2.53714889e-03 -2.53714889e-03 -2.53714889e-03 -2.53714889e-03]\n",
            "[ 2.12411737e+02  9.60966505e+01  1.06946278e+02  1.37943908e+02\n",
            "  1.33294462e+02  1.13145993e+02  1.20895534e+02  9.45466931e+01\n",
            "  8.21469644e+01  4.95973150e+01  2.78974084e+01  2.78974084e+01\n",
            "  1.85974322e+01  1.39474417e+01  1.54746094e+00  1.54746094e+00\n",
            " -2.53714889e-03 -2.53714889e-03 -2.53714889e-03 -2.53714889e-03]\n",
            "[ 2.19261737e+02  9.91966505e+01  1.10396278e+02  1.42393908e+02\n",
            "  1.37594462e+02  1.16795993e+02  1.24795534e+02  9.75966931e+01\n",
            "  8.47969644e+01  5.11973150e+01  2.87974084e+01  2.87974084e+01\n",
            "  1.91974322e+01  1.43974417e+01  1.59746094e+00  1.59746094e+00\n",
            " -2.53714889e-03 -2.53714889e-03 -2.53714889e-03 -2.53714889e-03]\n",
            "[ 2.26111737e+02  1.02296650e+02  1.13846278e+02  1.46843908e+02\n",
            "  1.41894462e+02  1.20445993e+02  1.28695534e+02  1.00646693e+02\n",
            "  8.74469644e+01  5.27973150e+01  2.96974084e+01  2.96974084e+01\n",
            "  1.97974322e+01  1.48474417e+01  1.64746094e+00  1.64746094e+00\n",
            " -2.53714889e-03 -2.53714889e-03 -2.53714889e-03 -2.53714889e-03]\n",
            "[ 2.32961737e+02  1.05396650e+02  1.17296278e+02  1.51293908e+02\n",
            "  1.46194462e+02  1.24095993e+02  1.32595534e+02  1.03696693e+02\n",
            "  9.00969644e+01  5.43973150e+01  3.05974084e+01  3.05974084e+01\n",
            "  2.03974322e+01  1.52974417e+01  1.69746094e+00  1.69746094e+00\n",
            " -2.53714889e-03 -2.53714889e-03 -2.53714889e-03 -2.53714889e-03]\n",
            "[ 2.39811737e+02  1.08496650e+02  1.20746278e+02  1.55743908e+02\n",
            "  1.50494462e+02  1.27745993e+02  1.36495534e+02  1.06746693e+02\n",
            "  9.27469644e+01  5.59973150e+01  3.14974084e+01  3.14974084e+01\n",
            "  2.09974322e+01  1.57474417e+01  1.74746094e+00  1.74746094e+00\n",
            " -2.53714889e-03 -2.53714889e-03 -2.53714889e-03 -2.53714889e-03]\n",
            "[ 2.46661737e+02  1.11596650e+02  1.24196278e+02  1.60193908e+02\n",
            "  1.54794462e+02  1.31395993e+02  1.40395534e+02  1.09796693e+02\n",
            "  9.53969644e+01  5.75973150e+01  3.23974084e+01  3.23974084e+01\n",
            "  2.15974322e+01  1.61974417e+01  1.79746094e+00  1.79746094e+00\n",
            " -2.53714889e-03 -2.53714889e-03 -2.53714889e-03 -2.53714889e-03]\n",
            "[ 2.53511737e+02  1.14696650e+02  1.27646278e+02  1.64643908e+02\n",
            "  1.59094462e+02  1.35045993e+02  1.44295534e+02  1.12846693e+02\n",
            "  9.80469644e+01  5.91973150e+01  3.32974084e+01  3.32974084e+01\n",
            "  2.21974322e+01  1.66474417e+01  1.84746094e+00  1.84746094e+00\n",
            " -2.53714889e-03 -2.53714889e-03 -2.53714889e-03 -2.53714889e-03]\n",
            "[ 2.60361737e+02  1.17796650e+02  1.31096278e+02  1.69093908e+02\n",
            "  1.63394462e+02  1.38695993e+02  1.48195534e+02  1.15896693e+02\n",
            "  1.00696964e+02  6.07973150e+01  3.41974084e+01  3.41974084e+01\n",
            "  2.27974322e+01  1.70974417e+01  1.89746094e+00  1.89746094e+00\n",
            " -2.53714889e-03 -2.53714889e-03 -2.53714889e-03 -2.53714889e-03]\n",
            "[ 2.67211737e+02  1.20896650e+02  1.34546278e+02  1.73543908e+02\n",
            "  1.67694462e+02  1.42345993e+02  1.52095534e+02  1.18946693e+02\n",
            "  1.03346964e+02  6.23973150e+01  3.50974084e+01  3.50974084e+01\n",
            "  2.33974322e+01  1.75474417e+01  1.94746094e+00  1.94746094e+00\n",
            " -2.53714889e-03 -2.53714889e-03 -2.53714889e-03 -2.53714889e-03]\n",
            "[ 2.74061737e+02  1.23996650e+02  1.37996278e+02  1.77993908e+02\n",
            "  1.71994462e+02  1.45995993e+02  1.55995534e+02  1.21996693e+02\n",
            "  1.05996964e+02  6.39973150e+01  3.59974084e+01  3.59974084e+01\n",
            "  2.39974322e+01  1.79974417e+01  1.99746094e+00  1.99746094e+00\n",
            " -2.53714889e-03 -2.53714889e-03 -2.53714889e-03 -2.53714889e-03]\n",
            "[ 2.80911737e+02  1.27096650e+02  1.41446278e+02  1.82443908e+02\n",
            "  1.76294462e+02  1.49645993e+02  1.59895534e+02  1.25046693e+02\n",
            "  1.08646964e+02  6.55973150e+01  3.68974084e+01  3.68974084e+01\n",
            "  2.45974322e+01  1.84474417e+01  2.04746094e+00  2.04746094e+00\n",
            " -2.53714889e-03 -2.53714889e-03 -2.53714889e-03 -2.53714889e-03]\n",
            "[ 2.87761737e+02  1.30196650e+02  1.44896278e+02  1.86893908e+02\n",
            "  1.80594462e+02  1.53295993e+02  1.63795534e+02  1.28096693e+02\n",
            "  1.11296964e+02  6.71973150e+01  3.77974084e+01  3.77974084e+01\n",
            "  2.51974322e+01  1.88974417e+01  2.09746094e+00  2.09746094e+00\n",
            " -2.53714889e-03 -2.53714889e-03 -2.53714889e-03 -2.53714889e-03]\n",
            "[ 2.94611737e+02  1.33296650e+02  1.48346278e+02  1.91343908e+02\n",
            "  1.84894462e+02  1.56945993e+02  1.67695534e+02  1.31146693e+02\n",
            "  1.13946964e+02  6.87973150e+01  3.86974084e+01  3.86974084e+01\n",
            "  2.57974322e+01  1.93474417e+01  2.14746094e+00  2.14746094e+00\n",
            " -2.53714889e-03 -2.53714889e-03 -2.53714889e-03 -2.53714889e-03]\n",
            "[ 3.01461737e+02  1.36396650e+02  1.51796278e+02  1.95793908e+02\n",
            "  1.89194462e+02  1.60595993e+02  1.71595534e+02  1.34196693e+02\n",
            "  1.16596964e+02  7.03973150e+01  3.95974084e+01  3.95974084e+01\n",
            "  2.63974322e+01  1.97974417e+01  2.19746094e+00  2.19746094e+00\n",
            " -2.53714889e-03 -2.53714889e-03 -2.53714889e-03 -2.53714889e-03]\n",
            "[ 3.08311737e+02  1.39496650e+02  1.55246278e+02  2.00243908e+02\n",
            "  1.93494462e+02  1.64245993e+02  1.75495534e+02  1.37246693e+02\n",
            "  1.19246964e+02  7.19973150e+01  4.04974084e+01  4.04974084e+01\n",
            "  2.69974322e+01  2.02474417e+01  2.24746094e+00  2.24746094e+00\n",
            " -2.53714889e-03 -2.53714889e-03 -2.53714889e-03 -2.53714889e-03]\n",
            "[ 3.15161737e+02  1.42596650e+02  1.58696278e+02  2.04693908e+02\n",
            "  1.97794462e+02  1.67895993e+02  1.79395534e+02  1.40296693e+02\n",
            "  1.21896964e+02  7.35973150e+01  4.13974084e+01  4.13974084e+01\n",
            "  2.75974322e+01  2.06974417e+01  2.29746094e+00  2.29746094e+00\n",
            " -2.53714889e-03 -2.53714889e-03 -2.53714889e-03 -2.53714889e-03]\n",
            "[ 3.22011737e+02  1.45696650e+02  1.62146278e+02  2.09143908e+02\n",
            "  2.02094462e+02  1.71545993e+02  1.83295534e+02  1.43346693e+02\n",
            "  1.24546964e+02  7.51973150e+01  4.22974084e+01  4.22974084e+01\n",
            "  2.81974322e+01  2.11474417e+01  2.34746094e+00  2.34746094e+00\n",
            " -2.53714889e-03 -2.53714889e-03 -2.53714889e-03 -2.53714889e-03]\n",
            "[ 3.28861737e+02  1.48796650e+02  1.65596278e+02  2.13593908e+02\n",
            "  2.06394462e+02  1.75195993e+02  1.87195534e+02  1.46396693e+02\n",
            "  1.27196964e+02  7.67973150e+01  4.31974084e+01  4.31974084e+01\n",
            "  2.87974322e+01  2.15974417e+01  2.39746094e+00  2.39746094e+00\n",
            " -2.53714889e-03 -2.53714889e-03 -2.53714889e-03 -2.53714889e-03]\n",
            "[ 3.35711737e+02  1.51896650e+02  1.69046278e+02  2.18043908e+02\n",
            "  2.10694462e+02  1.78845993e+02  1.91095534e+02  1.49446693e+02\n",
            "  1.29846964e+02  7.83973150e+01  4.40974084e+01  4.40974084e+01\n",
            "  2.93974322e+01  2.20474417e+01  2.44746094e+00  2.44746094e+00\n",
            " -2.53714889e-03 -2.53714889e-03 -2.53714889e-03 -2.53714889e-03]\n",
            "[ 3.42561737e+02  1.54996650e+02  1.72496278e+02  2.22493908e+02\n",
            "  2.14994462e+02  1.82495993e+02  1.94995534e+02  1.52496693e+02\n",
            "  1.32496964e+02  7.99973150e+01  4.49974084e+01  4.49974084e+01\n",
            "  2.99974322e+01  2.24974417e+01  2.49746094e+00  2.49746094e+00\n",
            " -2.53714889e-03 -2.53714889e-03 -2.53714889e-03 -2.53714889e-03]\n",
            "Final Test Loss: 31886.7248\n"
          ]
        },
        {
          "output_type": "display_data",
          "data": {
            "text/plain": [
              "<Figure size 640x480 with 1 Axes>"
            ],
            "image/png": "[encoded data removed]"
          },
          "metadata": {}
        },
        {
          "output_type": "display_data",
          "data": {
            "text/plain": [
              "<Figure size 640x480 with 1 Axes>"
            ],
            "image/png": "[encoded data removed]"
          },
          "metadata": {}
        }
      ],
      "source": [
        "q1_save_results(1, 'a', q1_a)"
      ]
    },
    {
      "cell_type": "code",
      "execution_count": 64,
      "metadata": {
        "id": "sJVOUEaaZXcA",
        "outputId": "6aeb228e-ee12-4946-f560-e78fd5b68e2a",
        "colab": {
          "base_uri": "https://localhost:8080/",
          "height": 1000
        }
      },
      "outputs": [
        {
          "output_type": "stream",
          "name": "stdout",
          "text": [
            "[-5.00000e-04 -5.00000e-04 -5.00000e-04 -5.00000e-04 -5.00000e-04\n",
            " -5.00000e-04 -5.00000e-04 -5.00000e-04 -5.00000e-04 -5.00000e-04\n",
            " -5.00000e-04 -5.00000e-04 -5.00000e-04  4.95000e-02  4.95000e-02\n",
            " -5.00000e-04 -5.00000e-04 -5.00000e-04  4.95000e-02 -5.00000e-04\n",
            "  9.95000e-02  4.95000e-02  1.49500e-01  1.99500e-01  1.49500e-01\n",
            "  5.49500e-01  2.49500e-01  7.99500e-01  7.49500e-01  1.49950e+00\n",
            "  1.69950e+00  1.94950e+00  3.89950e+00  4.64950e+00  5.29950e+00\n",
            "  8.89950e+00  1.04495e+01  1.07495e+01  1.20995e+01  1.34995e+01\n",
            "  1.50995e+01  1.44995e+01  1.37995e+01  1.27495e+01  1.19495e+01\n",
            "  1.27495e+01  8.34950e+00  8.69950e+00  8.69950e+00  7.49950e+00\n",
            "  6.29950e+00  5.99950e+00  5.64950e+00  5.94950e+00  4.79950e+00\n",
            "  4.69950e+00  4.44950e+00  3.39950e+00  4.44950e+00  3.14950e+00\n",
            "  3.79950e+00  3.19950e+00  2.14950e+00  2.29950e+00  2.09950e+00\n",
            "  3.34950e+00  5.59950e+00  1.11995e+01  1.87495e+01  2.64495e+01\n",
            "  2.76995e+01  2.46995e+01  1.53995e+01  7.34950e+00  3.49950e+00\n",
            "  8.99500e-01  3.49500e-01  1.49500e-01  4.95000e-02  4.95000e-02\n",
            "  4.95000e-02  4.95000e-02  4.95000e-02 -5.00000e-04 -5.00000e-04\n",
            " -5.00000e-04 -5.00000e-04 -5.00000e-04 -5.00000e-04 -5.00000e-04\n",
            " -5.00000e-04 -5.00000e-04 -5.00000e-04 -5.00000e-04 -5.00000e-04\n",
            " -5.00000e-04 -5.00000e-04 -5.00000e-04 -5.00000e-04 -5.00000e-04]\n",
            "[-5.00000000e-04 -5.00000000e-04 -5.00000000e-04 -5.00000000e-04\n",
            " -5.00000000e-04 -5.00000000e-04 -5.00000000e-04 -5.00000000e-04\n",
            " -5.00000000e-04 -5.00000000e-04 -5.00000000e-04 -5.00000000e-04\n",
            " -5.00000000e-04  9.95000000e-02  9.95000000e-02 -5.00000000e-04\n",
            " -5.00000000e-04 -5.00000000e-04  9.95000000e-02 -5.00000000e-04\n",
            "  1.99500000e-01  9.95000000e-02  2.99500000e-01  3.99500000e-01\n",
            "  2.99500000e-01  1.09950000e+00  4.99500000e-01  1.59950000e+00\n",
            "  1.49950000e+00  2.99950000e+00  3.39950000e+00  3.89950000e+00\n",
            "  7.79950000e+00  9.29950000e+00  1.05995000e+01  1.77995000e+01\n",
            "  2.08995000e+01  2.14995000e+01  2.41995000e+01  2.69995000e+01\n",
            "  3.01994999e+01  2.89994999e+01  2.75995000e+01  2.54995000e+01\n",
            "  2.38995000e+01  2.54995000e+01  1.66995000e+01  1.73995000e+01\n",
            "  1.73995000e+01  1.49995000e+01  1.25995000e+01  1.19995000e+01\n",
            "  1.12995000e+01  1.18995000e+01  9.59950000e+00  9.39950000e+00\n",
            "  8.89950000e+00  6.79950000e+00  8.89950000e+00  6.29950000e+00\n",
            "  7.59950000e+00  6.39950000e+00  4.29950000e+00  4.59950000e+00\n",
            "  4.19950000e+00  6.69950000e+00  1.11995000e+01  2.23995000e+01\n",
            "  3.74994951e+01  5.28887810e+01  5.53620870e+01  4.93976373e+01\n",
            "  3.07994998e+01  1.46995000e+01  6.99950000e+00  1.79950000e+00\n",
            "  6.99500000e-01  2.99500000e-01  9.95000000e-02  9.95000000e-02\n",
            "  9.95000000e-02  9.95000000e-02  9.95000000e-02 -5.00000000e-04\n",
            " -5.00000000e-04 -5.00000000e-04 -5.00000000e-04 -5.00000000e-04\n",
            " -5.00000000e-04 -5.00000000e-04 -5.00000000e-04 -5.00000000e-04\n",
            " -5.00000000e-04 -5.00000000e-04 -5.00000000e-04 -5.00000000e-04\n",
            " -5.00000000e-04 -5.00000000e-04 -5.00000000e-04 -5.00000000e-04]\n",
            "[-5.00000000e-04 -5.00000000e-04 -5.00000000e-04 -5.00000000e-04\n",
            " -5.00000000e-04 -5.00000000e-04 -5.00000000e-04 -5.00000000e-04\n",
            " -5.00000000e-04 -5.00000000e-04 -5.00000000e-04 -5.00000000e-04\n",
            " -5.00000000e-04  1.49500000e-01  1.49500000e-01 -5.00000000e-04\n",
            " -5.00000000e-04 -5.00000000e-04  1.49500000e-01 -5.00000000e-04\n",
            "  2.99500000e-01  1.49500000e-01  4.49500000e-01  5.99500000e-01\n",
            "  4.49500000e-01  1.64950000e+00  7.49500000e-01  2.39950000e+00\n",
            "  2.24950000e+00  4.49950000e+00  5.09950000e+00  5.84950000e+00\n",
            "  1.16995000e+01  1.39495000e+01  1.58995000e+01  2.66995000e+01\n",
            "  3.13495000e+01  3.22495000e+01  3.62995000e+01  4.04995000e+01\n",
            "  4.52994999e+01  4.34994999e+01  4.13995000e+01  3.82495000e+01\n",
            "  3.58495000e+01  3.82495000e+01  2.50495000e+01  2.60995000e+01\n",
            "  2.60995000e+01  2.24995000e+01  1.88995000e+01  1.79995000e+01\n",
            "  1.69495000e+01  1.78495000e+01  1.43995000e+01  1.40995000e+01\n",
            "  1.33495000e+01  1.01995000e+01  1.33495000e+01  9.44950000e+00\n",
            "  1.13995000e+01  9.59950000e+00  6.44950000e+00  6.89950000e+00\n",
            "  6.29950000e+00  1.00495000e+01  1.67995000e+01  3.35995000e+01\n",
            "  5.62494951e+01  7.93349026e+01  8.30160835e+01  7.40975192e+01\n",
            "  4.61994998e+01  2.20495000e+01  1.04995000e+01  2.69950000e+00\n",
            "  1.04950000e+00  4.49500000e-01  1.49500000e-01  1.49500000e-01\n",
            "  1.49500000e-01  1.49500000e-01  1.49500000e-01 -5.00000000e-04\n",
            " -5.00000000e-04 -5.00000000e-04 -5.00000000e-04 -5.00000000e-04\n",
            " -5.00000000e-04 -5.00000000e-04 -5.00000000e-04 -5.00000000e-04\n",
            " -5.00000000e-04 -5.00000000e-04 -5.00000000e-04 -5.00000000e-04\n",
            " -5.00000000e-04 -5.00000000e-04 -5.00000000e-04 -5.00000000e-04]\n",
            "[-5.00000000e-04 -5.00000000e-04 -5.00000000e-04 -5.00000000e-04\n",
            " -5.00000000e-04 -5.00000000e-04 -5.00000000e-04 -5.00000000e-04\n",
            " -5.00000000e-04 -5.00000000e-04 -5.00000000e-04 -5.00000000e-04\n",
            " -5.00000000e-04  1.99500000e-01  1.99500000e-01 -5.00000000e-04\n",
            " -5.00000000e-04 -5.00000000e-04  1.99500000e-01 -5.00000000e-04\n",
            "  3.99500000e-01  1.99500000e-01  5.99500000e-01  7.99500000e-01\n",
            "  5.99500000e-01  2.19950000e+00  9.99500000e-01  3.19950000e+00\n",
            "  2.99950000e+00  5.99950000e+00  6.79950000e+00  7.79950000e+00\n",
            "  1.55995000e+01  1.85995000e+01  2.11995000e+01  3.55995000e+01\n",
            "  4.17995000e+01  4.29995000e+01  4.83995000e+01  5.39995000e+01\n",
            "  6.03994999e+01  5.79994999e+01  5.51995000e+01  5.09995000e+01\n",
            "  4.77995000e+01  5.09995000e+01  3.33995000e+01  3.47995000e+01\n",
            "  3.47995000e+01  2.99995000e+01  2.51995000e+01  2.39995000e+01\n",
            "  2.25995000e+01  2.37995000e+01  1.91995000e+01  1.87995000e+01\n",
            "  1.77995000e+01  1.35995000e+01  1.77995000e+01  1.25995000e+01\n",
            "  1.51995000e+01  1.27995000e+01  8.59950000e+00  9.19950000e+00\n",
            "  8.39950000e+00  1.33995000e+01  2.23995000e+01  4.47995000e+01\n",
            "  7.49994951e+01  1.05783674e+02  1.10667319e+02  9.87975126e+01\n",
            "  6.15994998e+01  2.93995000e+01  1.39995000e+01  3.59950000e+00\n",
            "  1.39950000e+00  5.99500000e-01  1.99500000e-01  1.99500000e-01\n",
            "  1.99500000e-01  1.99500000e-01  1.99500000e-01 -5.00000000e-04\n",
            " -5.00000000e-04 -5.00000000e-04 -5.00000000e-04 -5.00000000e-04\n",
            " -5.00000000e-04 -5.00000000e-04 -5.00000000e-04 -5.00000000e-04\n",
            " -5.00000000e-04 -5.00000000e-04 -5.00000000e-04 -5.00000000e-04\n",
            " -5.00000000e-04 -5.00000000e-04 -5.00000000e-04 -5.00000000e-04]\n",
            "[-5.00000000e-04 -5.00000000e-04 -5.00000000e-04 -5.00000000e-04\n",
            " -5.00000000e-04 -5.00000000e-04 -5.00000000e-04 -5.00000000e-04\n",
            " -5.00000000e-04 -5.00000000e-04 -5.00000000e-04 -5.00000000e-04\n",
            " -5.00000000e-04  2.49500000e-01  2.49500000e-01 -5.00000000e-04\n",
            " -5.00000000e-04 -5.00000000e-04  2.49500000e-01 -5.00000000e-04\n",
            "  4.99500000e-01  2.49500000e-01  7.49500000e-01  9.99500000e-01\n",
            "  7.49500000e-01  2.74950000e+00  1.24950000e+00  3.99950000e+00\n",
            "  3.74950000e+00  7.49950000e+00  8.49950000e+00  9.74950000e+00\n",
            "  1.94995000e+01  2.32495000e+01  2.64995000e+01  4.44995000e+01\n",
            "  5.22495000e+01  5.37495000e+01  6.04995000e+01  6.74995000e+01\n",
            "  7.54994999e+01  7.24994999e+01  6.89995000e+01  6.37495000e+01\n",
            "  5.97495000e+01  6.37495000e+01  4.17495000e+01  4.34995000e+01\n",
            "  4.34995000e+01  3.74995000e+01  3.14995000e+01  2.99995000e+01\n",
            "  2.82495000e+01  2.97495000e+01  2.39995000e+01  2.34995000e+01\n",
            "  2.22495000e+01  1.69995000e+01  2.22495000e+01  1.57495000e+01\n",
            "  1.89995000e+01  1.59995000e+01  1.07495000e+01  1.14995000e+01\n",
            "  1.04995000e+01  1.67495000e+01  2.79995000e+01  5.59995000e+01\n",
            "  9.37494951e+01  1.32233298e+02  1.38317695e+02  1.23497512e+02\n",
            "  7.69994998e+01  3.67495000e+01  1.74995000e+01  4.49950000e+00\n",
            "  1.74950000e+00  7.49500000e-01  2.49500000e-01  2.49500000e-01\n",
            "  2.49500000e-01  2.49500000e-01  2.49500000e-01 -5.00000000e-04\n",
            " -5.00000000e-04 -5.00000000e-04 -5.00000000e-04 -5.00000000e-04\n",
            " -5.00000000e-04 -5.00000000e-04 -5.00000000e-04 -5.00000000e-04\n",
            " -5.00000000e-04 -5.00000000e-04 -5.00000000e-04 -5.00000000e-04\n",
            " -5.00000000e-04 -5.00000000e-04 -5.00000000e-04 -5.00000000e-04]\n",
            "[-5.00000000e-04 -5.00000000e-04 -5.00000000e-04 -5.00000000e-04\n",
            " -5.00000000e-04 -5.00000000e-04 -5.00000000e-04 -5.00000000e-04\n",
            " -5.00000000e-04 -5.00000000e-04 -5.00000000e-04 -5.00000000e-04\n",
            " -5.00000000e-04  2.99500000e-01  2.99500000e-01 -5.00000000e-04\n",
            " -5.00000000e-04 -5.00000000e-04  2.99500000e-01 -5.00000000e-04\n",
            "  5.99500000e-01  2.99500000e-01  8.99500000e-01  1.19950000e+00\n",
            "  8.99500000e-01  3.29950000e+00  1.49950000e+00  4.79950000e+00\n",
            "  4.49950000e+00  8.99950000e+00  1.01995000e+01  1.16995000e+01\n",
            "  2.33995000e+01  2.78995000e+01  3.17995000e+01  5.33995000e+01\n",
            "  6.26995000e+01  6.44995000e+01  7.25995000e+01  8.09995000e+01\n",
            "  9.05994999e+01  8.69994999e+01  8.27995000e+01  7.64995000e+01\n",
            "  7.16995000e+01  7.64995000e+01  5.00995000e+01  5.21995000e+01\n",
            "  5.21995000e+01  4.49995000e+01  3.77995000e+01  3.59995000e+01\n",
            "  3.38995000e+01  3.56995000e+01  2.87995000e+01  2.81995000e+01\n",
            "  2.66995000e+01  2.03995000e+01  2.66995000e+01  1.88995000e+01\n",
            "  2.27995000e+01  1.91995000e+01  1.28995000e+01  1.37995000e+01\n",
            "  1.25995000e+01  2.00995000e+01  3.35995000e+01  6.71995000e+01\n",
            "  1.12499495e+02  1.58683185e+02  1.65967808e+02  1.48197512e+02\n",
            "  9.23994998e+01  4.40995000e+01  2.09995000e+01  5.39950000e+00\n",
            "  2.09950000e+00  8.99500000e-01  2.99500000e-01  2.99500000e-01\n",
            "  2.99500000e-01  2.99500000e-01  2.99500000e-01 -5.00000000e-04\n",
            " -5.00000000e-04 -5.00000000e-04 -5.00000000e-04 -5.00000000e-04\n",
            " -5.00000000e-04 -5.00000000e-04 -5.00000000e-04 -5.00000000e-04\n",
            " -5.00000000e-04 -5.00000000e-04 -5.00000000e-04 -5.00000000e-04\n",
            " -5.00000000e-04 -5.00000000e-04 -5.00000000e-04 -5.00000000e-04]\n",
            "[-5.00000000e-04 -5.00000000e-04 -5.00000000e-04 -5.00000000e-04\n",
            " -5.00000000e-04 -5.00000000e-04 -5.00000000e-04 -5.00000000e-04\n",
            " -5.00000000e-04 -5.00000000e-04 -5.00000000e-04 -5.00000000e-04\n",
            " -5.00000000e-04  3.49500000e-01  3.49500000e-01 -5.00000000e-04\n",
            " -5.00000000e-04 -5.00000000e-04  3.49500000e-01 -5.00000000e-04\n",
            "  6.99500000e-01  3.49500000e-01  1.04950000e+00  1.39950000e+00\n",
            "  1.04950000e+00  3.84950000e+00  1.74950000e+00  5.59950000e+00\n",
            "  5.24950000e+00  1.04995000e+01  1.18995000e+01  1.36495000e+01\n",
            "  2.72995000e+01  3.25495000e+01  3.70995000e+01  6.22995000e+01\n",
            "  7.31495000e+01  7.52495000e+01  8.46995000e+01  9.44995000e+01\n",
            "  1.05699500e+02  1.01499500e+02  9.65995000e+01  8.92495000e+01\n",
            "  8.36495000e+01  8.92495000e+01  5.84495000e+01  6.08995000e+01\n",
            "  6.08995000e+01  5.24995000e+01  4.40995000e+01  4.19995000e+01\n",
            "  3.95495000e+01  4.16495000e+01  3.35995000e+01  3.28995000e+01\n",
            "  3.11495000e+01  2.37995000e+01  3.11495000e+01  2.20495000e+01\n",
            "  2.65995000e+01  2.23995000e+01  1.50495000e+01  1.60995000e+01\n",
            "  1.46995000e+01  2.34495000e+01  3.91995000e+01  7.83995000e+01\n",
            "  1.31249495e+02  1.85133151e+02  1.93617843e+02  1.72897512e+02\n",
            "  1.07799500e+02  5.14495000e+01  2.44995000e+01  6.29950000e+00\n",
            "  2.44950000e+00  1.04950000e+00  3.49500000e-01  3.49500000e-01\n",
            "  3.49500000e-01  3.49500000e-01  3.49500000e-01 -5.00000000e-04\n",
            " -5.00000000e-04 -5.00000000e-04 -5.00000000e-04 -5.00000000e-04\n",
            " -5.00000000e-04 -5.00000000e-04 -5.00000000e-04 -5.00000000e-04\n",
            " -5.00000000e-04 -5.00000000e-04 -5.00000000e-04 -5.00000000e-04\n",
            " -5.00000000e-04 -5.00000000e-04 -5.00000000e-04 -5.00000000e-04]\n",
            "[-5.00000000e-04 -5.00000000e-04 -5.00000000e-04 -5.00000000e-04\n",
            " -5.00000000e-04 -5.00000000e-04 -5.00000000e-04 -5.00000000e-04\n",
            " -5.00000000e-04 -5.00000000e-04 -5.00000000e-04 -5.00000000e-04\n",
            " -5.00000000e-04  3.99500000e-01  3.99500000e-01 -5.00000000e-04\n",
            " -5.00000000e-04 -5.00000000e-04  3.99500000e-01 -5.00000000e-04\n",
            "  7.99500000e-01  3.99500000e-01  1.19950000e+00  1.59950000e+00\n",
            "  1.19950000e+00  4.39950000e+00  1.99950000e+00  6.39950000e+00\n",
            "  5.99950000e+00  1.19995000e+01  1.35995000e+01  1.55995000e+01\n",
            "  3.11995000e+01  3.71995000e+01  4.23995000e+01  7.11995000e+01\n",
            "  8.35995000e+01  8.59995000e+01  9.67995000e+01  1.07999500e+02\n",
            "  1.20799500e+02  1.15999500e+02  1.10399500e+02  1.01999500e+02\n",
            "  9.55995000e+01  1.01999500e+02  6.67995000e+01  6.95995000e+01\n",
            "  6.95995000e+01  5.99995000e+01  5.03995000e+01  4.79995000e+01\n",
            "  4.51995000e+01  4.75995000e+01  3.83995000e+01  3.75995000e+01\n",
            "  3.55995000e+01  2.71995000e+01  3.55995000e+01  2.51995000e+01\n",
            "  3.03995000e+01  2.55995000e+01  1.71995000e+01  1.83995000e+01\n",
            "  1.67995000e+01  2.67995000e+01  4.47995000e+01  8.95995000e+01\n",
            "  1.49999495e+02  2.11583140e+02  2.21267853e+02  1.97597512e+02\n",
            "  1.23199500e+02  5.87995000e+01  2.79995000e+01  7.19950000e+00\n",
            "  2.79950000e+00  1.19950000e+00  3.99500000e-01  3.99500000e-01\n",
            "  3.99500000e-01  3.99500000e-01  3.99500000e-01 -5.00000000e-04\n",
            " -5.00000000e-04 -5.00000000e-04 -5.00000000e-04 -5.00000000e-04\n",
            " -5.00000000e-04 -5.00000000e-04 -5.00000000e-04 -5.00000000e-04\n",
            " -5.00000000e-04 -5.00000000e-04 -5.00000000e-04 -5.00000000e-04\n",
            " -5.00000000e-04 -5.00000000e-04 -5.00000000e-04 -5.00000000e-04]\n",
            "[-5.00000000e-04 -5.00000000e-04 -5.00000000e-04 -5.00000000e-04\n",
            " -5.00000000e-04 -5.00000000e-04 -5.00000000e-04 -5.00000000e-04\n",
            " -5.00000000e-04 -5.00000000e-04 -5.00000000e-04 -5.00000000e-04\n",
            " -5.00000000e-04  4.49500000e-01  4.49500000e-01 -5.00000000e-04\n",
            " -5.00000000e-04 -5.00000000e-04  4.49500000e-01 -5.00000000e-04\n",
            "  8.99500000e-01  4.49500000e-01  1.34950000e+00  1.79950000e+00\n",
            "  1.34950000e+00  4.94950000e+00  2.24950000e+00  7.19950000e+00\n",
            "  6.74950000e+00  1.34995000e+01  1.52995000e+01  1.75495000e+01\n",
            "  3.50995000e+01  4.18495000e+01  4.76995000e+01  8.00995000e+01\n",
            "  9.40495000e+01  9.67495000e+01  1.08899500e+02  1.21499500e+02\n",
            "  1.35899500e+02  1.30499500e+02  1.24199500e+02  1.14749500e+02\n",
            "  1.07549500e+02  1.14749500e+02  7.51495000e+01  7.82995000e+01\n",
            "  7.82995000e+01  6.74995000e+01  5.66995000e+01  5.39995000e+01\n",
            "  5.08495000e+01  5.35495000e+01  4.31995000e+01  4.22995000e+01\n",
            "  4.00495000e+01  3.05995000e+01  4.00495000e+01  2.83495000e+01\n",
            "  3.41995000e+01  2.87995000e+01  1.93495000e+01  2.06995000e+01\n",
            "  1.88995000e+01  3.01495000e+01  5.03995000e+01  1.00799500e+02\n",
            "  1.68749495e+02  2.38033137e+02  2.48917856e+02  2.22297512e+02\n",
            "  1.38599500e+02  6.61495000e+01  3.14995000e+01  8.09950000e+00\n",
            "  3.14950000e+00  1.34950000e+00  4.49500000e-01  4.49500000e-01\n",
            "  4.49500000e-01  4.49500000e-01  4.49500000e-01 -5.00000000e-04\n",
            " -5.00000000e-04 -5.00000000e-04 -5.00000000e-04 -5.00000000e-04\n",
            " -5.00000000e-04 -5.00000000e-04 -5.00000000e-04 -5.00000000e-04\n",
            " -5.00000000e-04 -5.00000000e-04 -5.00000000e-04 -5.00000000e-04\n",
            " -5.00000000e-04 -5.00000000e-04 -5.00000000e-04 -5.00000000e-04]\n",
            "[-5.00000000e-04 -5.00000000e-04 -5.00000000e-04 -5.00000000e-04\n",
            " -5.00000000e-04 -5.00000000e-04 -5.00000000e-04 -5.00000000e-04\n",
            " -5.00000000e-04 -5.00000000e-04 -5.00000000e-04 -5.00000000e-04\n",
            " -5.00000000e-04  4.99500000e-01  4.99500000e-01 -5.00000000e-04\n",
            " -5.00000000e-04 -5.00000000e-04  4.99500000e-01 -5.00000000e-04\n",
            "  9.99500000e-01  4.99500000e-01  1.49950000e+00  1.99950000e+00\n",
            "  1.49950000e+00  5.49950000e+00  2.49950000e+00  7.99950000e+00\n",
            "  7.49950000e+00  1.49995000e+01  1.69995000e+01  1.94995000e+01\n",
            "  3.89995000e+01  4.64995000e+01  5.29995000e+01  8.89995000e+01\n",
            "  1.04499500e+02  1.07499500e+02  1.20999500e+02  1.34999500e+02\n",
            "  1.50999500e+02  1.44999500e+02  1.37999500e+02  1.27499500e+02\n",
            "  1.19499500e+02  1.27499500e+02  8.34995000e+01  8.69995000e+01\n",
            "  8.69995000e+01  7.49995000e+01  6.29995000e+01  5.99995000e+01\n",
            "  5.64995000e+01  5.94995000e+01  4.79995000e+01  4.69995000e+01\n",
            "  4.44995000e+01  3.39995000e+01  4.44995000e+01  3.14995000e+01\n",
            "  3.79995000e+01  3.19995000e+01  2.14995000e+01  2.29995000e+01\n",
            "  2.09995000e+01  3.34995000e+01  5.59995000e+01  1.11999500e+02\n",
            "  1.87499495e+02  2.64483136e+02  2.76567857e+02  2.46997512e+02\n",
            "  1.53999500e+02  7.34995000e+01  3.49995000e+01  8.99950000e+00\n",
            "  3.49950000e+00  1.49950000e+00  4.99500000e-01  4.99500000e-01\n",
            "  4.99500000e-01  4.99500000e-01  4.99500000e-01 -5.00000000e-04\n",
            " -5.00000000e-04 -5.00000000e-04 -5.00000000e-04 -5.00000000e-04\n",
            " -5.00000000e-04 -5.00000000e-04 -5.00000000e-04 -5.00000000e-04\n",
            " -5.00000000e-04 -5.00000000e-04 -5.00000000e-04 -5.00000000e-04\n",
            " -5.00000000e-04 -5.00000000e-04 -5.00000000e-04 -5.00000000e-04]\n",
            "[-5.00000000e-04 -5.00000000e-04 -5.00000000e-04 -5.00000000e-04\n",
            " -5.00000000e-04 -5.00000000e-04 -5.00000000e-04 -5.00000000e-04\n",
            " -5.00000000e-04 -5.00000000e-04 -5.00000000e-04 -5.00000000e-04\n",
            " -5.00000000e-04  5.49500000e-01  5.49500000e-01 -5.00000000e-04\n",
            " -5.00000000e-04 -5.00000000e-04  5.49500000e-01 -5.00000000e-04\n",
            "  1.09950000e+00  5.49500000e-01  1.64950000e+00  2.19950000e+00\n",
            "  1.64950000e+00  6.04950000e+00  2.74950000e+00  8.79950000e+00\n",
            "  8.24950000e+00  1.64995000e+01  1.86995000e+01  2.14495000e+01\n",
            "  4.28995000e+01  5.11495000e+01  5.82995000e+01  9.78995000e+01\n",
            "  1.14949500e+02  1.18249500e+02  1.33099500e+02  1.48499500e+02\n",
            "  1.66099500e+02  1.59499500e+02  1.51799500e+02  1.40249500e+02\n",
            "  1.31449500e+02  1.40249500e+02  9.18495000e+01  9.56995000e+01\n",
            "  9.56995000e+01  8.24995000e+01  6.92995000e+01  6.59995000e+01\n",
            "  6.21495000e+01  6.54495000e+01  5.27995000e+01  5.16995000e+01\n",
            "  4.89495000e+01  3.73995000e+01  4.89495000e+01  3.46495000e+01\n",
            "  4.17995000e+01  3.51995000e+01  2.36495000e+01  2.52995000e+01\n",
            "  2.30995000e+01  3.68495000e+01  6.15995000e+01  1.23199500e+02\n",
            "  2.06249495e+02  2.90933136e+02  3.04217857e+02  2.71697512e+02\n",
            "  1.69399500e+02  8.08495000e+01  3.84995000e+01  9.89950000e+00\n",
            "  3.84950000e+00  1.64950000e+00  5.49500000e-01  5.49500000e-01\n",
            "  5.49500000e-01  5.49500000e-01  5.49500000e-01 -5.00000000e-04\n",
            " -5.00000000e-04 -5.00000000e-04 -5.00000000e-04 -5.00000000e-04\n",
            " -5.00000000e-04 -5.00000000e-04 -5.00000000e-04 -5.00000000e-04\n",
            " -5.00000000e-04 -5.00000000e-04 -5.00000000e-04 -5.00000000e-04\n",
            " -5.00000000e-04 -5.00000000e-04 -5.00000000e-04 -5.00000000e-04]\n",
            "[-5.00000000e-04 -5.00000000e-04 -5.00000000e-04 -5.00000000e-04\n",
            " -5.00000000e-04 -5.00000000e-04 -5.00000000e-04 -5.00000000e-04\n",
            " -5.00000000e-04 -5.00000000e-04 -5.00000000e-04 -5.00000000e-04\n",
            " -5.00000000e-04  5.99500000e-01  5.99500000e-01 -5.00000000e-04\n",
            " -5.00000000e-04 -5.00000000e-04  5.99500000e-01 -5.00000000e-04\n",
            "  1.19950000e+00  5.99500000e-01  1.79950000e+00  2.39950000e+00\n",
            "  1.79950000e+00  6.59950000e+00  2.99950000e+00  9.59950000e+00\n",
            "  8.99950000e+00  1.79995000e+01  2.03995000e+01  2.33995000e+01\n",
            "  4.67995000e+01  5.57995000e+01  6.35995000e+01  1.06799500e+02\n",
            "  1.25399500e+02  1.28999500e+02  1.45199500e+02  1.61999500e+02\n",
            "  1.81199500e+02  1.73999500e+02  1.65599500e+02  1.52999500e+02\n",
            "  1.43399500e+02  1.52999500e+02  1.00199500e+02  1.04399500e+02\n",
            "  1.04399500e+02  8.99995000e+01  7.55995000e+01  7.19995000e+01\n",
            "  6.77995000e+01  7.13995000e+01  5.75995000e+01  5.63995000e+01\n",
            "  5.33995000e+01  4.07995000e+01  5.33995000e+01  3.77995000e+01\n",
            "  4.55995000e+01  3.83995000e+01  2.57995000e+01  2.75995000e+01\n",
            "  2.51995000e+01  4.01995000e+01  6.71995000e+01  1.34399500e+02\n",
            "  2.24999495e+02  3.17383136e+02  3.31867857e+02  2.96397512e+02\n",
            "  1.84799500e+02  8.81995000e+01  4.19995000e+01  1.07995000e+01\n",
            "  4.19950000e+00  1.79950000e+00  5.99500000e-01  5.99500000e-01\n",
            "  5.99500000e-01  5.99500000e-01  5.99500000e-01 -5.00000000e-04\n",
            " -5.00000000e-04 -5.00000000e-04 -5.00000000e-04 -5.00000000e-04\n",
            " -5.00000000e-04 -5.00000000e-04 -5.00000000e-04 -5.00000000e-04\n",
            " -5.00000000e-04 -5.00000000e-04 -5.00000000e-04 -5.00000000e-04\n",
            " -5.00000000e-04 -5.00000000e-04 -5.00000000e-04 -5.00000000e-04]\n",
            "[-5.00000000e-04 -5.00000000e-04 -5.00000000e-04 -5.00000000e-04\n",
            " -5.00000000e-04 -5.00000000e-04 -5.00000000e-04 -5.00000000e-04\n",
            " -5.00000000e-04 -5.00000000e-04 -5.00000000e-04 -5.00000000e-04\n",
            " -5.00000000e-04  6.49500000e-01  6.49500000e-01 -5.00000000e-04\n",
            " -5.00000000e-04 -5.00000000e-04  6.49500000e-01 -5.00000000e-04\n",
            "  1.29950000e+00  6.49500000e-01  1.94950000e+00  2.59950000e+00\n",
            "  1.94950000e+00  7.14950000e+00  3.24950000e+00  1.03995000e+01\n",
            "  9.74950000e+00  1.94995000e+01  2.20995000e+01  2.53495000e+01\n",
            "  5.06995000e+01  6.04495000e+01  6.88995000e+01  1.15699500e+02\n",
            "  1.35849500e+02  1.39749500e+02  1.57299500e+02  1.75499500e+02\n",
            "  1.96299500e+02  1.88499500e+02  1.79399500e+02  1.65749500e+02\n",
            "  1.55349500e+02  1.65749500e+02  1.08549500e+02  1.13099500e+02\n",
            "  1.13099500e+02  9.74995000e+01  8.18995000e+01  7.79995000e+01\n",
            "  7.34495000e+01  7.73495000e+01  6.23995000e+01  6.10995000e+01\n",
            "  5.78495000e+01  4.41995000e+01  5.78495000e+01  4.09495000e+01\n",
            "  4.93995000e+01  4.15995000e+01  2.79495000e+01  2.98995000e+01\n",
            "  2.72995000e+01  4.35495000e+01  7.27995000e+01  1.45599500e+02\n",
            "  2.43749495e+02  3.43833136e+02  3.59517857e+02  3.21097512e+02\n",
            "  2.00199500e+02  9.55495000e+01  4.54995000e+01  1.16995000e+01\n",
            "  4.54950000e+00  1.94950000e+00  6.49500000e-01  6.49500000e-01\n",
            "  6.49500000e-01  6.49500000e-01  6.49500000e-01 -5.00000000e-04\n",
            " -5.00000000e-04 -5.00000000e-04 -5.00000000e-04 -5.00000000e-04\n",
            " -5.00000000e-04 -5.00000000e-04 -5.00000000e-04 -5.00000000e-04\n",
            " -5.00000000e-04 -5.00000000e-04 -5.00000000e-04 -5.00000000e-04\n",
            " -5.00000000e-04 -5.00000000e-04 -5.00000000e-04 -5.00000000e-04]\n",
            "[-5.00000000e-04 -5.00000000e-04 -5.00000000e-04 -5.00000000e-04\n",
            " -5.00000000e-04 -5.00000000e-04 -5.00000000e-04 -5.00000000e-04\n",
            " -5.00000000e-04 -5.00000000e-04 -5.00000000e-04 -5.00000000e-04\n",
            " -5.00000000e-04  6.99500000e-01  6.99500000e-01 -5.00000000e-04\n",
            " -5.00000000e-04 -5.00000000e-04  6.99500000e-01 -5.00000000e-04\n",
            "  1.39950000e+00  6.99500000e-01  2.09950000e+00  2.79950000e+00\n",
            "  2.09950000e+00  7.69950000e+00  3.49950000e+00  1.11995000e+01\n",
            "  1.04995000e+01  2.09995000e+01  2.37995000e+01  2.72995000e+01\n",
            "  5.45995000e+01  6.50995000e+01  7.41995000e+01  1.24599500e+02\n",
            "  1.46299500e+02  1.50499500e+02  1.69399500e+02  1.88999500e+02\n",
            "  2.11399500e+02  2.02999500e+02  1.93199500e+02  1.78499500e+02\n",
            "  1.67299500e+02  1.78499500e+02  1.16899500e+02  1.21799500e+02\n",
            "  1.21799500e+02  1.04999500e+02  8.81995000e+01  8.39995000e+01\n",
            "  7.90995000e+01  8.32995000e+01  6.71995000e+01  6.57995000e+01\n",
            "  6.22995000e+01  4.75995000e+01  6.22995000e+01  4.40995000e+01\n",
            "  5.31995000e+01  4.47995000e+01  3.00995000e+01  3.21995000e+01\n",
            "  2.93995000e+01  4.68995000e+01  7.83995000e+01  1.56799500e+02\n",
            "  2.62499495e+02  3.70283136e+02  3.87167857e+02  3.45797512e+02\n",
            "  2.15599500e+02  1.02899500e+02  4.89995000e+01  1.25995000e+01\n",
            "  4.89950000e+00  2.09950000e+00  6.99500000e-01  6.99500000e-01\n",
            "  6.99500000e-01  6.99500000e-01  6.99500000e-01 -5.00000000e-04\n",
            " -5.00000000e-04 -5.00000000e-04 -5.00000000e-04 -5.00000000e-04\n",
            " -5.00000000e-04 -5.00000000e-04 -5.00000000e-04 -5.00000000e-04\n",
            " -5.00000000e-04 -5.00000000e-04 -5.00000000e-04 -5.00000000e-04\n",
            " -5.00000000e-04 -5.00000000e-04 -5.00000000e-04 -5.00000000e-04]\n",
            "[-5.00000000e-04 -5.00000000e-04 -5.00000000e-04 -5.00000000e-04\n",
            " -5.00000000e-04 -5.00000000e-04 -5.00000000e-04 -5.00000000e-04\n",
            " -5.00000000e-04 -5.00000000e-04 -5.00000000e-04 -5.00000000e-04\n",
            " -5.00000000e-04  7.49500000e-01  7.49500000e-01 -5.00000000e-04\n",
            " -5.00000000e-04 -5.00000000e-04  7.49500000e-01 -5.00000000e-04\n",
            "  1.49950000e+00  7.49500000e-01  2.24950000e+00  2.99950000e+00\n",
            "  2.24950000e+00  8.24950000e+00  3.74950000e+00  1.19995000e+01\n",
            "  1.12495000e+01  2.24995000e+01  2.54995000e+01  2.92495000e+01\n",
            "  5.84995000e+01  6.97495000e+01  7.94995000e+01  1.33499500e+02\n",
            "  1.56749500e+02  1.61249500e+02  1.81499500e+02  2.02499500e+02\n",
            "  2.26499500e+02  2.17499500e+02  2.06999500e+02  1.91249500e+02\n",
            "  1.79249500e+02  1.91249500e+02  1.25249500e+02  1.30499500e+02\n",
            "  1.30499500e+02  1.12499500e+02  9.44995000e+01  8.99995000e+01\n",
            "  8.47495000e+01  8.92495000e+01  7.19995000e+01  7.04995000e+01\n",
            "  6.67495000e+01  5.09995000e+01  6.67495000e+01  4.72495000e+01\n",
            "  5.69995000e+01  4.79995000e+01  3.22495000e+01  3.44995000e+01\n",
            "  3.14995000e+01  5.02495000e+01  8.39995000e+01  1.67999500e+02\n",
            "  2.81249495e+02  3.96733136e+02  4.14817857e+02  3.70497512e+02\n",
            "  2.30999500e+02  1.10249500e+02  5.24995000e+01  1.34995000e+01\n",
            "  5.24950000e+00  2.24950000e+00  7.49500000e-01  7.49500000e-01\n",
            "  7.49500000e-01  7.49500000e-01  7.49500000e-01 -5.00000000e-04\n",
            " -5.00000000e-04 -5.00000000e-04 -5.00000000e-04 -5.00000000e-04\n",
            " -5.00000000e-04 -5.00000000e-04 -5.00000000e-04 -5.00000000e-04\n",
            " -5.00000000e-04 -5.00000000e-04 -5.00000000e-04 -5.00000000e-04\n",
            " -5.00000000e-04 -5.00000000e-04 -5.00000000e-04 -5.00000000e-04]\n",
            "[-5.00000000e-04 -5.00000000e-04 -5.00000000e-04 -5.00000000e-04\n",
            " -5.00000000e-04 -5.00000000e-04 -5.00000000e-04 -5.00000000e-04\n",
            " -5.00000000e-04 -5.00000000e-04 -5.00000000e-04 -5.00000000e-04\n",
            " -5.00000000e-04  7.99500000e-01  7.99500000e-01 -5.00000000e-04\n",
            " -5.00000000e-04 -5.00000000e-04  7.99500000e-01 -5.00000000e-04\n",
            "  1.59950000e+00  7.99500000e-01  2.39950000e+00  3.19950000e+00\n",
            "  2.39950000e+00  8.79950000e+00  3.99950000e+00  1.27995000e+01\n",
            "  1.19995000e+01  2.39995000e+01  2.71995000e+01  3.11995000e+01\n",
            "  6.23995000e+01  7.43995000e+01  8.47995000e+01  1.42399500e+02\n",
            "  1.67199500e+02  1.71999500e+02  1.93599500e+02  2.15999500e+02\n",
            "  2.41599500e+02  2.31999500e+02  2.20799500e+02  2.03999500e+02\n",
            "  1.91199500e+02  2.03999500e+02  1.33599500e+02  1.39199500e+02\n",
            "  1.39199500e+02  1.19999500e+02  1.00799500e+02  9.59995000e+01\n",
            "  9.03995000e+01  9.51995000e+01  7.67995000e+01  7.51995000e+01\n",
            "  7.11995000e+01  5.43995000e+01  7.11995000e+01  5.03995000e+01\n",
            "  6.07995000e+01  5.11995000e+01  3.43995000e+01  3.67995000e+01\n",
            "  3.35995000e+01  5.35995000e+01  8.95995000e+01  1.79199500e+02\n",
            "  2.99999495e+02  4.23183136e+02  4.42467857e+02  3.95197512e+02\n",
            "  2.46399500e+02  1.17599500e+02  5.59995000e+01  1.43995000e+01\n",
            "  5.59950000e+00  2.39950000e+00  7.99500000e-01  7.99500000e-01\n",
            "  7.99500000e-01  7.99500000e-01  7.99500000e-01 -5.00000000e-04\n",
            " -5.00000000e-04 -5.00000000e-04 -5.00000000e-04 -5.00000000e-04\n",
            " -5.00000000e-04 -5.00000000e-04 -5.00000000e-04 -5.00000000e-04\n",
            " -5.00000000e-04 -5.00000000e-04 -5.00000000e-04 -5.00000000e-04\n",
            " -5.00000000e-04 -5.00000000e-04 -5.00000000e-04 -5.00000000e-04]\n",
            "[-5.00000000e-04 -5.00000000e-04 -5.00000000e-04 -5.00000000e-04\n",
            " -5.00000000e-04 -5.00000000e-04 -5.00000000e-04 -5.00000000e-04\n",
            " -5.00000000e-04 -5.00000000e-04 -5.00000000e-04 -5.00000000e-04\n",
            " -5.00000000e-04  8.49500000e-01  8.49500000e-01 -5.00000000e-04\n",
            " -5.00000000e-04 -5.00000000e-04  8.49500000e-01 -5.00000000e-04\n",
            "  1.69950000e+00  8.49500000e-01  2.54950000e+00  3.39950000e+00\n",
            "  2.54950000e+00  9.34950000e+00  4.24950000e+00  1.35995000e+01\n",
            "  1.27495000e+01  2.54995000e+01  2.88995000e+01  3.31495000e+01\n",
            "  6.62995000e+01  7.90495000e+01  9.00995000e+01  1.51299500e+02\n",
            "  1.77649500e+02  1.82749500e+02  2.05699500e+02  2.29499500e+02\n",
            "  2.56699500e+02  2.46499500e+02  2.34599500e+02  2.16749500e+02\n",
            "  2.03149500e+02  2.16749500e+02  1.41949500e+02  1.47899500e+02\n",
            "  1.47899500e+02  1.27499500e+02  1.07099500e+02  1.01999500e+02\n",
            "  9.60495000e+01  1.01149500e+02  8.15995000e+01  7.98995000e+01\n",
            "  7.56495000e+01  5.77995000e+01  7.56495000e+01  5.35495000e+01\n",
            "  6.45995000e+01  5.43995000e+01  3.65495000e+01  3.90995000e+01\n",
            "  3.56995000e+01  5.69495000e+01  9.51995000e+01  1.90399500e+02\n",
            "  3.18749495e+02  4.49633136e+02  4.70117857e+02  4.19897512e+02\n",
            "  2.61799500e+02  1.24949500e+02  5.94995000e+01  1.52995000e+01\n",
            "  5.94950000e+00  2.54950000e+00  8.49500000e-01  8.49500000e-01\n",
            "  8.49500000e-01  8.49500000e-01  8.49500000e-01 -5.00000000e-04\n",
            " -5.00000000e-04 -5.00000000e-04 -5.00000000e-04 -5.00000000e-04\n",
            " -5.00000000e-04 -5.00000000e-04 -5.00000000e-04 -5.00000000e-04\n",
            " -5.00000000e-04 -5.00000000e-04 -5.00000000e-04 -5.00000000e-04\n",
            " -5.00000000e-04 -5.00000000e-04 -5.00000000e-04 -5.00000000e-04]\n",
            "[-5.00000000e-04 -5.00000000e-04 -5.00000000e-04 -5.00000000e-04\n",
            " -5.00000000e-04 -5.00000000e-04 -5.00000000e-04 -5.00000000e-04\n",
            " -5.00000000e-04 -5.00000000e-04 -5.00000000e-04 -5.00000000e-04\n",
            " -5.00000000e-04  8.99500000e-01  8.99500000e-01 -5.00000000e-04\n",
            " -5.00000000e-04 -5.00000000e-04  8.99500000e-01 -5.00000000e-04\n",
            "  1.79950000e+00  8.99500000e-01  2.69950000e+00  3.59950000e+00\n",
            "  2.69950000e+00  9.89950000e+00  4.49950000e+00  1.43995000e+01\n",
            "  1.34995000e+01  2.69995000e+01  3.05995000e+01  3.50995000e+01\n",
            "  7.01995000e+01  8.36995000e+01  9.53995000e+01  1.60199500e+02\n",
            "  1.88099500e+02  1.93499500e+02  2.17799500e+02  2.42999500e+02\n",
            "  2.71799500e+02  2.60999500e+02  2.48399500e+02  2.29499500e+02\n",
            "  2.15099500e+02  2.29499500e+02  1.50299500e+02  1.56599500e+02\n",
            "  1.56599500e+02  1.34999500e+02  1.13399500e+02  1.07999500e+02\n",
            "  1.01699500e+02  1.07099500e+02  8.63995000e+01  8.45995000e+01\n",
            "  8.00995000e+01  6.11995000e+01  8.00995000e+01  5.66995000e+01\n",
            "  6.83995000e+01  5.75995000e+01  3.86995000e+01  4.13995000e+01\n",
            "  3.77995000e+01  6.02995000e+01  1.00799500e+02  2.01599500e+02\n",
            "  3.37499495e+02  4.76083136e+02  4.97767857e+02  4.44597512e+02\n",
            "  2.77199500e+02  1.32299500e+02  6.29995000e+01  1.61995000e+01\n",
            "  6.29950000e+00  2.69950000e+00  8.99500000e-01  8.99500000e-01\n",
            "  8.99500000e-01  8.99500000e-01  8.99500000e-01 -5.00000000e-04\n",
            " -5.00000000e-04 -5.00000000e-04 -5.00000000e-04 -5.00000000e-04\n",
            " -5.00000000e-04 -5.00000000e-04 -5.00000000e-04 -5.00000000e-04\n",
            " -5.00000000e-04 -5.00000000e-04 -5.00000000e-04 -5.00000000e-04\n",
            " -5.00000000e-04 -5.00000000e-04 -5.00000000e-04 -5.00000000e-04]\n",
            "[-5.00000000e-04 -5.00000000e-04 -5.00000000e-04 -5.00000000e-04\n",
            " -5.00000000e-04 -5.00000000e-04 -5.00000000e-04 -5.00000000e-04\n",
            " -5.00000000e-04 -5.00000000e-04 -5.00000000e-04 -5.00000000e-04\n",
            " -5.00000000e-04  9.49500000e-01  9.49500000e-01 -5.00000000e-04\n",
            " -5.00000000e-04 -5.00000000e-04  9.49500000e-01 -5.00000000e-04\n",
            "  1.89950000e+00  9.49500000e-01  2.84950000e+00  3.79950000e+00\n",
            "  2.84950000e+00  1.04495000e+01  4.74950000e+00  1.51995000e+01\n",
            "  1.42495000e+01  2.84995000e+01  3.22995000e+01  3.70495000e+01\n",
            "  7.40995000e+01  8.83495000e+01  1.00699500e+02  1.69099500e+02\n",
            "  1.98549500e+02  2.04249500e+02  2.29899500e+02  2.56499500e+02\n",
            "  2.86899500e+02  2.75499500e+02  2.62199500e+02  2.42249500e+02\n",
            "  2.27049500e+02  2.42249500e+02  1.58649500e+02  1.65299500e+02\n",
            "  1.65299500e+02  1.42499500e+02  1.19699500e+02  1.13999500e+02\n",
            "  1.07349500e+02  1.13049500e+02  9.11995000e+01  8.92995000e+01\n",
            "  8.45495000e+01  6.45995000e+01  8.45495000e+01  5.98495000e+01\n",
            "  7.21995000e+01  6.07995000e+01  4.08495000e+01  4.36995000e+01\n",
            "  3.98995000e+01  6.36495000e+01  1.06399500e+02  2.12799500e+02\n",
            "  3.56249495e+02  5.02533136e+02  5.25417857e+02  4.69297512e+02\n",
            "  2.92599500e+02  1.39649500e+02  6.64995000e+01  1.70995000e+01\n",
            "  6.64950000e+00  2.84950000e+00  9.49500000e-01  9.49500000e-01\n",
            "  9.49500000e-01  9.49500000e-01  9.49500000e-01 -5.00000000e-04\n",
            " -5.00000000e-04 -5.00000000e-04 -5.00000000e-04 -5.00000000e-04\n",
            " -5.00000000e-04 -5.00000000e-04 -5.00000000e-04 -5.00000000e-04\n",
            " -5.00000000e-04 -5.00000000e-04 -5.00000000e-04 -5.00000000e-04\n",
            " -5.00000000e-04 -5.00000000e-04 -5.00000000e-04 -5.00000000e-04]\n",
            "[-5.00000000e-04 -5.00000000e-04 -5.00000000e-04 -5.00000000e-04\n",
            " -5.00000000e-04 -5.00000000e-04 -5.00000000e-04 -5.00000000e-04\n",
            " -5.00000000e-04 -5.00000000e-04 -5.00000000e-04 -5.00000000e-04\n",
            " -5.00000000e-04  9.99500000e-01  9.99500000e-01 -5.00000000e-04\n",
            " -5.00000000e-04 -5.00000000e-04  9.99500000e-01 -5.00000000e-04\n",
            "  1.99950000e+00  9.99500000e-01  2.99950000e+00  3.99950000e+00\n",
            "  2.99950000e+00  1.09995000e+01  4.99950000e+00  1.59995000e+01\n",
            "  1.49995000e+01  2.99995000e+01  3.39995000e+01  3.89995000e+01\n",
            "  7.79995000e+01  9.29995000e+01  1.05999500e+02  1.77999500e+02\n",
            "  2.08999500e+02  2.14999500e+02  2.41999500e+02  2.69999500e+02\n",
            "  3.01999500e+02  2.89999500e+02  2.75999500e+02  2.54999500e+02\n",
            "  2.38999500e+02  2.54999500e+02  1.66999500e+02  1.73999500e+02\n",
            "  1.73999500e+02  1.49999500e+02  1.25999500e+02  1.19999500e+02\n",
            "  1.12999500e+02  1.18999500e+02  9.59995000e+01  9.39995000e+01\n",
            "  8.89995000e+01  6.79995000e+01  8.89995000e+01  6.29995000e+01\n",
            "  7.59995000e+01  6.39995000e+01  4.29995000e+01  4.59995000e+01\n",
            "  4.19995000e+01  6.69995000e+01  1.11999500e+02  2.23999500e+02\n",
            "  3.74999495e+02  5.28983136e+02  5.53067857e+02  4.93997512e+02\n",
            "  3.07999500e+02  1.46999500e+02  6.99995000e+01  1.79995000e+01\n",
            "  6.99950000e+00  2.99950000e+00  9.99500000e-01  9.99500000e-01\n",
            "  9.99500000e-01  9.99500000e-01  9.99500000e-01 -5.00000000e-04\n",
            " -5.00000000e-04 -5.00000000e-04 -5.00000000e-04 -5.00000000e-04\n",
            " -5.00000000e-04 -5.00000000e-04 -5.00000000e-04 -5.00000000e-04\n",
            " -5.00000000e-04 -5.00000000e-04 -5.00000000e-04 -5.00000000e-04\n",
            " -5.00000000e-04 -5.00000000e-04 -5.00000000e-04 -5.00000000e-04]\n",
            "[-5.00000000e-04 -5.00000000e-04 -5.00000000e-04 -5.00000000e-04\n",
            " -5.00000000e-04 -5.00000000e-04 -5.00000000e-04 -5.00000000e-04\n",
            " -5.00000000e-04 -5.00000000e-04 -5.00000000e-04 -5.00000000e-04\n",
            " -5.00000000e-04  1.04950000e+00  1.04950000e+00 -5.00000000e-04\n",
            " -5.00000000e-04 -5.00000000e-04  1.04950000e+00 -5.00000000e-04\n",
            "  2.09950000e+00  1.04950000e+00  3.14950000e+00  4.19950000e+00\n",
            "  3.14950000e+00  1.15495000e+01  5.24950000e+00  1.67995000e+01\n",
            "  1.57495000e+01  3.14995000e+01  3.56995000e+01  4.09495000e+01\n",
            "  8.18995000e+01  9.76495000e+01  1.11299500e+02  1.86899500e+02\n",
            "  2.19449500e+02  2.25749500e+02  2.54099500e+02  2.83499500e+02\n",
            "  3.17099500e+02  3.04499500e+02  2.89799500e+02  2.67749500e+02\n",
            "  2.50949500e+02  2.67749500e+02  1.75349500e+02  1.82699500e+02\n",
            "  1.82699500e+02  1.57499500e+02  1.32299500e+02  1.25999500e+02\n",
            "  1.18649500e+02  1.24949500e+02  1.00799500e+02  9.86995000e+01\n",
            "  9.34495000e+01  7.13995000e+01  9.34495000e+01  6.61495000e+01\n",
            "  7.97995000e+01  6.71995000e+01  4.51495000e+01  4.82995000e+01\n",
            "  4.40995000e+01  7.03495000e+01  1.17599500e+02  2.35199500e+02\n",
            "  3.93749495e+02  5.55433136e+02  5.80717857e+02  5.18697512e+02\n",
            "  3.23399500e+02  1.54349500e+02  7.34995000e+01  1.88995000e+01\n",
            "  7.34950000e+00  3.14950000e+00  1.04950000e+00  1.04950000e+00\n",
            "  1.04950000e+00  1.04950000e+00  1.04950000e+00 -5.00000000e-04\n",
            " -5.00000000e-04 -5.00000000e-04 -5.00000000e-04 -5.00000000e-04\n",
            " -5.00000000e-04 -5.00000000e-04 -5.00000000e-04 -5.00000000e-04\n",
            " -5.00000000e-04 -5.00000000e-04 -5.00000000e-04 -5.00000000e-04\n",
            " -5.00000000e-04 -5.00000000e-04 -5.00000000e-04 -5.00000000e-04]\n",
            "[-5.00000000e-04 -5.00000000e-04 -5.00000000e-04 -5.00000000e-04\n",
            " -5.00000000e-04 -5.00000000e-04 -5.00000000e-04 -5.00000000e-04\n",
            " -5.00000000e-04 -5.00000000e-04 -5.00000000e-04 -5.00000000e-04\n",
            " -5.00000000e-04  1.09950000e+00  1.09950000e+00 -5.00000000e-04\n",
            " -5.00000000e-04 -5.00000000e-04  1.09950000e+00 -5.00000000e-04\n",
            "  2.19950000e+00  1.09950000e+00  3.29950000e+00  4.39950000e+00\n",
            "  3.29950000e+00  1.20995000e+01  5.49950000e+00  1.75995000e+01\n",
            "  1.64995000e+01  3.29995000e+01  3.73995000e+01  4.28995000e+01\n",
            "  8.57995000e+01  1.02299500e+02  1.16599500e+02  1.95799500e+02\n",
            "  2.29899500e+02  2.36499500e+02  2.66199500e+02  2.96999500e+02\n",
            "  3.32199500e+02  3.18999500e+02  3.03599500e+02  2.80499500e+02\n",
            "  2.62899500e+02  2.80499500e+02  1.83699500e+02  1.91399500e+02\n",
            "  1.91399500e+02  1.64999500e+02  1.38599500e+02  1.31999500e+02\n",
            "  1.24299500e+02  1.30899500e+02  1.05599500e+02  1.03399500e+02\n",
            "  9.78995000e+01  7.47995000e+01  9.78995000e+01  6.92995000e+01\n",
            "  8.35995000e+01  7.03995000e+01  4.72995000e+01  5.05995000e+01\n",
            "  4.61995000e+01  7.36995000e+01  1.23199500e+02  2.46399500e+02\n",
            "  4.12499495e+02  5.81883136e+02  6.08367857e+02  5.43397512e+02\n",
            "  3.38799500e+02  1.61699500e+02  7.69995000e+01  1.97995000e+01\n",
            "  7.69950000e+00  3.29950000e+00  1.09950000e+00  1.09950000e+00\n",
            "  1.09950000e+00  1.09950000e+00  1.09950000e+00 -5.00000000e-04\n",
            " -5.00000000e-04 -5.00000000e-04 -5.00000000e-04 -5.00000000e-04\n",
            " -5.00000000e-04 -5.00000000e-04 -5.00000000e-04 -5.00000000e-04\n",
            " -5.00000000e-04 -5.00000000e-04 -5.00000000e-04 -5.00000000e-04\n",
            " -5.00000000e-04 -5.00000000e-04 -5.00000000e-04 -5.00000000e-04]\n",
            "[-5.00000000e-04 -5.00000000e-04 -5.00000000e-04 -5.00000000e-04\n",
            " -5.00000000e-04 -5.00000000e-04 -5.00000000e-04 -5.00000000e-04\n",
            " -5.00000000e-04 -5.00000000e-04 -5.00000000e-04 -5.00000000e-04\n",
            " -5.00000000e-04  1.14950000e+00  1.14950000e+00 -5.00000000e-04\n",
            " -5.00000000e-04 -5.00000000e-04  1.14950000e+00 -5.00000000e-04\n",
            "  2.29950000e+00  1.14950000e+00  3.44950000e+00  4.59950000e+00\n",
            "  3.44950000e+00  1.26495000e+01  5.74950000e+00  1.83995000e+01\n",
            "  1.72495000e+01  3.44995000e+01  3.90995000e+01  4.48495000e+01\n",
            "  8.96995000e+01  1.06949500e+02  1.21899500e+02  2.04699500e+02\n",
            "  2.40349500e+02  2.47249500e+02  2.78299500e+02  3.10499500e+02\n",
            "  3.47299500e+02  3.33499500e+02  3.17399500e+02  2.93249500e+02\n",
            "  2.74849500e+02  2.93249500e+02  1.92049500e+02  2.00099500e+02\n",
            "  2.00099500e+02  1.72499500e+02  1.44899500e+02  1.37999500e+02\n",
            "  1.29949500e+02  1.36849500e+02  1.10399500e+02  1.08099500e+02\n",
            "  1.02349500e+02  7.81995000e+01  1.02349500e+02  7.24495000e+01\n",
            "  8.73995000e+01  7.35995000e+01  4.94495000e+01  5.28995000e+01\n",
            "  4.82995000e+01  7.70495000e+01  1.28799500e+02  2.57599500e+02\n",
            "  4.31249495e+02  6.08333136e+02  6.36017857e+02  5.68097512e+02\n",
            "  3.54199500e+02  1.69049500e+02  8.04995000e+01  2.06995000e+01\n",
            "  8.04950000e+00  3.44950000e+00  1.14950000e+00  1.14950000e+00\n",
            "  1.14950000e+00  1.14950000e+00  1.14950000e+00 -5.00000000e-04\n",
            " -5.00000000e-04 -5.00000000e-04 -5.00000000e-04 -5.00000000e-04\n",
            " -5.00000000e-04 -5.00000000e-04 -5.00000000e-04 -5.00000000e-04\n",
            " -5.00000000e-04 -5.00000000e-04 -5.00000000e-04 -5.00000000e-04\n",
            " -5.00000000e-04 -5.00000000e-04 -5.00000000e-04 -5.00000000e-04]\n",
            "[-5.00000000e-04 -5.00000000e-04 -5.00000000e-04 -5.00000000e-04\n",
            " -5.00000000e-04 -5.00000000e-04 -5.00000000e-04 -5.00000000e-04\n",
            " -5.00000000e-04 -5.00000000e-04 -5.00000000e-04 -5.00000000e-04\n",
            " -5.00000000e-04  1.19950000e+00  1.19950000e+00 -5.00000000e-04\n",
            " -5.00000000e-04 -5.00000000e-04  1.19950000e+00 -5.00000000e-04\n",
            "  2.39950000e+00  1.19950000e+00  3.59950000e+00  4.79950000e+00\n",
            "  3.59950000e+00  1.31995000e+01  5.99950000e+00  1.91995000e+01\n",
            "  1.79995000e+01  3.59995000e+01  4.07995000e+01  4.67995000e+01\n",
            "  9.35995000e+01  1.11599500e+02  1.27199500e+02  2.13599500e+02\n",
            "  2.50799500e+02  2.57999500e+02  2.90399500e+02  3.23999500e+02\n",
            "  3.62399500e+02  3.47999500e+02  3.31199500e+02  3.05999500e+02\n",
            "  2.86799500e+02  3.05999500e+02  2.00399500e+02  2.08799500e+02\n",
            "  2.08799500e+02  1.79999500e+02  1.51199500e+02  1.43999500e+02\n",
            "  1.35599500e+02  1.42799500e+02  1.15199500e+02  1.12799500e+02\n",
            "  1.06799500e+02  8.15995000e+01  1.06799500e+02  7.55995000e+01\n",
            "  9.11995000e+01  7.67995000e+01  5.15995000e+01  5.51995000e+01\n",
            "  5.03995000e+01  8.03995000e+01  1.34399500e+02  2.68799500e+02\n",
            "  4.49999495e+02  6.34783136e+02  6.63667857e+02  5.92797512e+02\n",
            "  3.69599500e+02  1.76399500e+02  8.39995000e+01  2.15995000e+01\n",
            "  8.39950000e+00  3.59950000e+00  1.19950000e+00  1.19950000e+00\n",
            "  1.19950000e+00  1.19950000e+00  1.19950000e+00 -5.00000000e-04\n",
            " -5.00000000e-04 -5.00000000e-04 -5.00000000e-04 -5.00000000e-04\n",
            " -5.00000000e-04 -5.00000000e-04 -5.00000000e-04 -5.00000000e-04\n",
            " -5.00000000e-04 -5.00000000e-04 -5.00000000e-04 -5.00000000e-04\n",
            " -5.00000000e-04 -5.00000000e-04 -5.00000000e-04 -5.00000000e-04]\n",
            "[-5.00000000e-04 -5.00000000e-04 -5.00000000e-04 -5.00000000e-04\n",
            " -5.00000000e-04 -5.00000000e-04 -5.00000000e-04 -5.00000000e-04\n",
            " -5.00000000e-04 -5.00000000e-04 -5.00000000e-04 -5.00000000e-04\n",
            " -5.00000000e-04  1.24950000e+00  1.24950000e+00 -5.00000000e-04\n",
            " -5.00000000e-04 -5.00000000e-04  1.24950000e+00 -5.00000000e-04\n",
            "  2.49950000e+00  1.24950000e+00  3.74950000e+00  4.99950000e+00\n",
            "  3.74950000e+00  1.37495000e+01  6.24950000e+00  1.99995000e+01\n",
            "  1.87495000e+01  3.74995000e+01  4.24995000e+01  4.87495000e+01\n",
            "  9.74995000e+01  1.16249500e+02  1.32499500e+02  2.22499500e+02\n",
            "  2.61249500e+02  2.68749500e+02  3.02499500e+02  3.37499500e+02\n",
            "  3.77499500e+02  3.62499500e+02  3.44999500e+02  3.18749500e+02\n",
            "  2.98749500e+02  3.18749500e+02  2.08749500e+02  2.17499500e+02\n",
            "  2.17499500e+02  1.87499500e+02  1.57499500e+02  1.49999500e+02\n",
            "  1.41249500e+02  1.48749500e+02  1.19999500e+02  1.17499500e+02\n",
            "  1.11249500e+02  8.49995000e+01  1.11249500e+02  7.87495000e+01\n",
            "  9.49995000e+01  7.99995000e+01  5.37495000e+01  5.74995000e+01\n",
            "  5.24995000e+01  8.37495000e+01  1.39999500e+02  2.79999500e+02\n",
            "  4.68749495e+02  6.61233136e+02  6.91317857e+02  6.17497512e+02\n",
            "  3.84999500e+02  1.83749500e+02  8.74995000e+01  2.24995000e+01\n",
            "  8.74950000e+00  3.74950000e+00  1.24950000e+00  1.24950000e+00\n",
            "  1.24950000e+00  1.24950000e+00  1.24950000e+00 -5.00000000e-04\n",
            " -5.00000000e-04 -5.00000000e-04 -5.00000000e-04 -5.00000000e-04\n",
            " -5.00000000e-04 -5.00000000e-04 -5.00000000e-04 -5.00000000e-04\n",
            " -5.00000000e-04 -5.00000000e-04 -5.00000000e-04 -5.00000000e-04\n",
            " -5.00000000e-04 -5.00000000e-04 -5.00000000e-04 -5.00000000e-04]\n",
            "[-5.00000000e-04 -5.00000000e-04 -5.00000000e-04 -5.00000000e-04\n",
            " -5.00000000e-04 -5.00000000e-04 -5.00000000e-04 -5.00000000e-04\n",
            " -5.00000000e-04 -5.00000000e-04 -5.00000000e-04 -5.00000000e-04\n",
            " -5.00000000e-04  1.29950000e+00  1.29950000e+00 -5.00000000e-04\n",
            " -5.00000000e-04 -5.00000000e-04  1.29950000e+00 -5.00000000e-04\n",
            "  2.59950000e+00  1.29950000e+00  3.89950000e+00  5.19950000e+00\n",
            "  3.89950000e+00  1.42995000e+01  6.49950000e+00  2.07995000e+01\n",
            "  1.94995000e+01  3.89995000e+01  4.41995000e+01  5.06995000e+01\n",
            "  1.01399500e+02  1.20899500e+02  1.37799500e+02  2.31399500e+02\n",
            "  2.71699500e+02  2.79499500e+02  3.14599500e+02  3.50999500e+02\n",
            "  3.92599500e+02  3.76999500e+02  3.58799500e+02  3.31499500e+02\n",
            "  3.10699500e+02  3.31499500e+02  2.17099500e+02  2.26199500e+02\n",
            "  2.26199500e+02  1.94999500e+02  1.63799500e+02  1.55999500e+02\n",
            "  1.46899500e+02  1.54699500e+02  1.24799500e+02  1.22199500e+02\n",
            "  1.15699500e+02  8.83995000e+01  1.15699500e+02  8.18995000e+01\n",
            "  9.87995000e+01  8.31995000e+01  5.58995000e+01  5.97995000e+01\n",
            "  5.45995000e+01  8.70995000e+01  1.45599500e+02  2.91199500e+02\n",
            "  4.87499495e+02  6.87683136e+02  7.18967857e+02  6.42197512e+02\n",
            "  4.00399500e+02  1.91099500e+02  9.09995000e+01  2.33995000e+01\n",
            "  9.09950000e+00  3.89950000e+00  1.29950000e+00  1.29950000e+00\n",
            "  1.29950000e+00  1.29950000e+00  1.29950000e+00 -5.00000000e-04\n",
            " -5.00000000e-04 -5.00000000e-04 -5.00000000e-04 -5.00000000e-04\n",
            " -5.00000000e-04 -5.00000000e-04 -5.00000000e-04 -5.00000000e-04\n",
            " -5.00000000e-04 -5.00000000e-04 -5.00000000e-04 -5.00000000e-04\n",
            " -5.00000000e-04 -5.00000000e-04 -5.00000000e-04 -5.00000000e-04]\n",
            "[-5.00000000e-04 -5.00000000e-04 -5.00000000e-04 -5.00000000e-04\n",
            " -5.00000000e-04 -5.00000000e-04 -5.00000000e-04 -5.00000000e-04\n",
            " -5.00000000e-04 -5.00000000e-04 -5.00000000e-04 -5.00000000e-04\n",
            " -5.00000000e-04  1.34950000e+00  1.34950000e+00 -5.00000000e-04\n",
            " -5.00000000e-04 -5.00000000e-04  1.34950000e+00 -5.00000000e-04\n",
            "  2.69950000e+00  1.34950000e+00  4.04950000e+00  5.39950000e+00\n",
            "  4.04950000e+00  1.48495000e+01  6.74950000e+00  2.15995000e+01\n",
            "  2.02495000e+01  4.04995000e+01  4.58995000e+01  5.26495000e+01\n",
            "  1.05299500e+02  1.25549500e+02  1.43099500e+02  2.40299500e+02\n",
            "  2.82149500e+02  2.90249500e+02  3.26699500e+02  3.64499500e+02\n",
            "  4.07699500e+02  3.91499500e+02  3.72599500e+02  3.44249500e+02\n",
            "  3.22649500e+02  3.44249500e+02  2.25449500e+02  2.34899500e+02\n",
            "  2.34899500e+02  2.02499500e+02  1.70099500e+02  1.61999500e+02\n",
            "  1.52549500e+02  1.60649500e+02  1.29599500e+02  1.26899500e+02\n",
            "  1.20149500e+02  9.17995000e+01  1.20149500e+02  8.50495000e+01\n",
            "  1.02599500e+02  8.63995000e+01  5.80495000e+01  6.20995000e+01\n",
            "  5.66995000e+01  9.04495000e+01  1.51199500e+02  3.02399500e+02\n",
            "  5.06249495e+02  7.14133136e+02             nan  6.66897512e+02\n",
            "  4.15799500e+02  1.98449500e+02  9.44995000e+01  2.42995000e+01\n",
            "  9.44950000e+00  4.04950000e+00  1.34950000e+00  1.34950000e+00\n",
            "  1.34950000e+00  1.34950000e+00  1.34950000e+00 -5.00000000e-04\n",
            " -5.00000000e-04 -5.00000000e-04 -5.00000000e-04 -5.00000000e-04\n",
            " -5.00000000e-04 -5.00000000e-04 -5.00000000e-04 -5.00000000e-04\n",
            " -5.00000000e-04 -5.00000000e-04 -5.00000000e-04 -5.00000000e-04\n",
            " -5.00000000e-04 -5.00000000e-04 -5.00000000e-04 -5.00000000e-04]\n",
            "[nan nan nan nan nan nan nan nan nan nan nan nan nan nan nan nan nan nan\n",
            " nan nan nan nan nan nan nan nan nan nan nan nan nan nan nan nan nan nan\n",
            " nan nan nan nan nan nan nan nan nan nan nan nan nan nan nan nan nan nan\n",
            " nan nan nan nan nan nan nan nan nan nan nan nan nan nan nan nan nan nan\n",
            " nan nan nan nan nan nan nan nan nan nan nan nan nan nan nan nan nan nan\n",
            " nan nan nan nan nan nan nan nan nan nan]\n",
            "[nan nan nan nan nan nan nan nan nan nan nan nan nan nan nan nan nan nan\n",
            " nan nan nan nan nan nan nan nan nan nan nan nan nan nan nan nan nan nan\n",
            " nan nan nan nan nan nan nan nan nan nan nan nan nan nan nan nan nan nan\n",
            " nan nan nan nan nan nan nan nan nan nan nan nan nan nan nan nan nan nan\n",
            " nan nan nan nan nan nan nan nan nan nan nan nan nan nan nan nan nan nan\n",
            " nan nan nan nan nan nan nan nan nan nan]\n",
            "[nan nan nan nan nan nan nan nan nan nan nan nan nan nan nan nan nan nan\n",
            " nan nan nan nan nan nan nan nan nan nan nan nan nan nan nan nan nan nan\n",
            " nan nan nan nan nan nan nan nan nan nan nan nan nan nan nan nan nan nan\n",
            " nan nan nan nan nan nan nan nan nan nan nan nan nan nan nan nan nan nan\n",
            " nan nan nan nan nan nan nan nan nan nan nan nan nan nan nan nan nan nan\n",
            " nan nan nan nan nan nan nan nan nan nan]\n",
            "[nan nan nan nan nan nan nan nan nan nan nan nan nan nan nan nan nan nan\n",
            " nan nan nan nan nan nan nan nan nan nan nan nan nan nan nan nan nan nan\n",
            " nan nan nan nan nan nan nan nan nan nan nan nan nan nan nan nan nan nan\n",
            " nan nan nan nan nan nan nan nan nan nan nan nan nan nan nan nan nan nan\n",
            " nan nan nan nan nan nan nan nan nan nan nan nan nan nan nan nan nan nan\n",
            " nan nan nan nan nan nan nan nan nan nan]\n",
            "[nan nan nan nan nan nan nan nan nan nan nan nan nan nan nan nan nan nan\n",
            " nan nan nan nan nan nan nan nan nan nan nan nan nan nan nan nan nan nan\n",
            " nan nan nan nan nan nan nan nan nan nan nan nan nan nan nan nan nan nan\n",
            " nan nan nan nan nan nan nan nan nan nan nan nan nan nan nan nan nan nan\n",
            " nan nan nan nan nan nan nan nan nan nan nan nan nan nan nan nan nan nan\n",
            " nan nan nan nan nan nan nan nan nan nan]\n",
            "[nan nan nan nan nan nan nan nan nan nan nan nan nan nan nan nan nan nan\n",
            " nan nan nan nan nan nan nan nan nan nan nan nan nan nan nan nan nan nan\n",
            " nan nan nan nan nan nan nan nan nan nan nan nan nan nan nan nan nan nan\n",
            " nan nan nan nan nan nan nan nan nan nan nan nan nan nan nan nan nan nan\n",
            " nan nan nan nan nan nan nan nan nan nan nan nan nan nan nan nan nan nan\n",
            " nan nan nan nan nan nan nan nan nan nan]\n",
            "[nan nan nan nan nan nan nan nan nan nan nan nan nan nan nan nan nan nan\n",
            " nan nan nan nan nan nan nan nan nan nan nan nan nan nan nan nan nan nan\n",
            " nan nan nan nan nan nan nan nan nan nan nan nan nan nan nan nan nan nan\n",
            " nan nan nan nan nan nan nan nan nan nan nan nan nan nan nan nan nan nan\n",
            " nan nan nan nan nan nan nan nan nan nan nan nan nan nan nan nan nan nan\n",
            " nan nan nan nan nan nan nan nan nan nan]\n",
            "[nan nan nan nan nan nan nan nan nan nan nan nan nan nan nan nan nan nan\n",
            " nan nan nan nan nan nan nan nan nan nan nan nan nan nan nan nan nan nan\n",
            " nan nan nan nan nan nan nan nan nan nan nan nan nan nan nan nan nan nan\n",
            " nan nan nan nan nan nan nan nan nan nan nan nan nan nan nan nan nan nan\n",
            " nan nan nan nan nan nan nan nan nan nan nan nan nan nan nan nan nan nan\n",
            " nan nan nan nan nan nan nan nan nan nan]\n",
            "[nan nan nan nan nan nan nan nan nan nan nan nan nan nan nan nan nan nan\n",
            " nan nan nan nan nan nan nan nan nan nan nan nan nan nan nan nan nan nan\n",
            " nan nan nan nan nan nan nan nan nan nan nan nan nan nan nan nan nan nan\n",
            " nan nan nan nan nan nan nan nan nan nan nan nan nan nan nan nan nan nan\n",
            " nan nan nan nan nan nan nan nan nan nan nan nan nan nan nan nan nan nan\n",
            " nan nan nan nan nan nan nan nan nan nan]\n",
            "[nan nan nan nan nan nan nan nan nan nan nan nan nan nan nan nan nan nan\n",
            " nan nan nan nan nan nan nan nan nan nan nan nan nan nan nan nan nan nan\n",
            " nan nan nan nan nan nan nan nan nan nan nan nan nan nan nan nan nan nan\n",
            " nan nan nan nan nan nan nan nan nan nan nan nan nan nan nan nan nan nan\n",
            " nan nan nan nan nan nan nan nan nan nan nan nan nan nan nan nan nan nan\n",
            " nan nan nan nan nan nan nan nan nan nan]\n",
            "[nan nan nan nan nan nan nan nan nan nan nan nan nan nan nan nan nan nan\n",
            " nan nan nan nan nan nan nan nan nan nan nan nan nan nan nan nan nan nan\n",
            " nan nan nan nan nan nan nan nan nan nan nan nan nan nan nan nan nan nan\n",
            " nan nan nan nan nan nan nan nan nan nan nan nan nan nan nan nan nan nan\n",
            " nan nan nan nan nan nan nan nan nan nan nan nan nan nan nan nan nan nan\n",
            " nan nan nan nan nan nan nan nan nan nan]\n",
            "[nan nan nan nan nan nan nan nan nan nan nan nan nan nan nan nan nan nan\n",
            " nan nan nan nan nan nan nan nan nan nan nan nan nan nan nan nan nan nan\n",
            " nan nan nan nan nan nan nan nan nan nan nan nan nan nan nan nan nan nan\n",
            " nan nan nan nan nan nan nan nan nan nan nan nan nan nan nan nan nan nan\n",
            " nan nan nan nan nan nan nan nan nan nan nan nan nan nan nan nan nan nan\n",
            " nan nan nan nan nan nan nan nan nan nan]\n",
            "[nan nan nan nan nan nan nan nan nan nan nan nan nan nan nan nan nan nan\n",
            " nan nan nan nan nan nan nan nan nan nan nan nan nan nan nan nan nan nan\n",
            " nan nan nan nan nan nan nan nan nan nan nan nan nan nan nan nan nan nan\n",
            " nan nan nan nan nan nan nan nan nan nan nan nan nan nan nan nan nan nan\n",
            " nan nan nan nan nan nan nan nan nan nan nan nan nan nan nan nan nan nan\n",
            " nan nan nan nan nan nan nan nan nan nan]\n",
            "[nan nan nan nan nan nan nan nan nan nan nan nan nan nan nan nan nan nan\n",
            " nan nan nan nan nan nan nan nan nan nan nan nan nan nan nan nan nan nan\n",
            " nan nan nan nan nan nan nan nan nan nan nan nan nan nan nan nan nan nan\n",
            " nan nan nan nan nan nan nan nan nan nan nan nan nan nan nan nan nan nan\n",
            " nan nan nan nan nan nan nan nan nan nan nan nan nan nan nan nan nan nan\n",
            " nan nan nan nan nan nan nan nan nan nan]\n",
            "[nan nan nan nan nan nan nan nan nan nan nan nan nan nan nan nan nan nan\n",
            " nan nan nan nan nan nan nan nan nan nan nan nan nan nan nan nan nan nan\n",
            " nan nan nan nan nan nan nan nan nan nan nan nan nan nan nan nan nan nan\n",
            " nan nan nan nan nan nan nan nan nan nan nan nan nan nan nan nan nan nan\n",
            " nan nan nan nan nan nan nan nan nan nan nan nan nan nan nan nan nan nan\n",
            " nan nan nan nan nan nan nan nan nan nan]\n",
            "[nan nan nan nan nan nan nan nan nan nan nan nan nan nan nan nan nan nan\n",
            " nan nan nan nan nan nan nan nan nan nan nan nan nan nan nan nan nan nan\n",
            " nan nan nan nan nan nan nan nan nan nan nan nan nan nan nan nan nan nan\n",
            " nan nan nan nan nan nan nan nan nan nan nan nan nan nan nan nan nan nan\n",
            " nan nan nan nan nan nan nan nan nan nan nan nan nan nan nan nan nan nan\n",
            " nan nan nan nan nan nan nan nan nan nan]\n",
            "[nan nan nan nan nan nan nan nan nan nan nan nan nan nan nan nan nan nan\n",
            " nan nan nan nan nan nan nan nan nan nan nan nan nan nan nan nan nan nan\n",
            " nan nan nan nan nan nan nan nan nan nan nan nan nan nan nan nan nan nan\n",
            " nan nan nan nan nan nan nan nan nan nan nan nan nan nan nan nan nan nan\n",
            " nan nan nan nan nan nan nan nan nan nan nan nan nan nan nan nan nan nan\n",
            " nan nan nan nan nan nan nan nan nan nan]\n",
            "[nan nan nan nan nan nan nan nan nan nan nan nan nan nan nan nan nan nan\n",
            " nan nan nan nan nan nan nan nan nan nan nan nan nan nan nan nan nan nan\n",
            " nan nan nan nan nan nan nan nan nan nan nan nan nan nan nan nan nan nan\n",
            " nan nan nan nan nan nan nan nan nan nan nan nan nan nan nan nan nan nan\n",
            " nan nan nan nan nan nan nan nan nan nan nan nan nan nan nan nan nan nan\n",
            " nan nan nan nan nan nan nan nan nan nan]\n",
            "[nan nan nan nan nan nan nan nan nan nan nan nan nan nan nan nan nan nan\n",
            " nan nan nan nan nan nan nan nan nan nan nan nan nan nan nan nan nan nan\n",
            " nan nan nan nan nan nan nan nan nan nan nan nan nan nan nan nan nan nan\n",
            " nan nan nan nan nan nan nan nan nan nan nan nan nan nan nan nan nan nan\n",
            " nan nan nan nan nan nan nan nan nan nan nan nan nan nan nan nan nan nan\n",
            " nan nan nan nan nan nan nan nan nan nan]\n",
            "[nan nan nan nan nan nan nan nan nan nan nan nan nan nan nan nan nan nan\n",
            " nan nan nan nan nan nan nan nan nan nan nan nan nan nan nan nan nan nan\n",
            " nan nan nan nan nan nan nan nan nan nan nan nan nan nan nan nan nan nan\n",
            " nan nan nan nan nan nan nan nan nan nan nan nan nan nan nan nan nan nan\n",
            " nan nan nan nan nan nan nan nan nan nan nan nan nan nan nan nan nan nan\n",
            " nan nan nan nan nan nan nan nan nan nan]\n",
            "[nan nan nan nan nan nan nan nan nan nan nan nan nan nan nan nan nan nan\n",
            " nan nan nan nan nan nan nan nan nan nan nan nan nan nan nan nan nan nan\n",
            " nan nan nan nan nan nan nan nan nan nan nan nan nan nan nan nan nan nan\n",
            " nan nan nan nan nan nan nan nan nan nan nan nan nan nan nan nan nan nan\n",
            " nan nan nan nan nan nan nan nan nan nan nan nan nan nan nan nan nan nan\n",
            " nan nan nan nan nan nan nan nan nan nan]\n",
            "[nan nan nan nan nan nan nan nan nan nan nan nan nan nan nan nan nan nan\n",
            " nan nan nan nan nan nan nan nan nan nan nan nan nan nan nan nan nan nan\n",
            " nan nan nan nan nan nan nan nan nan nan nan nan nan nan nan nan nan nan\n",
            " nan nan nan nan nan nan nan nan nan nan nan nan nan nan nan nan nan nan\n",
            " nan nan nan nan nan nan nan nan nan nan nan nan nan nan nan nan nan nan\n",
            " nan nan nan nan nan nan nan nan nan nan]\n",
            "[nan nan nan nan nan nan nan nan nan nan nan nan nan nan nan nan nan nan\n",
            " nan nan nan nan nan nan nan nan nan nan nan nan nan nan nan nan nan nan\n",
            " nan nan nan nan nan nan nan nan nan nan nan nan nan nan nan nan nan nan\n",
            " nan nan nan nan nan nan nan nan nan nan nan nan nan nan nan nan nan nan\n",
            " nan nan nan nan nan nan nan nan nan nan nan nan nan nan nan nan nan nan\n",
            " nan nan nan nan nan nan nan nan nan nan]\n"
          ]
        },
        {
          "output_type": "stream",
          "name": "stderr",
          "text": [
            "<ipython-input-62-06fc5f4cebfc>:25: RuntimeWarning: overflow encountered in exp\n",
            "  train_log_likelihood=np.sum(theta[train_data]-np.log(np.sum(np.exp(theta))))\n",
            "<ipython-input-62-06fc5f4cebfc>:26: RuntimeWarning: overflow encountered in exp\n",
            "  test_log_likelihood=np.sum(theta[test_data]-np.log(np.sum(np.exp(theta))))\n",
            "<ipython-input-62-06fc5f4cebfc>:22: RuntimeWarning: overflow encountered in exp\n",
            "  exp_theta=np.exp(theta)\n",
            "<ipython-input-62-06fc5f4cebfc>:23: RuntimeWarning: invalid value encountered in divide\n",
            "  theta+=.05*(counts-exp_theta/np.sum(exp_theta))\n"
          ]
        },
        {
          "output_type": "error",
          "ename": "AssertionError",
          "evalue": "Distribution sums to nan != 1",
          "traceback": [
            "\u001b[0;31m---------------------------------------------------------------------------\u001b[0m",
            "\u001b[0;31mAssertionError\u001b[0m                            Traceback (most recent call last)",
            "\u001b[0;32m<ipython-input-64-589f06179dc3>\u001b[0m in \u001b[0;36m<cell line: 1>\u001b[0;34m()\u001b[0m\n\u001b[0;32m----> 1\u001b[0;31m \u001b[0mq1_save_results\u001b[0m\u001b[0;34m(\u001b[0m\u001b[0;36m2\u001b[0m\u001b[0;34m,\u001b[0m \u001b[0;34m'a'\u001b[0m\u001b[0;34m,\u001b[0m \u001b[0mq1_a\u001b[0m\u001b[0;34m)\u001b[0m\u001b[0;34m\u001b[0m\u001b[0;34m\u001b[0m\u001b[0m\n\u001b[0m",
            "\u001b[0;32m/usr/local/lib/python3.10/dist-packages/deepul/hw1_helper.py\u001b[0m in \u001b[0;36mq1_save_results\u001b[0;34m(dset_type, part, fn)\u001b[0m\n\u001b[1;32m     78\u001b[0m \u001b[0;34m\u001b[0m\u001b[0m\n\u001b[1;32m     79\u001b[0m     \u001b[0mtrain_losses\u001b[0m\u001b[0;34m,\u001b[0m \u001b[0mtest_losses\u001b[0m\u001b[0;34m,\u001b[0m \u001b[0mdistribution\u001b[0m \u001b[0;34m=\u001b[0m \u001b[0mfn\u001b[0m\u001b[0;34m(\u001b[0m\u001b[0mtrain_data\u001b[0m\u001b[0;34m,\u001b[0m \u001b[0mtest_data\u001b[0m\u001b[0;34m,\u001b[0m \u001b[0md\u001b[0m\u001b[0;34m,\u001b[0m \u001b[0mdset_type\u001b[0m\u001b[0;34m)\u001b[0m\u001b[0;34m\u001b[0m\u001b[0;34m\u001b[0m\u001b[0m\n\u001b[0;32m---> 80\u001b[0;31m     assert np.allclose(\n\u001b[0m\u001b[1;32m     81\u001b[0m         \u001b[0mnp\u001b[0m\u001b[0;34m.\u001b[0m\u001b[0msum\u001b[0m\u001b[0;34m(\u001b[0m\u001b[0mdistribution\u001b[0m\u001b[0;34m)\u001b[0m\u001b[0;34m,\u001b[0m \u001b[0;36m1\u001b[0m\u001b[0;34m\u001b[0m\u001b[0;34m\u001b[0m\u001b[0m\n\u001b[1;32m     82\u001b[0m     ), f\"Distribution sums to {np.sum(distribution)} != 1\"\n",
            "\u001b[0;31mAssertionError\u001b[0m: Distribution sums to nan != 1"
          ]
        }
      ],
      "source": [
        "q1_save_results(2, 'a', q1_a)"
      ]
    },
    {
      "cell_type": "markdown",
      "metadata": {
        "id": "DiyFXlj0rfcr"
      },
      "source": [
        "## Part (b) Fitting Discretized Mixture of Logistics\n",
        "\n",
        "Let us model $p_\\theta(x)$ as a **discretized** mixture of 4 logistics such that $p_\\theta(x) = \\sum_{i=1}^4 \\pi_i[\\sigma((x+0.5 - \\mu_i)/s_i) - \\sigma((x-0.5-\\mu_i)/s_i)]$\n",
        "\n",
        "For the edge case of when $x = 0$, we replace $x-0.5$ by $-\\infty$, and for $x = 99$, we replace $x+0.5$ by $\\infty$.\n",
        "\n",
        "You may find the [PixelCNN++](https://arxiv.org/abs/1701.05517) helpful for more information on discretized mixture of logistics.\n",
        "\n",
        "**Provide the same set of corresponding deliverables as part (a)**"
      ]
    },
    {
      "cell_type": "markdown",
      "metadata": {
        "id": "f4dnQIg_TDx6"
      },
      "source": [
        "Fill out the function below and return the necessary arguments. Feel free to create more cells if need be."
      ]
    },
    {
      "cell_type": "code",
      "execution_count": null,
      "metadata": {
        "id": "uAvMQDJJrjNo"
      },
      "outputs": [],
      "source": [
        "def q1_b(train_data, test_data, d, dset_id):\n",
        "  \"\"\"\n",
        "  train_data: An (n_train,) numpy array of integers in {0, ..., d-1}\n",
        "  test_data: An (n_test,) numpy array of integers in {0, .., d-1}\n",
        "  d: The number of possible discrete values for random variable x\n",
        "  dset_id: An identifying number of which dataset is given (1 or 2). Most likely\n",
        "           used to set different hyperparameters for different datasets\n",
        "\n",
        "  Returns\n",
        "  - a (# of training iterations,) numpy array of train_losses evaluated every minibatch\n",
        "  - a (# of epochs + 1,) numpy array of test_losses evaluated once at initialization and after each epoch\n",
        "  - a numpy array of size (d,) of model probabilities\n",
        "  \"\"\"\n",
        "  return train_losses, test_losses, distribution"
      ]
    },
    {
      "cell_type": "markdown",
      "metadata": {
        "id": "VwZyhlewTHH4"
      },
      "source": [
        "### Results\n",
        "\n",
        "Once you've implemented `q1_b`, execute the cells below to visualize and save your results\n",
        "\n"
      ]
    },
    {
      "cell_type": "code",
      "execution_count": null,
      "metadata": {
        "id": "wnnQORaG6Ouf"
      },
      "outputs": [],
      "source": [
        "q1_save_results(1, 'b', q1_b)"
      ]
    },
    {
      "cell_type": "code",
      "execution_count": null,
      "metadata": {
        "id": "1jLGoDa46RM6"
      },
      "outputs": [],
      "source": [
        "q1_save_results(2, 'b', q1_b)"
      ]
    },
    {
      "cell_type": "markdown",
      "metadata": {
        "id": "dP8lmmk7Xrct"
      },
      "source": [
        "# Question 2 PixelCNNs"
      ]
    },
    {
      "cell_type": "markdown",
      "metadata": {
        "id": "4wnyhDNqcAcw"
      },
      "source": [
        "Now, you will train more powerful PixelCNN models on the shapes dataset and MNIST. In addition, we will extend to modeling colored datasets.\n",
        "\n",
        "Run the cell below to visualize the two datasets binary datasets"
      ]
    },
    {
      "cell_type": "code",
      "execution_count": null,
      "metadata": {
        "id": "hvmQ0S_y2YzR"
      },
      "outputs": [],
      "source": [
        "visualize_q2a_data(1)\n",
        "visualize_q2a_data(2)"
      ]
    },
    {
      "cell_type": "markdown",
      "metadata": {
        "id": "50WsEzhx4Uua"
      },
      "source": [
        "## Part (a) PixelCNN on Shapes and MNIST\n",
        "In this part, implement a simple PixelCNN architecture to model binary MNIST and shapes images (same as Q2(b), but with a PixelCNN).\n",
        "\n",
        "We recommend the following network design:\n",
        "* A $7 \\times 7$ masked type A convolution\n",
        "* $5$ $7 \\times 7$ masked type B convolutions\n",
        "* $2$ $1 \\times 1$ masked type B convolutions\n",
        "* Appropriate ReLU nonlinearities in-between\n",
        "* 64 convolutional filters\n",
        "\n",
        "And the following hyperparameters:\n",
        "* Batch size 128\n",
        "* Learning rate $10^{-3}$\n",
        "* 10 epochs\n",
        "* Adam Optimizer (this applies to all PixelCNN models trained in future parts)\n",
        "\n",
        "Your model should output logits, after which you could apply a sigmoid over 1 logit, or a softmax over two logits (either is fine). It may also help to scale your input to $[-1, 1]$ before running it through the network.\n",
        "\n",
        "Training on the shapes dataset should be quick, and MNIST should take around 10 minutes\n",
        "\n",
        "Checkout the Paper for more details: https://arxiv.org/abs/1601.06759\n",
        "\n",
        "**You will provide these deliverables**\n",
        "\n",
        "\n",
        "1.   Over the course of training, record the average negative log-likelihood (nats / dim) of the training data (per minibatch) and test data (for your entire test set). Code is provided that automatically plots the training curves.\n",
        "2.   Report the final test set performance of your final model\n",
        "3. 100 samples from the final trained model\n",
        "\n"
      ]
    },
    {
      "cell_type": "markdown",
      "metadata": {
        "id": "EleefdNuciyc"
      },
      "source": [
        "Fill out the function below and return the necessary arguments. Feel free to create more cells if need be."
      ]
    },
    {
      "cell_type": "code",
      "execution_count": null,
      "metadata": {
        "id": "NWualafa-tpD"
      },
      "outputs": [],
      "source": [
        "def q2_a(train_data, test_data, image_shape, dset_id):\n",
        "  \"\"\"\n",
        "  train_data: A (n_train, H, W, 1) uint8 numpy array of binary images with values in {0, 1}\n",
        "  test_data: A (n_test, H, W, 1) uint8 numpy array of binary images with values in {0, 1}\n",
        "  image_shape: (H, W), height and width of the image\n",
        "  dset_id: An identifying number of which dataset is given (1 or 2). Most likely\n",
        "           used to set different hyperparameters for different datasets\n",
        "\n",
        "  Returns\n",
        "  - a (# of training iterations,) numpy array of train_losses evaluated every minibatch\n",
        "  - a (# of epochs + 1,) numpy array of test_losses evaluated once at initialization and after each epoch\n",
        "  - a numpy array of size (100, H, W, 1) of samples with values in {0, 1}\n",
        "  \"\"\"\n",
        "  return train_losses, test_losses, samples"
      ]
    },
    {
      "cell_type": "markdown",
      "metadata": {
        "id": "v0EPVfz1cpq0"
      },
      "source": [
        "### Results\n",
        "\n",
        "Once you've implemented `q2_a`, execute the cells below to visualize and save your results\n",
        "\n"
      ]
    },
    {
      "cell_type": "code",
      "execution_count": null,
      "metadata": {
        "id": "xNxXqVZpAd_V"
      },
      "outputs": [],
      "source": [
        "q2a_save_results(1, q2_a)"
      ]
    },
    {
      "cell_type": "code",
      "execution_count": null,
      "metadata": {
        "id": "OCyQzhJdAfiJ"
      },
      "outputs": [],
      "source": [
        "q2a_save_results(2, q2_a)"
      ]
    },
    {
      "cell_type": "markdown",
      "metadata": {
        "id": "8J7qlqlODNgL"
      },
      "source": [
        "## Part (b) PixelCNN on Colored Shapes and MNIST: Independent Color Channels\n",
        "\n",
        "For the next part, we'll work with color images (shapes and MNIST). Run the cell below to visualize the dataset."
      ]
    },
    {
      "cell_type": "code",
      "execution_count": null,
      "metadata": {
        "id": "80f_7uZWkDSv"
      },
      "outputs": [],
      "source": [
        "visualize_q2b_data(1)\n",
        "visualize_q2b_data(2)"
      ]
    },
    {
      "cell_type": "markdown",
      "metadata": {
        "id": "3Y6NggR6gmU9"
      },
      "source": [
        "Now, implement a PixelCNN to support RGB color channels (or augment your existing implementation). **First, implement a PixelCNN that assumes color channels as independent.** More formally, we model the following parameterized distribution:\n",
        "\n",
        "$$p_\\theta(x) = \\prod_{i=1}^{HW}\\prod_{c=1}^C p_\\theta(x_i^c | x_{<i})$$\n",
        "\n",
        "Here are some tips that you may find useful for designing and training these models:\n",
        "* You will need a 4-way softmax for every prediction, as opposed to a 256-way softmax in the PixelCNN paper, since the dataset is quantized to two bits per color channel\n",
        "* You can set the number of filters for each convolutions to 120. You can use the ReLU nonlinearity throughout.\n",
        "* Use a stack of 8 residual block architecture from [Figure 5](https://arxiv.org/abs/1601.06759) but with 7 x 7 masked convolutions in the middle instead of 3 x 3 masked convolutions\n",
        "* Consider using [layer normalization](https://arxiv.org/abs/1607.06450) to improve performance. However, be careful to maintain the autoregressive property.\n",
        "* With a learning rate of $10^{-3}$ and a batch size of 128, it should take a few minutes to run on the shapes dataset, and about 50-60 minutes on MNIST.\n",
        "\n",
        "**You will provide these deliverables**\n",
        "\n",
        "\n",
        "1.   Over the course of training, record the average negative log-likelihood (nats / dim) of the training data (per minibatch) and test data (for your entire test set). Code is provided that automatically plots the training curves.\n",
        "2.   Report the final test set performance of your final model\n",
        "3. 100 samples from the final trained model\n",
        "\n"
      ]
    },
    {
      "cell_type": "markdown",
      "metadata": {
        "id": "GwJQG9i1iQOa"
      },
      "source": [
        "Fill out the function below and return the necessary arguments. Feel free to create more cells if need be."
      ]
    },
    {
      "cell_type": "code",
      "execution_count": null,
      "metadata": {
        "id": "NE99xTPJDLM7"
      },
      "outputs": [],
      "source": [
        "def q2_b(train_data, test_data, image_shape, dset_id):\n",
        "  \"\"\"\n",
        "  train_data: A (n_train, H, W, C) uint8 numpy array of color images with values in {0, 1, 2, 3}\n",
        "  test_data: A (n_test, H, W, C) uint8 numpy array of color images with values in {0, 1, 2, 3}\n",
        "  image_shape: (H, W, C), height, width, and # of channels of the image\n",
        "  dset_id: An identifying number of which dataset is given (1 or 2). Most likely\n",
        "           used to set different hyperparameters for different datasets\n",
        "\n",
        "  Returns\n",
        "  - a (# of training iterations,) numpy array of train_losses evaluated every minibatch\n",
        "  - a (# of epochs + 1,) numpy array of test_losses evaluated once at initialization and after each epoch\n",
        "  - a numpy array of size (100, H, W, C) of samples with values in {0, 1, 2, 3}\n",
        "  \"\"\"\n",
        "  return train_losses, test_losses, samples"
      ]
    },
    {
      "cell_type": "markdown",
      "metadata": {
        "id": "mGp2OsLKiToN"
      },
      "source": [
        "### Results\n",
        "\n",
        "Once you've implemented `q2_b`, execute the cells below to visualize and save your results\n",
        "\n"
      ]
    },
    {
      "cell_type": "code",
      "execution_count": null,
      "metadata": {
        "id": "kW-k-59qJaKN"
      },
      "outputs": [],
      "source": [
        "q2b_save_results(1, 'b', q2_b)"
      ]
    },
    {
      "cell_type": "code",
      "execution_count": null,
      "metadata": {
        "id": "It_iPXaZjlk0"
      },
      "outputs": [],
      "source": [
        "q2b_save_results(2, 'b', q2_b)"
      ]
    },
    {
      "cell_type": "markdown",
      "metadata": {
        "id": "LMZLcaHwLNNL"
      },
      "source": [
        "# Question 3: Causal Transformer - iGPT"
      ]
    },
    {
      "cell_type": "markdown",
      "metadata": {
        "id": "vFH6qNaY2YzS"
      },
      "source": [
        "Now we will move onto the current most popular and widespread autoregressive model, the transformer."
      ]
    },
    {
      "cell_type": "markdown",
      "metadata": {
        "id": "SA7oAgVg2YzT"
      },
      "source": [
        "## Part (a) Autoregressive Transformer on Shapes and MNIST\n",
        "In this part, implement a simple Autoregressive Transformer to model binary MNIST and shapes images (same as Q2(a), but with a Transformer).\n",
        "\n",
        "Some additional notes about your transformer implementation:\n",
        " * iGPT uses learned positional encodings. We recommend to use those here as well. However, you may also use sinusoidal positional encodings if you wish (see the [Attention is All You Need](https://arxiv.org/abs/1706.03762) paper)\n",
        " * Autoregressive transformer always predicts the **next** token, give prior tokens. iGPT has a special **\\<bos\\>** or beginning of sequence token at the start of every sequence every image. Make sure to include this in your implementation as well. You can generate unconditional sample by conditioning with the **\\<bos\\>** token.\n",
        " * While dropout is a common feature in transformer models, you do not need to add it (but may if you wish!).\n",
        " * Prebuilt transformers exist in some frameworks (i.e. pytorch). Don't just use an off the shelf implementation as the point of the exercise is to better understand the transformer architecture. Building the transformer from the ground up (use primitives such as Linear/Dense layers, LayerNorm, GeLU, Embedding)\n",
        " * Learning rate warmup and cos learning rate decay are often used when training transformers to improve training stability and improve performance. See if this helps your model! Try 1000 steps of warmup with a cosine learning rate decay.\n",
        "\n",
        "Paper references\n",
        "* [Attention Is All You Need](https://arxiv.org/abs/1706.03762)\n",
        "* [Generative Pretraining from Pixels](https://cdn.openai.com/papers/Generative_Pretraining_from_Pixels_V2.pdf)\n",
        "* [Language Models are Unsupervised Multitask Learners](https://cdn.openai.com/better-language-models/language_models_are_unsupervised_multitask_learners.pdf)\n",
        "\n",
        "We recommend the following network design parameters:\n",
        "* $d_{model}$: 128\n",
        "* heads: 4\n",
        "* layers: 2\n",
        "* GeLU nonlinearities\n",
        "\n",
        "And the following hyperparameters:\n",
        "* Batch size: 64 or 32 or 16 (whichever fits in your GPU)\n",
        "* Learning rate: $10^{-3}$\n",
        "* 15 epochs or more\n",
        "* Adam Optimizer (this applies to all Transformers models trained in future parts)\n",
        "\n",
        "**You will provide these deliverables**\n",
        "\n",
        "1. Over the course of training, record the average negative log-likelihood (nats / dim) of the training data (per minibatch) and test data (for your entire test set). Code is provided that automatically plots the training curves.\n",
        "2. Report the final test set performance of your final model\n",
        "3. 100 samples from the final trained model\n",
        "\n"
      ]
    },
    {
      "cell_type": "code",
      "execution_count": null,
      "metadata": {
        "id": "gnHINNYr2YzT"
      },
      "outputs": [],
      "source": [
        "def q3_a(train_data, test_data, image_shape, dset_id):\n",
        "  \"\"\"\n",
        "  train_data: A (n_train, H, W, 1) uint8 numpy array of color images with values in {0, 1}\n",
        "  test_data: A (n_test, H, W, 1) uint8 numpy array of color images with values in {0, 1}\n",
        "  image_shape: (H, W, 1), height, width, and # of channels of the image\n",
        "  dset_id: An identifying number of which dataset is given (1 or 2). Most likely\n",
        "           used to set different hyperparameters for different datasets\n",
        "\n",
        "  Returns\n",
        "  - a (# of training iterations,) numpy array of train_losses evaluated every minibatch\n",
        "  - a (# of epochs + 1,) numpy array of test_losses evaluated once at initialization and after each epoch\n",
        "  - a numpy array of size (100, H, W, 1) of samples with values in {0, 1}\n",
        "  \"\"\"\n",
        "  return train_losses, test_losses, samples"
      ]
    },
    {
      "cell_type": "markdown",
      "metadata": {
        "id": "51zCllb12YzT"
      },
      "source": [
        "### Results\n",
        "\n",
        "Once you've implemented `q3_a`, execute the cells below to visualize and save your results"
      ]
    },
    {
      "cell_type": "code",
      "execution_count": null,
      "metadata": {
        "id": "Ey9U7Lq42YzT"
      },
      "outputs": [],
      "source": [
        "q3ab_save_results(1, 'a', q3_a)"
      ]
    },
    {
      "cell_type": "code",
      "execution_count": null,
      "metadata": {
        "id": "7z0gQjqg2YzT"
      },
      "outputs": [],
      "source": [
        "q3ab_save_results(2, 'a', q3_a)"
      ]
    },
    {
      "cell_type": "markdown",
      "metadata": {
        "id": "xt4LkYKf2YzT"
      },
      "source": [
        "## Part (b) iGPT on Colored Shapes and MNIST\n",
        "\n",
        "Now, implement an iGPT that models color. In order to reduce the length of token sequences, iGPT models each RGB pixel as a **single** token. This effectively reduces the context length from H*W*C to just H*W. iGPT does this through a k-means clustering approach. Because our images only each can only take on 4 values (2 bits) per channel, we can represent each pixel with 64 values (6 bits). Convert the dataset into an image of tokens and train iGPT on the colored shapes and MNIST dataset.\n",
        "\n",
        "Checkout the iGPT paper for more details: [Generative Pretraining from Pixels](https://cdn.openai.com/papers/Generative_Pretraining_from_Pixels_V2.pdf)\n",
        "\n",
        "Training times and hyperparameter settings should be the same as part (a), except train for longer (15 epochs)\n",
        "\n",
        "**You will provide these deliverables**\n",
        "\n",
        "1.   Over the course of training, record the average negative log-likelihood (nats / dim) of the training data (per minibatch) and test data (for your entire test set). Code is provided that automatically plots the training curves.\n",
        "2.   Report the final test set performance of your final model\n",
        "3. 100 samples from the final trained model\n"
      ]
    },
    {
      "cell_type": "code",
      "execution_count": null,
      "metadata": {
        "id": "1RdYDeDA2YzT"
      },
      "outputs": [],
      "source": [
        "def q3_b(train_data, test_data, image_shape, dset_id):\n",
        "  \"\"\"\n",
        "  train_data: A (n_train, H, W, C) uint8 numpy array of color images with values in {0, 1, 2, 3}\n",
        "  test_data: A (n_test, H, W, C) uint8 numpy array of color images with values in {0, 1, 2, 3}\n",
        "  image_shape: (H, W, C), height, width, and # of channels of the image\n",
        "  dset_id: An identifying number of which dataset is given (1 or 2). Most likely\n",
        "           used to set different hyperparameters for different datasets\n",
        "\n",
        "  Returns\n",
        "  - a (# of training iterations,) numpy array of train_losses evaluated every minibatch\n",
        "  - a (# of epochs + 1,) numpy array of test_losses evaluated once at initialization and after each epoch\n",
        "  - a numpy array of size (100, H, W, C) of samples with values in {0, 1, 2, 3}\n",
        "  \"\"\"\n",
        "  return train_losses, test_losses, samples"
      ]
    },
    {
      "cell_type": "markdown",
      "metadata": {
        "id": "gXdw-_E92YzT"
      },
      "source": [
        "### Results\n",
        "\n",
        "Once you've implemented `q3_b`, execute the cells below to visualize and save your results"
      ]
    },
    {
      "cell_type": "code",
      "execution_count": null,
      "metadata": {
        "id": "Mz15Q-lt2YzT"
      },
      "outputs": [],
      "source": [
        "q3ab_save_results(1, 'b', q3_b)"
      ]
    },
    {
      "cell_type": "code",
      "execution_count": null,
      "metadata": {
        "id": "JPxCeQ7j2YzT"
      },
      "outputs": [],
      "source": [
        "q3ab_save_results(2, 'b', q3_b)"
      ]
    },
    {
      "cell_type": "markdown",
      "metadata": {
        "id": "9RUL9XNk2YzT"
      },
      "source": [
        "## Part (c) K, V Caching for Improved Inference\n",
        "You may have noticed that generation from the transformer is quite slow. Part of this is just due to the autoregressive nature. However, another part is due to some computational inefficiency. At each forward pass of the model, we are performing repeat computation of the past sequence. Specifically, we can cache the key and values at the multi attention layer to more quickly predict at each step.\n",
        "\n",
        "In self-attention, a sequence is processed by generating three vectors for each element in the sequence: a Query (Q), a Key (K), and a Value (V). These vectors are then used to compute attention scores and subsequently the output of the attention layer.\n",
        "Mathematically, this can be represented as:\n",
        " * For each index $i$, compute $Q_i$, $K_i$, $V_i$ for the current element\n",
        " * Retrieve $K_{<i}$ and $V_{<i}$ from the cache (where $<i$ denotes all indices before the current one)\n",
        " * Compute the attention output using $Q_i$, $[K_{<i}, K_i]$, $[V_{<i}, V_i]$\n",
        "\n",
        "\n",
        "Next implement caching for your transformer to make inference more efficient by modifying your self attention. Use caching for inference in the future problems for faster generation! (Note caching is only used during inference). You will use the same dataset as in part B, dataset 2 of this question (colored mnist). No training is required in this section, feel free to reuse the model you trained in part B, dataset 2.\n",
        "\n",
        "**You will provide these deliverables**\n",
        "\n",
        "1. Over the course of inference, measure the time for the forward pass over the total sequence length with and without caching.\n",
        "3. 100 samples from the final trained model using the caching inference pipeline.\n",
        "\n"
      ]
    },
    {
      "cell_type": "code",
      "execution_count": null,
      "metadata": {
        "id": "-gFrpqVF2YzU"
      },
      "outputs": [],
      "source": [
        "def q3_c(train_data, test_data, image_shape, dset_id):\n",
        "  \"\"\"\n",
        "  train_data: A (n_train, H, W, C) uint8 numpy array of color images with values in {0, 1, 2, 3}\n",
        "  test_data: A (n_test, H, W, C) uint8 numpy array of color images with values in {0, 1, 2, 3}\n",
        "  image_shape: (H, W, C), height, width, and # of channels of the image\n",
        "  dset_id: An identifying number of which dataset is given (1 or 2). Most likely\n",
        "           used to set different hyperparameters for different datasets\n",
        "\n",
        "  Returns\n",
        "  - a (# sampling steps,) numpy array of time per sampling iteration, without caching\n",
        "  - a (# sampling steps,) numpy array of time per sampling iteration, with without caching\n",
        "  - a numpy array of size (100, H, C, W) of samples with values in {0, 1, 2, 3} (sample generated without caching)\n",
        "  - a numpy array of size (100, H, C, W) of samples with values in {0, 1, 2, 3} (sample generated with caching)\n",
        "  \"\"\"\n",
        "  return time_list_no_cache, time_list_with_cache, samples_no_cache, samples_with_cache"
      ]
    },
    {
      "cell_type": "markdown",
      "metadata": {
        "id": "N1nfhOWp2YzU"
      },
      "source": [
        "### Results\n",
        "\n",
        "Once you've implemented `q3_c`, execute the cells below to visualize and save your results\n",
        "\n"
      ]
    },
    {
      "cell_type": "code",
      "execution_count": null,
      "metadata": {
        "id": "DpBLcGfP2YzU"
      },
      "outputs": [],
      "source": [
        "q3c_save_results(2, q3_c)"
      ]
    },
    {
      "cell_type": "markdown",
      "metadata": {
        "id": "8GaI926s2YzU"
      },
      "source": [
        "# Question 4: Causal Transformer: Tokenized Images"
      ]
    },
    {
      "cell_type": "markdown",
      "metadata": {
        "id": "2NGNND4t2YzU"
      },
      "source": [
        "## Image Tokenization with Vector Quanization"
      ]
    },
    {
      "cell_type": "markdown",
      "metadata": {
        "id": "VtlNpivT2YzU"
      },
      "source": [
        "## Part (a) Image Quantization\n",
        "\n",
        "Above, we implemented iGPT, which autoregressivly predicts raw pixels. Transformers have quadratic complexity in the sequence length which prevents this naive approach from scaling well to large images.\n",
        "\n",
        "The space of natural images often contains very correlated information. This suggests we can learn a reduced representation. VQVAE is a method that does just that, learning to map images to a more compact discrete set of tokens. We will cover this method in more detail in future lectures. The only thing you need to know now is that we can learn an encoder (and corresponding decoder), which can extract a discrete representation from an image.\n",
        "\n",
        "If you are curious, checkout the VQVAE paper to learn more: https://arxiv.org/abs/1711.00937 (we will cover this in a future lecture though!)\n",
        "\n",
        "In this part, we provide a pre-trained VQVAE model, which consists of:\n",
        " * encoder to tokenize the images\n",
        " * the decoder to recover the image\n",
        " * a token vocabulary of VQVAE_MODEL.n_embeddings\n",
        "\n",
        "Below is the code for loading the VQ model. Note that VQVAE encoding process is lossy, so the decoded images will not be the exact same as the input. Some blurriness in the recovered image is to be expected. The docstrings of the relevant methods you will need for the VQVAE_MODEL are provided below for your convenience.\n",
        "\n",
        "We will use 2 colored mnist datasets in this part. The first is the same dataset used in previous parts. The second, hads a colored digit on a differently colored background. We will call these datasets Colored MNIST and Colored MNIST v2. Note that the vqvae is trained per dataset.\n",
        "\n",
        "**You will provide these deliverables**\n",
        "\n",
        "1. Use the provided encoder model to quantize the images then inspect the recovered images by applying the decoder for each of the two datasets"
      ]
    },
    {
      "cell_type": "code",
      "execution_count": null,
      "metadata": {
        "id": "CYVuNzl72YzU"
      },
      "outputs": [],
      "source": [
        "# @property\n",
        "# def n_embeddings(self) -> int:\n",
        "#     \"\"\"The size of the token vocabulary\"\"\"\n",
        "#\n",
        "# def quantize(self, x: np.ndarray) -> np.ndarray:\n",
        "#     \"\"\"Quantize an image x.\n",
        "#\n",
        "#     Args:\n",
        "#         x (np.ndarray, dtype=int): Image to quantize. shape=(batch_size, 28, 28, 3). Values in [0, 3].\n",
        "#\n",
        "#     Returns:\n",
        "#         np.ndarray: Quantized image. shape=(batch_size, 7, 7). Values in [0, n_embeddings]\n",
        "#     \"\"\"\n",
        "#\n",
        "# def decode(self, z_index: np.ndarray) -> np.ndarray:\n",
        "#     \"\"\"Decode a quantized image.\n",
        "#\n",
        "#     Args:\n",
        "#         z_index (np.ndarray, dtype=int): Quantized image. shape=(batch_size, 7, 7). Values in [0, n_embeddings].\n",
        "#\n",
        "#     Returns:\n",
        "#         np.ndarray: Decoded image. shape=(batch_size, 28, 28, 3). Values in [0, 3].\n",
        "#     \"\"\"\n",
        "#"
      ]
    },
    {
      "cell_type": "code",
      "execution_count": null,
      "metadata": {
        "id": "QUtCYRs52YzU"
      },
      "outputs": [],
      "source": [
        "def q4_a(images, vqvae):\n",
        "  \"\"\"\n",
        "  images: (B, H, W, C), the images to pass through the encoder and decoder of the vqvae\n",
        "  vqvae: a vqvae model, trained on the relevant dataset\n",
        "\n",
        "  Returns\n",
        "  - a numpy array of size (2, H, W, C) of the decoded image\n",
        "  \"\"\"\n",
        "  return autoencoded_images"
      ]
    },
    {
      "cell_type": "code",
      "execution_count": null,
      "metadata": {
        "id": "0GoMgvm72YzU"
      },
      "outputs": [],
      "source": [
        "q4a_save_results(1, q4_a)"
      ]
    },
    {
      "cell_type": "code",
      "execution_count": null,
      "metadata": {
        "id": "aPmZMoka2YzU"
      },
      "outputs": [],
      "source": [
        "q4a_save_results(2, q4_a)"
      ]
    },
    {
      "cell_type": "markdown",
      "metadata": {
        "id": "ASLDyR3t2YzU"
      },
      "source": [
        "## Part (b) Autoregressive Transformer on Colored Shapes and MNIST with Vector Quantization\n",
        "\n",
        "We can use the VQVAE to tokenize an image dataset. This will result in a much smaller sequence length than the approach we tried in Question 3(b). For this part, train a transformer on the dataset tokenized by the VQVAE.\n",
        "\n",
        "This is a simplified version of the approach used in VQGAN [VQGAN](https://arxiv.org/abs/2012.09841) -> Section 3.2: Learning the Composition of Images with Transformers (Again, we will cover this in more detail in a future lecture!)\n",
        "\n",
        "Update the following hyperparameters:\n",
        "* layers: 4 (we can train a bigger transformer now since less memory is used per input!)\n",
        "* 30 epochs\n",
        "\n",
        "**You will provide these deliverables**\n",
        "\n",
        "1. Over the course of training, record the average negative log-likelihood (nats / dim) of the training data (per minibatch) and test data (for your entire test set). Code is provided that automatically plots the training curves.\n",
        "2. Report the final test set performance of your final model\n",
        "3. 100 samples from the final trained model"
      ]
    },
    {
      "cell_type": "code",
      "execution_count": null,
      "metadata": {
        "id": "KZ18RYaR2YzU"
      },
      "outputs": [],
      "source": [
        "def q4_b(train_data, test_data, image_shape, dset_id, vqvae):\n",
        "  \"\"\"\n",
        "  train_data: A (n_train, H, W, C) uint8 numpy array of color images with values in {0, 1, 2, 3}\n",
        "  test_data: A (n_test, H, W, C) uint8 numpy array of color images with values in {0, 1, 2, 3}\n",
        "  image_shape: (H, W, C), height, width, and # of channels of the image\n",
        "  dset_id: An identifying number of which dataset is given (1 or 2). Most likely\n",
        "           used to set different hyperparameters for different datasets\n",
        "  vqvae: a vqvae model, trained on dataset dset_id\n",
        "\n",
        "  Returns\n",
        "  - a (# of training iterations,) numpy array of train_losses evaluated every minibatch\n",
        "  - a (# of epochs + 1,) numpy array of test_losses evaluated once at initialization and after each epoch\n",
        "  - a numpy array of size (100, H, C, W) of samples with values in {0, 1, 2, 3}\n",
        "  \"\"\"\n",
        "  return train_losses, test_losses, samples"
      ]
    },
    {
      "cell_type": "markdown",
      "metadata": {
        "id": "kxyfJyem2YzU"
      },
      "source": [
        "### Results\n",
        "\n",
        "Once you've implemented `q4_b`, execute the cells below to visualize and save your results\n",
        "\n"
      ]
    },
    {
      "cell_type": "code",
      "execution_count": null,
      "metadata": {
        "id": "zapQiM6L2YzV"
      },
      "outputs": [],
      "source": [
        "q4b_save_results(1, q4_b)"
      ]
    },
    {
      "cell_type": "code",
      "execution_count": null,
      "metadata": {
        "id": "ym2Du3CB2YzV"
      },
      "outputs": [],
      "source": [
        "q4b_save_results(2, q4_b)"
      ]
    },
    {
      "cell_type": "markdown",
      "metadata": {
        "id": "Y32VEdAs2YzV"
      },
      "source": [
        "# Question 5: Causal Transformer: Text"
      ]
    },
    {
      "cell_type": "markdown",
      "metadata": {
        "id": "CMKhIyF52YzV"
      },
      "source": [
        "Now lets consider text! You are probably already fimilar with autoregressive transformers for text, now more commonly known as Large Language Modesl (LLMs).\n",
        "We will now implement a simplified version.\n",
        "\n",
        "We will be detailing with a [small poetry dataset](https://huggingface.co/datasets/merve/poetry). See some of the data below."
      ]
    },
    {
      "cell_type": "code",
      "execution_count": null,
      "metadata": {
        "id": "YcAZPvPQ2YzV"
      },
      "outputs": [],
      "source": [
        "data = visualize_q5_data()"
      ]
    },
    {
      "cell_type": "markdown",
      "metadata": {
        "id": "BTEJGoCQ2YzV"
      },
      "source": [
        "## Part (a) Modeling Text\n",
        "Train a transformer on the poetry dataset.\n",
        "\n",
        "Data Preprocessing:\n",
        "* We will use a simple method to tokenize the data. We will convert each unique character into a token. (Current LLMs use more sophisticated tokenizers, most commonly, [byte-pair encoding](https://huggingface.co/learn/nlp-course/chapter6/5?fw=pt))\n",
        "* Previously we have leveraged a **\\<bos\\>** as part of the model, just like iGPT. For text, we may not always sample a sequence that starts at the beginning. Instead, we will add the **\\<bos\\>** token to the beginning of every sequence in the dataset, and remove the **\\<bos\\>** token from the model.\n",
        "* Another problem is that the model must know when to stop sampling. This is done by appending an **\\<eos\\>**, or end of sequence token at the end of every sequence in the dataset.\n",
        "* We can now convert the sequence into subsequences of size context_length, for training!\n",
        "\n",
        "We recommend the following hyperparameters:\n",
        "* Sequence length: 128\n",
        "* 5 epochs\n",
        "\n",
        "**You will provide these deliverables**\n",
        "\n",
        "1. Over the course of training, record the average negative log-likelihood (nats / dim) of the training data (per minibatch) and test data (for your entire test set). Code is provided that automatically plots the training curves.\n",
        "2. Report the final test set performance of your final model\n",
        "3. Provide **5 unconditional samples** of **128 characters** showcasing the model text generation capabilities (text samples should stop after **\\<eos\\>**. Text after **\\<eos\\>** can be removed in post processing)"
      ]
    },
    {
      "cell_type": "code",
      "execution_count": null,
      "metadata": {
        "id": "7LgUZ3n92YzV"
      },
      "outputs": [],
      "source": [
        "import torch.utils.data as data\n",
        "def q5_a(train_text, test_text):\n",
        "  \"\"\"\n",
        "  train_text: list[str] Train text sequences.\n",
        "  test_text: list[str] Test text sequences.\n",
        "\n",
        "  Returns\n",
        "  - a (# of training iterations,) numpy array of train_losses evaluated every minibatch\n",
        "  - a (# of epochs + 1,) numpy array of test_losses evaluated once at initialization and after each epoch\n",
        "  - a list of 5 (str), 5 generated samples from the model.\n",
        "  \"\"\"\n",
        "  return train_losses, test_losses, text_samples"
      ]
    },
    {
      "cell_type": "markdown",
      "metadata": {
        "id": "jWWuWzIQ2YzV"
      },
      "source": [
        "### Results\n",
        "\n",
        "Once you've implemented `q5_a`, execute the cells below to visualize and save your results\n",
        "\n"
      ]
    },
    {
      "cell_type": "code",
      "execution_count": null,
      "metadata": {
        "id": "91wgaLjV2YzV"
      },
      "outputs": [],
      "source": [
        "q5a_save_results(q5_a)"
      ]
    },
    {
      "cell_type": "markdown",
      "metadata": {
        "id": "fOyqciLx2YzV"
      },
      "source": [
        "# Question 6: Causal Transformer: Multimodal"
      ]
    },
    {
      "cell_type": "markdown",
      "metadata": {
        "id": "sxBU-hsF2YzV"
      },
      "source": [
        "So far, we have been dealing only with autoregressive generation of a single modality. Now we will train a model that operates on multiple modalities!\n",
        "\n",
        "We will use the text labeled colored MNIST dataset, which has a text description of the MNIST image. Run the cell below to visualize the data along with the text annotation. This is the Colored MNIST v2 dataset, which also comes with these text labels."
      ]
    },
    {
      "cell_type": "code",
      "execution_count": null,
      "metadata": {
        "id": "JrEK3pVf2YzV"
      },
      "outputs": [],
      "source": [
        "visualize_q6_data()"
      ]
    },
    {
      "cell_type": "markdown",
      "metadata": {
        "id": "Sl_EcvCk2YzV"
      },
      "source": [
        "## Part (a) Multimodal Text and Image Generation\n",
        "Implement and train an autoregressive (AR) model capable of handling both text and image data. The model should be designed to process sequences composed of concatenated text and image tokens in both orders (text followed by images and images followed by text). Additionally, the model should be capable of generating unconditional text and image samples.\n",
        "\n",
        "Data Preprocessing:\n",
        "* Text Tokens: Map each unique word in the text data to a unique token. (Note that all text descriptions contain the exact same amount of words. This simplifies text processing, as you won't have to deal with sequences of different lengths as in Question 5)\n",
        "* Image Tokens: Quantize the image data into tokens using the VQVAE tokenizer from Problem 4.\n",
        "* In this problem, we have 2 modalities. Introduce an **\\<end of text\\>** token and an **\\<end of image\\>** token. After seeing such a token, the model should switch to sampling the next modality.\n",
        "* Formulate batches as sequences of concat([**\\<end of image\\>**, text_tokens, **\\<end of text\\>**, image_tokens]) and concat([**\\<end of text\\>**, image_tokens, **\\<end of image\\>**, text_tokens]). With a 50/50 split between each ordering.\n",
        "\n",
        "Inference:\n",
        "* During inference, we cannot mix modality tokens. During sampling we can restrict the logits to only be within the relevant modality.\n",
        "* After **\\<end of image\\>**, only allow the model to sample text tokens (including **\\<end of text\\>**)\n",
        "* After **\\<end of text\\>**, only allow the model to sample image tokens (including **\\<end of image\\>**)\n",
        "* At the very start (conditioned on the **\\<bos\\>** token, only allow the model to sample one of (**\\<end of image\\>** or **\\<end of text\\>**))\n",
        "* As the model may not always correctly sample the **\\<end of image\\>** token before the image ends, you may add a rule to force the model to always sample the correct number of image tokens (49 tokens).\n",
        "\n",
        "You can use the same hyperparameters as in 4(b) (but of course, feel free to tune your model to achieve better performance)\n",
        "\n",
        "**You will provide these deliverables**\n",
        "\n",
        "1. Over the course of training, record the average negative log-likelihood (nats / dim) of the training data (per minibatch) and test data (for your entire test set). Code is provided that automatically plots the training curves.\n",
        "2. Report the final test set performance of your final model\n",
        "3. 9 conditional samples based on provided text.\n",
        "4. 9 conditional samples based on provided images.\n",
        "5. 9 unconditional samples showcasing the model's capability in generating standalone text and images."
      ]
    },
    {
      "cell_type": "code",
      "execution_count": null,
      "metadata": {
        "id": "t-12Pq5x2YzW"
      },
      "outputs": [],
      "source": [
        "def q6_a(train_data, test_data, image_shape, train_text, test_text, image_test_prompt, text_test_prompt, vqvae):\n",
        "  \"\"\"\n",
        "  train_data: A (n_train, H, W, C) uint8 numpy array of color images with values in {0, 1, 2, 3}\n",
        "  test_data: A (n_test, H, W, C) uint8 numpy array of color images with values in {0, 1, 2, 3}\n",
        "  image_shape: tuple (H, W, C) The shape of the images in the dataset, indicating height, width, and number of color channels.\n",
        "  train_text: list[str] Text data associated with each training image.\n",
        "  test_text: list[str] Text data associated with each test image.\n",
        "  image_test_prompt: (9, H, W, C) Image data used for generating conditional text samples during testing.\n",
        "  text_test_prompt: list of 9 strings Text prompts used for generating conditional image samples during testing.\n",
        "  vqvae: a vqvae model, trained on the relevant dataset\n",
        "\n",
        "  Returns\n",
        "  - a (# of training iterations,) numpy array of train_losses evaluated every minibatch\n",
        "  - a (# of epochs + 1,) numpy array of test_losses evaluated once at initialization and after each epoch\n",
        "  - a list of 9 (image, text), corresponding to the image conditioned samples\n",
        "  - a list of 9 (image, text), corresponding to the text conditions samples\n",
        "  - a list of 9 (image, text), corresponding to unconditional samples\n",
        "  \"\"\"\n",
        "  return train_losses, test_losses, samples_image_conditioned, samples_text_conditioned, samples_unconditioned"
      ]
    },
    {
      "cell_type": "markdown",
      "metadata": {
        "id": "MVGb05g12YzW"
      },
      "source": [
        "### Results\n",
        "\n",
        "Once you've implemented `q6_a`, execute the cells below to visualize and save your results\n",
        "\n"
      ]
    },
    {
      "cell_type": "code",
      "execution_count": null,
      "metadata": {
        "id": "9unu1FCW2YzW"
      },
      "outputs": [],
      "source": [
        "q6a_save_results(q6_a)"
      ]
    }
  ],
  "metadata": {
    "accelerator": "GPU",
    "colab": {
      "name": " Homework 1 Autoregressive Models (Solutions).ipynb",
      "provenance": [],
      "toc_visible": true,
      "include_colab_link": true
    },
    "kernelspec": {
      "display_name": "Python 3 (ipykernel)",
      "language": "python",
      "name": "python3"
    },
    "language_info": {
      "codemirror_mode": {
        "name": "ipython",
        "version": 3
      },
      "file_extension": ".py",
      "mimetype": "text/x-python",
      "name": "python",
      "nbconvert_exporter": "python",
      "pygments_lexer": "ipython3",
      "version": "3.10.9"
    }
  },
  "nbformat": 4,
  "nbformat_minor": 0
}